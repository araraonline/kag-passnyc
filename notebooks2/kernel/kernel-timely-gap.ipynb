{
 "cells": [
  {
   "cell_type": "markdown",
   "metadata": {},
   "source": [
    "# Will the gap stay the same?\n",
    "\n",
    "In a previous kernel I measured the applicants gap that happened in 2017. Is is better explained in that kernel, but, succintly, this gap is the difference of how many applicants we expected to apply in a certain school vs the amount of applicants that actually applied.\n",
    "\n",
    "A question that lasted in my head, though, is: \"Will this gap be valid when choosing schools in 2018?\"\n",
    "\n",
    "To answer this question, I will do a series of steps:\n",
    "\n",
    "- First, I will calculate the gap of applicants that happened in 2013 to 2016 (we have this data available, but only from a certain region)\n",
    "- Then we can compare the gaps that happened in one year to the other. Can the gaps in one year be used as a reference to the next year?\n",
    "- If the answer to the previous question is yes, we can infer that the gap from 2017 can be useful as a reference for the gap in 2018\n",
    "- And, we are done"
   ]
  },
  {
   "cell_type": "markdown",
   "metadata": {},
   "source": [
    "# Data used\n",
    "\n",
    "The data used in this kernel is quite different from the data used in the last one.\n",
    "\n",
    "We base ourselves in information from Central Harlem:\n",
    "\n",
    "**map from central harlem**\n",
    "\n",
    "Since data is hard to get and we are at the end of the competition, I will facilitate things a bit and use only the New York State test results as parameters to predict the number of SHSAT applicants. This was the best predictor that was found here and, based on local experiments, explains a lot of the desired percentages.\n",
    "\n",
    "**show logistic curve in paper**\n",
    "\n",
    "The model used is gonna be a logistic regression, the number of features is gonna be reduces using a PCA, that will be properly cross-validated before.[1]\n",
    "\n",
    "[1]: This information is present in more detail in the original kernel. From now on I won't explain much of what I'm doing if it is already there."
   ]
  },
  {
   "cell_type": "markdown",
   "metadata": {},
   "source": [
    "Below you can take a look at the data that we are using."
   ]
  },
  {
   "cell_type": "code",
   "execution_count": 1,
   "metadata": {},
   "outputs": [],
   "source": [
    "# show head of data"
   ]
  },
  {
   "cell_type": "markdown",
   "metadata": {},
   "source": [
    "# Calculate gaps of applicants\n",
    "\n",
    "## Cross-validation\n",
    "\n",
    "This time I will use a lower n_splits, because we have less data, and a bigger n_repeats to compensate."
   ]
  },
  {
   "cell_type": "code",
   "execution_count": null,
   "metadata": {},
   "outputs": [],
   "source": [
    "# perform CV"
   ]
  },
  {
   "cell_type": "code",
   "execution_count": 2,
   "metadata": {},
   "outputs": [],
   "source": [
    "# visualize CV"
   ]
  },
  {
   "cell_type": "markdown",
   "metadata": {},
   "source": [
    "One pricipal component works best."
   ]
  },
  {
   "cell_type": "markdown",
   "metadata": {},
   "source": [
    "## Model"
   ]
  },
  {
   "cell_type": "code",
   "execution_count": null,
   "metadata": {},
   "outputs": [],
   "source": []
  },
  {
   "cell_type": "markdown",
   "metadata": {},
   "source": [
    "# Compare gaps across the years\n",
    "\n",
    "Well, we need a way to compare gaps from one year to the other. To do so, I will assume the gap in each school follows a certain formula:\n",
    "\n",
    "$G_y = w \\cdot G_{y-1} + (1 - w) \\cdot B + \\epsilon$\n",
    "\n",
    "Where:\n",
    "\n",
    "- $G_y$ is the gap in the year y\n",
    "- $B$ is the baseline gap of the school\n",
    "- $w$ is a weight used to balance the  past year gap and the baseline\n",
    "- $\\epsilon$ is the error term and denotes noise from students of one year to the other\n",
    "\n",
    "Ideally, we would want to know B. B can indicate a range of factors, like a school not having enough incentive for SHSAT, a trend of underconfidence among students, a good exposure of SHSAT in a school, etc.\n",
    "\n",
    "We can't, however, know the exact value of B. So we use an estimate for it. And I'd argue that the best estimate we have for it is the actual gap that happened in 2017 (that is, when we consider the big dataset). So we can simplify the formula above to:\n",
    "\n",
    "$G_y = G_{y-1} + \\epsilon$\n",
    "\n",
    "And this is what we are gonna base ourselves upon."
   ]
  },
  {
   "cell_type": "code",
   "execution_count": 4,
   "metadata": {},
   "outputs": [],
   "source": [
    "# calculate gaps and errors"
   ]
  },
  {
   "cell_type": "markdown",
   "metadata": {},
   "source": [
    "## Visualizing the gaps across the years\n",
    "\n",
    "First, we will make plots of the gaps from one year to the other at each school. This can show visually what the proposed model says."
   ]
  },
  {
   "cell_type": "code",
   "execution_count": null,
   "metadata": {},
   "outputs": [],
   "source": [
    "# visualize gap across years (use the distribution plots too)"
   ]
  },
  {
   "cell_type": "markdown",
   "metadata": {},
   "source": [
    "While the left plots compares one variable to the other, the right plots present the distribution of errors.\n",
    "\n",
    "As you can see, the distribution of errors follows almost a normal distribution, centered at zero and with standard deviation around 0.07. This is a good indicator, as we can say that, if the gap in a school is 22% one year, the next year this gap will be sopmething around 22% +- 8%.\n",
    "\n",
    "And this means that the gap in one year is indeed somewhat close to the gap in the past year. And the expected gap for the next year is just the gap of the current year. Of course, if we had more data from other years, we could better be able to create a time series model, but, as only data from 2017 is available for all schools, this simple model will suffice.\n",
    "\n",
    "One thing I would like to note is that school way under the diagonal line in the lower-left corner. This corresponds to a given school:"
   ]
  },
  {
   "cell_type": "code",
   "execution_count": null,
   "metadata": {},
   "outputs": [],
   "source": [
    "# show school here"
   ]
  },
  {
   "cell_type": "markdown",
   "metadata": {},
   "source": [
    "We can see that there was some weird shift between the number of applicants in 2015 and 2016 and the model not predicting the gap is exactly what we would expect."
   ]
  },
  {
   "cell_type": "markdown",
   "metadata": {},
   "source": [
    "# Limitations of this approach\n",
    "\n",
    "We used limited data and in a way that is different from the actual 2017 model. Given that this comprehend a much smaller geographic region than the whole city of New York, we can expect that the variance of the error when comprehending all schools may be higher than what was found here.\n",
    "\n",
    "And, what does this error mean? In this model it is just the amount of the gap in one year that cannot be predicted by the previous. We can say, some noise in the student populations, combined of what would be expected of each school."
   ]
  },
  {
   "cell_type": "markdown",
   "metadata": {},
   "source": [
    "# Does this effect the relevance of the \"Predicting the applicants gap\" kernel\n",
    "\n",
    "Well, in a certain way, it adds more uncertainty in the model. Or more acuratelly, it measures uncertainty that was already present there. The important thing to note though, is that, while we have an uncertainty in predicting the gap for next year, this uncertainty is inherent to the system, and having a model that can work, despite this uncertainty, is better than having none.\n",
    "\n",
    "I personally believe the gap can be better estimated as a composite of a given baseline for each school and what happened in the previous years. This baseline would measure certain aspects that cannot be captured in our models, like, how much informed the school is about SHSAT, the confidence of students in it, etc... But, it can't be measured directly and the best estimate we have of it is actually the gap we estimated in 2017.\n",
    "\n",
    "**example of what school would you choose**\n",
    "\n",
    "So, that's it."
   ]
  }
 ],
 "metadata": {
  "kernelspec": {
   "display_name": "Python 3",
   "language": "python",
   "name": "python3"
  },
  "language_info": {
   "codemirror_mode": {
    "name": "ipython",
    "version": 3
   },
   "file_extension": ".py",
   "mimetype": "text/x-python",
   "name": "python",
   "nbconvert_exporter": "python",
   "pygments_lexer": "ipython3",
   "version": "3.6.5"
  }
 },
 "nbformat": 4,
 "nbformat_minor": 2
}
