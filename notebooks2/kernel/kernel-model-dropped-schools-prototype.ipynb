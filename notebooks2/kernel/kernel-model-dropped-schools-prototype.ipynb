{
 "cells": [
  {
   "cell_type": "code",
   "execution_count": 1,
   "metadata": {},
   "outputs": [],
   "source": [
    "import matplotlib.pyplot as plt\n",
    "import numpy as np\n",
    "import pandas as pd\n",
    "import seaborn as sns\n",
    "import statsmodels.api as sm\n",
    "from scipy.special import logit\n",
    "from sklearn.decomposition import PCA\n",
    "from sklearn.metrics import mean_squared_error, median_absolute_error\n",
    "from sklearn.model_selection import RepeatedKFold\n",
    "\n",
    "np.random.seed(1)\n",
    "pd.set_option('display.max_rows', 100)\n",
    "pd.set_option('display.max_columns', None)\n",
    "sns.set_style('whitegrid')"
   ]
  },
  {
   "cell_type": "markdown",
   "metadata": {},
   "source": [
    "# Prepare data"
   ]
  },
  {
   "cell_type": "code",
   "execution_count": 2,
   "metadata": {},
   "outputs": [
    {
     "name": "stdout",
     "output_type": "stream",
     "text": [
      "594 schools\n"
     ]
    }
   ],
   "source": [
    "df = pd.read_pickle('../data/process/schools2017.pkl')\n",
    "print(df.shape[0], \"schools\")"
   ]
  },
  {
   "cell_type": "code",
   "execution_count": 3,
   "metadata": {},
   "outputs": [
    {
     "name": "stdout",
     "output_type": "stream",
     "text": [
      "592 schools after removing bad bad entries\n"
     ]
    }
   ],
   "source": [
    "# drop 2 schools missing everything\n",
    "\n",
    "df = df[df['School Name'].notnull()]\n",
    "print(df.shape[0], \"schools after removing bad bad entries\")"
   ]
  },
  {
   "cell_type": "code",
   "execution_count": 4,
   "metadata": {},
   "outputs": [],
   "source": [
    "df_fit = df[df['% SHSAT Testers'].notnull()]"
   ]
  },
  {
   "cell_type": "code",
   "execution_count": 5,
   "metadata": {},
   "outputs": [],
   "source": [
    "# schools missing ELA\n",
    "bad_ela = df[df['Mean Scale Score - ELA'].isnull()]\n",
    "\n",
    "# schools missing Math\n",
    "bad_math = df[df['Mean Scale Score - Math'].isnull()]\n",
    "\n",
    "# schools missing presence\n",
    "bad_presence = df[df['Percent of Students Chronically Absent'].isnull()]"
   ]
  },
  {
   "cell_type": "markdown",
   "metadata": {},
   "source": [
    "# Create models"
   ]
  },
  {
   "cell_type": "code",
   "execution_count": 6,
   "metadata": {},
   "outputs": [],
   "source": [
    "def cross_validate(inputs, outputs):\n",
    "    # drop rows with NaN\n",
    "    inputs = inputs[\n",
    "        inputs.notnull().all(axis=1) &\n",
    "        outputs.notnull()\n",
    "    ]\n",
    "    outputs = outputs.reindex(inputs.index)\n",
    "    \n",
    "    # cross-validation\n",
    "    cv_results = []\n",
    "    n_splits = 10\n",
    "    n_repeats = 20\n",
    "    for n_components in range(1, inputs.shape[1] + 1):\n",
    "        mae_scores = []\n",
    "        mse_scores = []\n",
    "\n",
    "        x = PCA(n_components).fit_transform(inputs)\n",
    "        x = pd.DataFrame(x, index=inputs.index, columns=[\"PC{}\".format(i) for i in range(1, n_components + 1)])\n",
    "        x['Constant'] = 1\n",
    "        y = outputs.copy()\n",
    "\n",
    "\n",
    "        cv = RepeatedKFold(n_splits, n_repeats, random_state=1)    \n",
    "        for train, test in cv.split(x):\n",
    "            x_train = x.iloc[train]\n",
    "            x_test = x.iloc[test]\n",
    "            y_train = y.iloc[train]\n",
    "            y_test = y.iloc[test]\n",
    "\n",
    "            model = sm.RLM(y_train, x_train)\n",
    "            results = model.fit()\n",
    "            predictions = model.predict(results.params, exog=x_test)\n",
    "            mae = median_absolute_error(y_test, predictions)\n",
    "            mse = mean_squared_error(y_test, predictions)\n",
    "            mae_scores.append(mae)\n",
    "            mse_scores.append(mse)\n",
    "\n",
    "        mae_scores = np.array(mae_scores).reshape(n_repeats, n_splits).mean(axis=1)  # mean of each repeat\n",
    "        mse_scores = np.array(mse_scores).reshape(n_repeats, n_splits).mean(axis=1)  # mean of each repeat\n",
    "\n",
    "        mae_mean = np.mean(mae_scores)\n",
    "        mae_std = np.std(mae_scores)\n",
    "        mse_mean = np.mean(mse_scores)\n",
    "        mse_std = np.std(mse_scores)\n",
    "\n",
    "        cv_result = (n_components, mae_mean, mse_mean, mae_std, mse_std)\n",
    "        cv_results.append(cv_result)\n",
    "\n",
    "    df_columns = ['n_components', 'mae__mean', 'mse__mean', 'mae__std', 'mse__std']\n",
    "    cv_results_df = pd.DataFrame(cv_results, columns=df_columns)\n",
    "    return cv_results_df\n",
    "\n",
    "def visualize_cv(df):\n",
    "    plt.figure()\n",
    "    plt.errorbar(df.n_components, df.mae__mean, df.mae__std, marker='o', label='Median Absolute Error')\n",
    "    plt.legend()\n",
    "\n",
    "    plt.figure()\n",
    "    plt.errorbar(df.n_components, df.mse__mean, df.mse__std, marker='o', label='Mean Squared Error')\n",
    "    plt.legend();"
   ]
  },
  {
   "cell_type": "markdown",
   "metadata": {},
   "source": [
    "## Model 0 - All information available"
   ]
  },
  {
   "cell_type": "code",
   "execution_count": 7,
   "metadata": {},
   "outputs": [],
   "source": [
    "target_rows = df.loc[\n",
    "    df['School Name'].notnull() &\n",
    "    df['Mean Scale Score - ELA'].notnull() &\n",
    "    df['Mean Scale Score - Math'].notnull() &\n",
    "    df['Percent of Students Chronically Absent'].notnull()    \n",
    "]\n",
    "\n",
    "explan_variables = [\n",
    "    'Charter School?',\n",
    "    'Percent Asian',\n",
    "    'Percent Black',\n",
    "    'Percent Hispanic',\n",
    "    'Percent Other',\n",
    "    'Percent English Language Learners',\n",
    "    'Percent Students with Disabilities',\n",
    "    'Economic Need Index',\n",
    "    'Percent of Students Chronically Absent',\n",
    "    \n",
    "    'Mean Scale Score - ELA',\n",
    "    '% Level 2 - ELA',\n",
    "    '% Level 3 - ELA',\n",
    "    '% Level 4 - ELA',\n",
    "    'Mean Scale Score - Math',\n",
    "    '% Level 2 - Math',\n",
    "    '% Level 3 - Math',\n",
    "    '% Level 4 - Math', \n",
    "]\n",
    "\n",
    "# fit values\n",
    "inputs = df[explan_variables]\n",
    "outputs = logit(df['% SHSAT Testers'])\n",
    "\n",
    "nanrows = inputs.isnull().any(axis=1)\n",
    "inputs = inputs[~nanrows]\n",
    "outputs = outputs[~nanrows]"
   ]
  },
  {
   "cell_type": "code",
   "execution_count": 8,
   "metadata": {},
   "outputs": [
    {
     "data": {
      "image/png": "[encoded data removed]",
      "text/plain": [
       "<Figure size 432x288 with 1 Axes>"
      ]
     },
     "metadata": {},
     "output_type": "display_data"
    },
    {
     "data": {
      "image/png": "[encoded data removed]",
      "text/plain": [
       "<Figure size 432x288 with 1 Axes>"
      ]
     },
     "metadata": {},
     "output_type": "display_data"
    }
   ],
   "source": [
    "cvdf = cross_validate(inputs, outputs)\n",
    "visualize_cv(cvdf)"
   ]
  },
  {
   "cell_type": "code",
   "execution_count": 9,
   "metadata": {},
   "outputs": [],
   "source": [
    "def prepare_inputs(df):    \n",
    "    n_components = 8\n",
    "    columns = [\"PC{}\".format(i+1) for i in range(n_components)]\n",
    "    \n",
    "    # PCA\n",
    "    pca = PCA(n_components)\n",
    "    transformed = pca.fit_transform(df)\n",
    "    transformed = pd.DataFrame(transformed, index=df.index, columns=columns)\n",
    "\n",
    "    # aditional column\n",
    "    inputs = transformed\n",
    "    inputs.insert(0, 'Constant', 1.0)\n",
    "    \n",
    "    return inputs\n",
    "\n",
    "model = sm.RLM(outputs, prepare_inputs(inputs), missing='drop')\n",
    "results = model.fit()\n",
    "predictions = model.predict(results.params, exog=prepare_inputs(inputs))\n",
    "predictions = pd.Series(predictions, index=inputs.index)\n",
    "\n",
    "predictions0 = predictions.reindex(target_rows.index)"
   ]
  },
  {
   "cell_type": "code",
   "execution_count": 10,
   "metadata": {},
   "outputs": [
    {
     "name": "stdout",
     "output_type": "stream",
     "text": [
      "Median Absolute Error: 0.34255265243940225\n",
      "Mean Squared Error: 0.434734605389103\n"
     ]
    }
   ],
   "source": [
    "_outputs = outputs.dropna()\n",
    "_predictions = predictions.reindex(_outputs.index)\n",
    "\n",
    "mae = median_absolute_error(_outputs, _predictions)\n",
    "mse = mean_squared_error(_outputs, _predictions)\n",
    "\n",
    "print(\"Median Absolute Error:\", mae)\n",
    "print(\"Mean Squared Error:\", mse)"
   ]
  },
  {
   "cell_type": "markdown",
   "metadata": {},
   "source": [
    "## Model 1 - Missing presence information"
   ]
  },
  {
   "cell_type": "code",
   "execution_count": 11,
   "metadata": {},
   "outputs": [],
   "source": [
    "target_rows = df.loc[\n",
    "    df['School Name'].notnull() &\n",
    "    df['Mean Scale Score - ELA'].notnull() &\n",
    "    df['Mean Scale Score - Math'].notnull() &\n",
    "    df['Percent of Students Chronically Absent'].isnull()    \n",
    "]\n",
    "\n",
    "explan_variables = [\n",
    "    'Charter School?',\n",
    "    'Percent Asian',\n",
    "    'Percent Black',\n",
    "    'Percent Hispanic',\n",
    "    'Percent Other',\n",
    "    'Percent English Language Learners',\n",
    "    'Percent Students with Disabilities',\n",
    "    'Economic Need Index',\n",
    "#     'Percent of Students Chronically Absent',\n",
    "    \n",
    "    'Mean Scale Score - ELA',\n",
    "    '% Level 2 - ELA',\n",
    "    '% Level 3 - ELA',\n",
    "    '% Level 4 - ELA',\n",
    "    'Mean Scale Score - Math',\n",
    "    '% Level 2 - Math',\n",
    "    '% Level 3 - Math',\n",
    "    '% Level 4 - Math', \n",
    "]\n",
    "\n",
    "# fit values\n",
    "inputs = df[explan_variables]\n",
    "outputs = logit(df['% SHSAT Testers'])\n",
    "\n",
    "nanrows = inputs.isnull().any(axis=1)\n",
    "inputs = inputs[~nanrows]\n",
    "outputs = outputs[~nanrows]"
   ]
  },
  {
   "cell_type": "code",
   "execution_count": 12,
   "metadata": {},
   "outputs": [
    {
     "data": {
      "image/png": "[encoded data removed]",
      "text/plain": [
       "<Figure size 432x288 with 1 Axes>"
      ]
     },
     "metadata": {},
     "output_type": "display_data"
    },
    {
     "data": {
      "image/png": "[encoded data removed]",
      "text/plain": [
       "<Figure size 432x288 with 1 Axes>"
      ]
     },
     "metadata": {},
     "output_type": "display_data"
    }
   ],
   "source": [
    "cvdf = cross_validate(inputs, outputs)\n",
    "visualize_cv(cvdf)"
   ]
  },
  {
   "cell_type": "code",
   "execution_count": 13,
   "metadata": {},
   "outputs": [],
   "source": [
    "def prepare_inputs(df):    \n",
    "    n_components = 8\n",
    "    columns = [\"PC{}\".format(i+1) for i in range(n_components)]\n",
    "    \n",
    "    # PCA\n",
    "    pca = PCA(n_components)\n",
    "    transformed = pca.fit_transform(df)\n",
    "    transformed = pd.DataFrame(transformed, index=df.index, columns=columns)\n",
    "\n",
    "    # aditional column\n",
    "    inputs = transformed\n",
    "    inputs.insert(0, 'Constant', 1.0)\n",
    "    \n",
    "    return inputs\n",
    "\n",
    "model = sm.RLM(outputs, prepare_inputs(inputs), missing='drop')\n",
    "results = model.fit()\n",
    "predictions = model.predict(results.params, exog=prepare_inputs(inputs))\n",
    "predictions = pd.Series(predictions, index=inputs.index)\n",
    "\n",
    "predictions1 = predictions.reindex(target_rows.index)"
   ]
  },
  {
   "cell_type": "code",
   "execution_count": 14,
   "metadata": {},
   "outputs": [
    {
     "name": "stdout",
     "output_type": "stream",
     "text": [
      "Median Absolute Error: 0.3574112014529458\n",
      "Mean Squared Error: 0.4507590802968464\n"
     ]
    }
   ],
   "source": [
    "_outputs = outputs.dropna()\n",
    "_predictions = predictions.reindex(_outputs.index)\n",
    "\n",
    "mae = median_absolute_error(_outputs, _predictions)\n",
    "mse = mean_squared_error(_outputs, _predictions)\n",
    "\n",
    "print(\"Median Absolute Error:\", mae)\n",
    "print(\"Mean Squared Error:\", mse)"
   ]
  },
  {
   "cell_type": "markdown",
   "metadata": {},
   "source": [
    "## Model 2 - No NYS Math information"
   ]
  },
  {
   "cell_type": "code",
   "execution_count": 15,
   "metadata": {},
   "outputs": [],
   "source": [
    "target_rows = df.loc[\n",
    "    df['School Name'].notnull() &\n",
    "    df['Mean Scale Score - ELA'].notnull() &\n",
    "    df['Mean Scale Score - Math'].isnull() &\n",
    "    df['Percent of Students Chronically Absent'].notnull()    \n",
    "]\n",
    "\n",
    "explan_variables = [\n",
    "    'Charter School?',\n",
    "    'Percent Asian',\n",
    "    'Percent Black',\n",
    "    'Percent Hispanic',\n",
    "    'Percent Other',\n",
    "    'Percent English Language Learners',\n",
    "    'Percent Students with Disabilities',\n",
    "    'Economic Need Index',\n",
    "    'Percent of Students Chronically Absent',\n",
    "    \n",
    "    'Mean Scale Score - ELA',\n",
    "    '% Level 2 - ELA',\n",
    "    '% Level 3 - ELA',\n",
    "    '% Level 4 - ELA',\n",
    "#     'Mean Scale Score - Math',\n",
    "#     '% Level 2 - Math',\n",
    "#     '% Level 3 - Math',\n",
    "#     '% Level 4 - Math', \n",
    "]\n",
    "\n",
    "# fit values\n",
    "inputs = df[explan_variables]\n",
    "outputs = logit(df['% SHSAT Testers'])\n",
    "\n",
    "nanrows = inputs.isnull().any(axis=1)\n",
    "inputs = inputs[~nanrows]\n",
    "outputs = outputs[~nanrows]"
   ]
  },
  {
   "cell_type": "code",
   "execution_count": 16,
   "metadata": {},
   "outputs": [
    {
     "data": {
      "image/png": "[encoded data removed]",
      "text/plain": [
       "<Figure size 432x288 with 1 Axes>"
      ]
     },
     "metadata": {},
     "output_type": "display_data"
    },
    {
     "data": {
      "image/png": "[encoded data removed]",
      "text/plain": [
       "<Figure size 432x288 with 1 Axes>"
      ]
     },
     "metadata": {},
     "output_type": "display_data"
    }
   ],
   "source": [
    "cvdf = cross_validate(inputs, outputs)\n",
    "visualize_cv(cvdf)"
   ]
  },
  {
   "cell_type": "code",
   "execution_count": 17,
   "metadata": {},
   "outputs": [],
   "source": [
    "def prepare_inputs(df):    \n",
    "    n_components = 7\n",
    "    columns = [\"PC{}\".format(i+1) for i in range(n_components)]\n",
    "    \n",
    "    # PCA\n",
    "    pca = PCA(n_components)\n",
    "    transformed = pca.fit_transform(df)\n",
    "    transformed = pd.DataFrame(transformed, index=df.index, columns=columns)\n",
    "\n",
    "    # aditional column\n",
    "    inputs = transformed\n",
    "    inputs.insert(0, 'Constant', 1.0)\n",
    "    \n",
    "    return inputs\n",
    "\n",
    "model = sm.RLM(outputs, prepare_inputs(inputs), missing='drop')\n",
    "results = model.fit()\n",
    "predictions = model.predict(results.params, exog=prepare_inputs(inputs))\n",
    "predictions = pd.Series(predictions, index=inputs.index)\n",
    "\n",
    "predictions2 = predictions.reindex(target_rows.index)"
   ]
  },
  {
   "cell_type": "code",
   "execution_count": 18,
   "metadata": {},
   "outputs": [
    {
     "name": "stdout",
     "output_type": "stream",
     "text": [
      "Median Absolute Error: 0.3686692307441022\n",
      "Mean Squared Error: 0.46005710406564\n"
     ]
    }
   ],
   "source": [
    "_outputs = outputs.dropna()\n",
    "_predictions = predictions.reindex(_outputs.index)\n",
    "\n",
    "mae = median_absolute_error(_outputs, _predictions)\n",
    "mse = mean_squared_error(_outputs, _predictions)\n",
    "\n",
    "print(\"Median Absolute Error:\", mae)\n",
    "print(\"Mean Squared Error:\", mse)"
   ]
  },
  {
   "cell_type": "markdown",
   "metadata": {},
   "source": [
    "## Model 3 - No NYS ELA or Math information"
   ]
  },
  {
   "cell_type": "code",
   "execution_count": 19,
   "metadata": {},
   "outputs": [],
   "source": [
    "target_rows = df.loc[\n",
    "    df['School Name'].notnull() &\n",
    "    df['Mean Scale Score - ELA'].isnull() &\n",
    "    df['Mean Scale Score - Math'].isnull() &\n",
    "    df['Percent of Students Chronically Absent'].notnull()    \n",
    "]\n",
    "\n",
    "explan_variables = [\n",
    "    'Charter School?',\n",
    "    'Percent Asian',\n",
    "    'Percent Black',\n",
    "    'Percent Hispanic',\n",
    "    'Percent Other',\n",
    "    'Percent English Language Learners',\n",
    "    'Percent Students with Disabilities',\n",
    "    'Economic Need Index',\n",
    "    'Percent of Students Chronically Absent',\n",
    "    \n",
    "#     'Mean Scale Score - ELA',\n",
    "#     '% Level 2 - ELA',\n",
    "#     '% Level 3 - ELA',\n",
    "#     '% Level 4 - ELA',\n",
    "#     'Mean Scale Score - Math',\n",
    "#     '% Level 2 - Math',\n",
    "#     '% Level 3 - Math',\n",
    "#     '% Level 4 - Math', \n",
    "]\n",
    "\n",
    "# fit values\n",
    "inputs = df[explan_variables]\n",
    "outputs = logit(df['% SHSAT Testers'])\n",
    "\n",
    "nanrows = inputs.isnull().any(axis=1)\n",
    "inputs = inputs[~nanrows]\n",
    "outputs = outputs[~nanrows]"
   ]
  },
  {
   "cell_type": "code",
   "execution_count": 20,
   "metadata": {},
   "outputs": [
    {
     "data": {
      "image/png": "[encoded data removed]",
      "text/plain": [
       "<Figure size 432x288 with 1 Axes>"
      ]
     },
     "metadata": {},
     "output_type": "display_data"
    },
    {
     "data": {
      "image/png": "[encoded data removed]",
      "text/plain": [
       "<Figure size 432x288 with 1 Axes>"
      ]
     },
     "metadata": {},
     "output_type": "display_data"
    }
   ],
   "source": [
    "cvdf = cross_validate(inputs, outputs)\n",
    "visualize_cv(cvdf)"
   ]
  },
  {
   "cell_type": "code",
   "execution_count": 21,
   "metadata": {},
   "outputs": [],
   "source": [
    "def prepare_inputs(df):    \n",
    "    n_components = 6\n",
    "    columns = [\"PC{}\".format(i+1) for i in range(n_components)]\n",
    "    \n",
    "    # PCA\n",
    "    pca = PCA(n_components)\n",
    "    transformed = pca.fit_transform(df)\n",
    "    transformed = pd.DataFrame(transformed, index=df.index, columns=columns)\n",
    "\n",
    "    # aditional column\n",
    "    inputs = transformed\n",
    "    inputs.insert(0, 'Constant', 1.0)\n",
    "    \n",
    "    return inputs\n",
    "\n",
    "model = sm.RLM(outputs, prepare_inputs(inputs), missing='drop')\n",
    "results = model.fit()\n",
    "predictions = model.predict(results.params, exog=prepare_inputs(inputs))\n",
    "predictions = pd.Series(predictions, index=inputs.index)\n",
    "\n",
    "predictions3 = predictions.reindex(target_rows.index)"
   ]
  },
  {
   "cell_type": "code",
   "execution_count": 22,
   "metadata": {},
   "outputs": [
    {
     "name": "stdout",
     "output_type": "stream",
     "text": [
      "Median Absolute Error: 0.4360797441234471\n",
      "Mean Squared Error: 0.6454383246352795\n"
     ]
    }
   ],
   "source": [
    "_outputs = outputs.dropna()\n",
    "_predictions = predictions.reindex(_outputs.index)\n",
    "\n",
    "mae = median_absolute_error(_outputs, _predictions)\n",
    "mse = mean_squared_error(_outputs, _predictions)\n",
    "\n",
    "print(\"Median Absolute Error:\", mae)\n",
    "print(\"Mean Squared Error:\", mse)"
   ]
  },
  {
   "cell_type": "markdown",
   "metadata": {},
   "source": [
    "Heya!"
   ]
  }
 ],
 "metadata": {
  "kernelspec": {
   "display_name": "Python 3",
   "language": "python",
   "name": "python3"
  },
  "language_info": {
   "codemirror_mode": {
    "name": "ipython",
    "version": 3
   },
   "file_extension": ".py",
   "mimetype": "text/x-python",
   "name": "python",
   "nbconvert_exporter": "python",
   "pygments_lexer": "ipython3",
   "version": "3.6.5"
  }
 },
 "nbformat": 4,
 "nbformat_minor": 2
}
