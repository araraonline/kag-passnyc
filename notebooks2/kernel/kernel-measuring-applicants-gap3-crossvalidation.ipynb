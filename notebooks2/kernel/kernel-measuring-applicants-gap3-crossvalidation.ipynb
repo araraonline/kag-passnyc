{
 "cells": [
  {
   "cell_type": "code",
   "execution_count": 128,
   "metadata": {},
   "outputs": [],
   "source": [
    "import matplotlib.pyplot as plt\n",
    "import numpy as np\n",
    "import pandas as pd\n",
    "import statsmodels.api as sm\n",
    "from scipy.special import expit, logit\n",
    "from sklearn.decomposition import PCA\n",
    "from sklearn.metrics import mean_squared_error, median_absolute_error\n",
    "from sklearn.model_selection import RepeatedKFold\n",
    "from sklearn.preprocessing import scale\n",
    "\n",
    "np.random.seed(1)\n",
    "pd.set_option('display.max_rows', 100)\n",
    "pd.set_option('display.max_columns', None)"
   ]
  },
  {
   "cell_type": "markdown",
   "metadata": {},
   "source": [
    "# Prepare the data"
   ]
  },
  {
   "cell_type": "code",
   "execution_count": 150,
   "metadata": {},
   "outputs": [
    {
     "name": "stdout",
     "output_type": "stream",
     "text": [
      "594 schools\n",
      "588 schools after dropping missing test data\n"
     ]
    }
   ],
   "source": [
    "# load\n",
    "df = pd.read_pickle('../data/process/schools2017.pkl')\n",
    "\n",
    "# select columns\n",
    "df = df[[\n",
    "    'Charter School?',\n",
    "    'Percent Asian',\n",
    "    'Percent Black',\n",
    "    'Percent Hispanic',\n",
    "    'Percent Other',\n",
    "    'Percent English Language Learners',\n",
    "    'Percent Students with Disabilities',\n",
    "    'Economic Need Index',\n",
    "    \n",
    "    'Mean Scale Score - ELA',\n",
    "    '% Level 2 - ELA',\n",
    "    '% Level 3 - ELA',\n",
    "    '% Level 4 - ELA',\n",
    "    'Mean Scale Score - Math',\n",
    "    '% Level 2 - Math',\n",
    "    '% Level 3 - Math',\n",
    "    '% Level 4 - Math',\n",
    "    \n",
    "    '# Students in HS Admissions',\n",
    "    '# SHSAT Testers',\n",
    "    '% SHSAT Testers',\n",
    "]].copy()\n",
    "print(df.shape[0], \"schools\")\n",
    "\n",
    "# drop schools with missing test data\n",
    "df = df[df.loc[:, 'Mean Scale Score - ELA':'% Level 4 - Math'].notnull().all(axis=1)]\n",
    "print(df.shape[0], \"schools after dropping missing test data\")\n",
    "\n",
    "# schools with 0-5 SHSAT testers have this value set to NaN\n",
    "applicantsok = df['# SHSAT Testers'].notnull()\n",
    "\n",
    "# convert percentages to the (0, 1) range\n",
    "bad_pct_c = [\n",
    "    '% Level 2 - ELA',\n",
    "    '% Level 3 - ELA',\n",
    "    '% Level 4 - ELA',\n",
    "    '% Level 2 - Math',\n",
    "    '% Level 3 - Math',\n",
    "    '% Level 4 - Math',\n",
    "]\n",
    "df.loc[:, bad_pct_c] = df.loc[:, bad_pct_c] / 100.0\n",
    "\n",
    "# standardize score columns (ease of interpretation + algorithm stability)\n",
    "score_c = ['Mean Scale Score - ELA', 'Mean Scale Score - Math']\n",
    "df.loc[:, score_c] = df.loc[:, score_c].apply(scale)"
   ]
  },
  {
   "cell_type": "markdown",
   "metadata": {},
   "source": [
    "# Create models"
   ]
  },
  {
   "cell_type": "code",
   "execution_count": 151,
   "metadata": {},
   "outputs": [],
   "source": [
    "# data\n",
    "in_columns = [\n",
    "    'Charter School?',\n",
    "    'Percent Asian',\n",
    "    'Percent Black',\n",
    "    'Percent Hispanic',\n",
    "    'Percent Other',\n",
    "    'Percent English Language Learners',\n",
    "    'Percent Students with Disabilities',\n",
    "    'Economic Need Index',\n",
    "    \n",
    "    'Mean Scale Score - ELA',\n",
    "    '% Level 2 - ELA',\n",
    "    '% Level 3 - ELA',\n",
    "    '% Level 4 - ELA',\n",
    "    'Mean Scale Score - Math',\n",
    "    '% Level 2 - Math',\n",
    "    '% Level 3 - Math',\n",
    "    '% Level 4 - Math', \n",
    "]\n",
    "inputs = df[applicantsok][in_columns]\n",
    "outputs = logit(df[applicantsok]['% SHSAT Testers'])"
   ]
  },
  {
   "cell_type": "code",
   "execution_count": 157,
   "metadata": {},
   "outputs": [
    {
     "data": {
      "text/plain": [
       "<matplotlib.legend.Legend at 0x7ff7c5461cc0>"
      ]
     },
     "execution_count": 157,
     "metadata": {},
     "output_type": "execute_result"
    },
    {
     "data": {
      "image/png": "[encoded data removed]",
      "text/plain": [
       "<Figure size 432x288 with 1 Axes>"
      ]
     },
     "metadata": {},
     "output_type": "display_data"
    },
    {
     "data": {
      "image/png": "[encoded data removed]",
      "text/plain": [
       "<Figure size 432x288 with 1 Axes>"
      ]
     },
     "metadata": {},
     "output_type": "display_data"
    }
   ],
   "source": [
    "# cross-validation (pure PCA)\n",
    "\n",
    "cv_results = []\n",
    "n_splits = 10\n",
    "n_repeats = 20\n",
    "for n_components in range(1, inputs.shape[1] + 1):\n",
    "    mad_scores = []\n",
    "    mse_scores = []\n",
    "    \n",
    "    x = PCA(n_components).fit_transform(inputs)\n",
    "    x = pd.DataFrame(x, index=inputs.index, columns=[\"PC{}\".format(i) for i in range(1, n_components + 1)])\n",
    "    x['Constant'] = 1\n",
    "    y = outputs.copy()\n",
    "    \n",
    "\n",
    "    cv = RepeatedKFold(n_splits, n_repeats, random_state=1)    \n",
    "    for train, test in cv.split(x):\n",
    "        x_train = x.iloc[train]\n",
    "        x_test = x.iloc[test]\n",
    "        y_train = y.iloc[train]\n",
    "        y_test = y.iloc[test]\n",
    "        \n",
    "        model = sm.RLM(y_train, x_train, M=sm.robust.norms.HuberT())\n",
    "        results = model.fit()\n",
    "        predictions = model.predict(results.params, exog=x_test)\n",
    "        mad = median_absolute_error(y_test, predictions)\n",
    "        mse = mean_squared_error(y_test, predictions)\n",
    "        mad_scores.append(mad)\n",
    "        mse_scores.append(mse)\n",
    "        \n",
    "    mad_scores = np.array(mad_scores).reshape(n_repeats, n_splits).mean(axis=1)  # mean of each repeat\n",
    "    mse_scores = np.array(mse_scores).reshape(n_repeats, n_splits).mean(axis=1)  # mean of each repeat\n",
    "        \n",
    "    mad_mean = np.mean(mad_scores)\n",
    "    mad_std = np.std(mad_scores)\n",
    "    mse_mean = np.mean(mse_scores)\n",
    "    mse_std = np.std(mse_scores)\n",
    "    \n",
    "    cv_result = (n_components, mad_mean, mse_mean, mad_std, mse_std)\n",
    "    cv_results.append(cv_result)\n",
    "    \n",
    "df_columns = ['n_components', 'mad__mean', 'mse__mean', 'mad__std', 'mse__std']\n",
    "cv_results_df = pd.DataFrame(cv_results, columns=df_columns)\n",
    "cvdf = cv_results_df"
   ]
  },
  {
   "cell_type": "code",
   "execution_count": null,
   "metadata": {},
   "outputs": [],
   "source": [
    "plt.figure()\n",
    "plt.errorbar(cvdf.n_components, cvdf.mad__mean, cvdf.mad__std, marker='o', label='MAD')\n",
    "plt.legend()\n",
    "\n",
    "plt.figure()\n",
    "plt.errorbar(cvdf.n_components, cvdf.mse__mean, cvdf.mse__std, marker='o', label='MSE')\n",
    "plt.legend()"
   ]
  },
  {
   "cell_type": "markdown",
   "metadata": {},
   "source": [
    "The sweet spot for robustness seems to be 8 PC."
   ]
  }
 ],
 "metadata": {
  "kernelspec": {
   "display_name": "Python 3",
   "language": "python",
   "name": "python3"
  },
  "language_info": {
   "codemirror_mode": {
    "name": "ipython",
    "version": 3
   },
   "file_extension": ".py",
   "mimetype": "text/x-python",
   "name": "python",
   "nbconvert_exporter": "python",
   "pygments_lexer": "ipython3",
   "version": "3.6.5"
  }
 },
 "nbformat": 4,
 "nbformat_minor": 2
}
