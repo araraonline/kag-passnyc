{
 "cells": [
  {
   "cell_type": "code",
   "execution_count": 1,
   "metadata": {},
   "outputs": [],
   "source": [
    "import matplotlib.pyplot as plt\n",
    "import numpy as np\n",
    "import pandas as pd\n",
    "import seaborn as sns\n",
    "import statsmodels.api as sm\n",
    "from scipy.special import expit, logit\n",
    "from sklearn.decomposition import PCA\n",
    "from sklearn.metrics import mean_squared_error, median_absolute_error\n",
    "from sklearn.model_selection import RepeatedKFold\n",
    "\n",
    "np.random.seed(1)\n",
    "pd.set_option('display.max_rows', 100)\n",
    "pd.set_option('display.max_columns', None)\n",
    "sns.set_style('whitegrid')"
   ]
  },
  {
   "cell_type": "code",
   "execution_count": 2,
   "metadata": {},
   "outputs": [
    {
     "data": {
      "application/javascript": [
       "$.getScript('https://kmahelona.github.io/ipython_notebook_goodies/ipython_notebook_toc.js')"
      ],
      "text/plain": [
       "<IPython.core.display.Javascript object>"
      ]
     },
     "metadata": {},
     "output_type": "display_data"
    }
   ],
   "source": [
    "%%javascript\n",
    "$.getScript('https://kmahelona.github.io/ipython_notebook_goodies/ipython_notebook_toc.js')"
   ]
  },
  {
   "cell_type": "markdown",
   "metadata": {},
   "source": [
    "<h1 id=\"tocheading\">Table of Contents</h1>\n",
    "<div id=\"toc\"></div>"
   ]
  },
  {
   "cell_type": "markdown",
   "metadata": {},
   "source": [
    "# Measuring the Applicants Gap in 2017\n",
    "\n",
    "Let's do something really simple, but in a really effective manner. That thing is: measuring the applicants gaps in 2017.\n",
    "\n",
    "![image of actual amount of applicants vs. expected amont of applicants][1]\n",
    "\n",
    "Each year, 8th graders from all over New York City take a test called SHSAT to see who will get access to the famous Specialized High Schools (SPHS). These Specialized High Schools are schools that receive great attention and provide a estimulating environment for students who have the desire to learn.\n",
    "\n",
    "Problem is, students that receive offers from SPHS are usually from a very specific demographic. Usually white or asian guys, mostly from the upper class, and from very small number of schools. This demographic characteristics are tightly linked to academic performance<sup><a href=\"https://steinhardt.nyu.edu/scmsAdmin/media/users/sg158/PDFs/Pathways_to_elite_education/WorkingPaper_PathwaystoAnEliteEducation.pdf\">1</a></sup>, showing deeply ingrained questions that cannot be solved in a simple manner.\n",
    "\n",
    "What we can do, however, is target certain schools. PASSNYC is associated with a lot of organizations that provides services such as:\n",
    "\n",
    "- Test preparation\n",
    "- Afterschool activities\n",
    "- Mentoring\n",
    "- Community and student groups\n",
    "- Etc\n",
    "\n",
    "But, what schools to target? Simple, we choose those with the biggest gap between the actual number of applicants and the number of applicants that would be expected given the school characteristics.\n",
    "\n",
    "... \n",
    "\n",
    "Okay, it's not as simple as this. But, what we do here can provide invaluable information in the process of choosing which schools to intervene. This kernel is aimed at providing a simple yet effective model with which the gap can be estimated.\n",
    "\n",
    "[1]: ../data/keep/the-gap.png"
   ]
  },
  {
   "cell_type": "markdown",
   "metadata": {},
   "source": [
    "# Little glimpse at the data\n",
    "\n",
    "The crucial information for us is the amount of SHSAT applicants from each school. It can be found [here][1], and only includes students from 2017.\n",
    "\n",
    "Then, we assembled lots of data related to the students and the schools they attend. Information includes:\n",
    "\n",
    "- Percentage of each ethnicity in each school\n",
    "- Percentage of students with disabilities in each school\n",
    "- The Economic Need Index of each school (indicates the poverty of the students)\n",
    "- The distribution of grades for each school at the NYS Common Core tests<sup>1</sup>\n",
    "- Some other things\n",
    "\n",
    "Below, you can see what I'm talking about more clearly.\n",
    "\n",
    "<sub>1: The grades a student can get are 1, 2, 3 or 4. We have the percentage of students in each grade and also the mean scale score of each school. The mean scale score of each school has been standardized, for an easier interpretation.</sub>\n",
    "\n",
    "[1]: https://data.cityofnewyork.us/Education/2017-2018-SHSAT-Admissions-Test-Offers-By-Sending-/vsgi-eeb5/"
   ]
  },
  {
   "cell_type": "code",
   "execution_count": 3,
   "metadata": {
    "scrolled": false
   },
   "outputs": [
    {
     "name": "stdout",
     "output_type": "stream",
     "text": [
      "594 schools\n",
      "588 schools after dropping missing test data\n",
      "578 schools after dropping missing attendance data\n"
     ]
    },
    {
     "data": {
      "text/html": [
       "<style  type=\"text/css\" >\n",
       "</style>  \n",
       "<table id=\"T_e036f69a_98e8_11e8_9e29_c83a35ccb783\" > \n",
       "<thead>    <tr> \n",
       "        <th class=\"blank level0\" ></th> \n",
       "        <th class=\"col_heading level0 col0\" >School Name</th> \n",
       "        <th class=\"col_heading level0 col1\" >Charter School?</th> \n",
       "        <th class=\"col_heading level0 col2\" >Borough</th> \n",
       "        <th class=\"col_heading level0 col3\" >Latitude</th> \n",
       "        <th class=\"col_heading level0 col4\" >Longitude</th> \n",
       "        <th class=\"col_heading level0 col5\" >Percent Asian</th> \n",
       "        <th class=\"col_heading level0 col6\" >Percent Black</th> \n",
       "        <th class=\"col_heading level0 col7\" >Percent Hispanic</th> \n",
       "        <th class=\"col_heading level0 col8\" >Percent White</th> \n",
       "        <th class=\"col_heading level0 col9\" >Percent Other</th> \n",
       "        <th class=\"col_heading level0 col10\" >Percent English Language Learners</th> \n",
       "        <th class=\"col_heading level0 col11\" >Percent Students with Disabilities</th> \n",
       "        <th class=\"col_heading level0 col12\" >Percent of Students Chronically Absent</th> \n",
       "        <th class=\"col_heading level0 col13\" >Economic Need Index</th> \n",
       "        <th class=\"col_heading level0 col14\" >Mean Scale Score - ELA</th> \n",
       "        <th class=\"col_heading level0 col15\" >% Level 2 - ELA</th> \n",
       "        <th class=\"col_heading level0 col16\" >% Level 3 - ELA</th> \n",
       "        <th class=\"col_heading level0 col17\" >% Level 4 - ELA</th> \n",
       "        <th class=\"col_heading level0 col18\" >Mean Scale Score - Math</th> \n",
       "        <th class=\"col_heading level0 col19\" >% Level 2 - Math</th> \n",
       "        <th class=\"col_heading level0 col20\" >% Level 3 - Math</th> \n",
       "        <th class=\"col_heading level0 col21\" >% Level 4 - Math</th> \n",
       "        <th class=\"col_heading level0 col22\" ># Students in HS Admissions</th> \n",
       "        <th class=\"col_heading level0 col23\" ># SHSAT Testers</th> \n",
       "        <th class=\"col_heading level0 col24\" ># SHSAT Offers</th> \n",
       "        <th class=\"col_heading level0 col25\" >% SHSAT Testers</th> \n",
       "        <th class=\"col_heading level0 col26\" >% SHSAT Offers</th> \n",
       "    </tr>    <tr> \n",
       "        <th class=\"index_name level0\" >DBN</th> \n",
       "        <th class=\"blank\" ></th> \n",
       "        <th class=\"blank\" ></th> \n",
       "        <th class=\"blank\" ></th> \n",
       "        <th class=\"blank\" ></th> \n",
       "        <th class=\"blank\" ></th> \n",
       "        <th class=\"blank\" ></th> \n",
       "        <th class=\"blank\" ></th> \n",
       "        <th class=\"blank\" ></th> \n",
       "        <th class=\"blank\" ></th> \n",
       "        <th class=\"blank\" ></th> \n",
       "        <th class=\"blank\" ></th> \n",
       "        <th class=\"blank\" ></th> \n",
       "        <th class=\"blank\" ></th> \n",
       "        <th class=\"blank\" ></th> \n",
       "        <th class=\"blank\" ></th> \n",
       "        <th class=\"blank\" ></th> \n",
       "        <th class=\"blank\" ></th> \n",
       "        <th class=\"blank\" ></th> \n",
       "        <th class=\"blank\" ></th> \n",
       "        <th class=\"blank\" ></th> \n",
       "        <th class=\"blank\" ></th> \n",
       "        <th class=\"blank\" ></th> \n",
       "        <th class=\"blank\" ></th> \n",
       "        <th class=\"blank\" ></th> \n",
       "        <th class=\"blank\" ></th> \n",
       "        <th class=\"blank\" ></th> \n",
       "        <th class=\"blank\" ></th> \n",
       "    </tr></thead> \n",
       "<tbody>    <tr> \n",
       "        <th id=\"T_e036f69a_98e8_11e8_9e29_c83a35ccb783level0_row0\" class=\"row_heading level0 row0\" >01M034</th> \n",
       "        <td id=\"T_e036f69a_98e8_11e8_9e29_c83a35ccb783row0_col0\" class=\"data row0 col0\" >P.S. 034 Franklin D. Roosevelt</td> \n",
       "        <td id=\"T_e036f69a_98e8_11e8_9e29_c83a35ccb783row0_col1\" class=\"data row0 col1\" >0</td> \n",
       "        <td id=\"T_e036f69a_98e8_11e8_9e29_c83a35ccb783row0_col2\" class=\"data row0 col2\" >manhattan</td> \n",
       "        <td id=\"T_e036f69a_98e8_11e8_9e29_c83a35ccb783row0_col3\" class=\"data row0 col3\" >40.73</td> \n",
       "        <td id=\"T_e036f69a_98e8_11e8_9e29_c83a35ccb783row0_col4\" class=\"data row0 col4\" >-73.98</td> \n",
       "        <td id=\"T_e036f69a_98e8_11e8_9e29_c83a35ccb783row0_col5\" class=\"data row0 col5\" >5.3%</td> \n",
       "        <td id=\"T_e036f69a_98e8_11e8_9e29_c83a35ccb783row0_col6\" class=\"data row0 col6\" >29.7%</td> \n",
       "        <td id=\"T_e036f69a_98e8_11e8_9e29_c83a35ccb783row0_col7\" class=\"data row0 col7\" >61.4%</td> \n",
       "        <td id=\"T_e036f69a_98e8_11e8_9e29_c83a35ccb783row0_col8\" class=\"data row0 col8\" >3.0%</td> \n",
       "        <td id=\"T_e036f69a_98e8_11e8_9e29_c83a35ccb783row0_col9\" class=\"data row0 col9\" >0.6%</td> \n",
       "        <td id=\"T_e036f69a_98e8_11e8_9e29_c83a35ccb783row0_col10\" class=\"data row0 col10\" >8.0%</td> \n",
       "        <td id=\"T_e036f69a_98e8_11e8_9e29_c83a35ccb783row0_col11\" class=\"data row0 col11\" >38.0%</td> \n",
       "        <td id=\"T_e036f69a_98e8_11e8_9e29_c83a35ccb783row0_col12\" class=\"data row0 col12\" >30.5%</td> \n",
       "        <td id=\"T_e036f69a_98e8_11e8_9e29_c83a35ccb783row0_col13\" class=\"data row0 col13\" >0.87</td> \n",
       "        <td id=\"T_e036f69a_98e8_11e8_9e29_c83a35ccb783row0_col14\" class=\"data row0 col14\" >-0.11</td> \n",
       "        <td id=\"T_e036f69a_98e8_11e8_9e29_c83a35ccb783row0_col15\" class=\"data row0 col15\" >59.3%</td> \n",
       "        <td id=\"T_e036f69a_98e8_11e8_9e29_c83a35ccb783row0_col16\" class=\"data row0 col16\" >22.2%</td> \n",
       "        <td id=\"T_e036f69a_98e8_11e8_9e29_c83a35ccb783row0_col17\" class=\"data row0 col17\" >1.9%</td> \n",
       "        <td id=\"T_e036f69a_98e8_11e8_9e29_c83a35ccb783row0_col18\" class=\"data row0 col18\" >-0.70</td> \n",
       "        <td id=\"T_e036f69a_98e8_11e8_9e29_c83a35ccb783row0_col19\" class=\"data row0 col19\" >34.6%</td> \n",
       "        <td id=\"T_e036f69a_98e8_11e8_9e29_c83a35ccb783row0_col20\" class=\"data row0 col20\" >13.5%</td> \n",
       "        <td id=\"T_e036f69a_98e8_11e8_9e29_c83a35ccb783row0_col21\" class=\"data row0 col21\" >0.0%</td> \n",
       "        <td id=\"T_e036f69a_98e8_11e8_9e29_c83a35ccb783row0_col22\" class=\"data row0 col22\" >58</td> \n",
       "        <td id=\"T_e036f69a_98e8_11e8_9e29_c83a35ccb783row0_col23\" class=\"data row0 col23\" >6</td> \n",
       "        <td id=\"T_e036f69a_98e8_11e8_9e29_c83a35ccb783row0_col24\" class=\"data row0 col24\" >nan</td> \n",
       "        <td id=\"T_e036f69a_98e8_11e8_9e29_c83a35ccb783row0_col25\" class=\"data row0 col25\" >10.3%</td> \n",
       "        <td id=\"T_e036f69a_98e8_11e8_9e29_c83a35ccb783row0_col26\" class=\"data row0 col26\" >nan%</td> \n",
       "    </tr>    <tr> \n",
       "        <th id=\"T_e036f69a_98e8_11e8_9e29_c83a35ccb783level0_row1\" class=\"row_heading level0 row1\" >01M140</th> \n",
       "        <td id=\"T_e036f69a_98e8_11e8_9e29_c83a35ccb783row1_col0\" class=\"data row1 col0\" >P.S. 140 Nathan Straus</td> \n",
       "        <td id=\"T_e036f69a_98e8_11e8_9e29_c83a35ccb783row1_col1\" class=\"data row1 col1\" >0</td> \n",
       "        <td id=\"T_e036f69a_98e8_11e8_9e29_c83a35ccb783row1_col2\" class=\"data row1 col2\" >manhattan</td> \n",
       "        <td id=\"T_e036f69a_98e8_11e8_9e29_c83a35ccb783row1_col3\" class=\"data row1 col3\" >40.72</td> \n",
       "        <td id=\"T_e036f69a_98e8_11e8_9e29_c83a35ccb783row1_col4\" class=\"data row1 col4\" >-73.98</td> \n",
       "        <td id=\"T_e036f69a_98e8_11e8_9e29_c83a35ccb783row1_col5\" class=\"data row1 col5\" >4.4%</td> \n",
       "        <td id=\"T_e036f69a_98e8_11e8_9e29_c83a35ccb783row1_col6\" class=\"data row1 col6\" >12.1%</td> \n",
       "        <td id=\"T_e036f69a_98e8_11e8_9e29_c83a35ccb783row1_col7\" class=\"data row1 col7\" >79.4%</td> \n",
       "        <td id=\"T_e036f69a_98e8_11e8_9e29_c83a35ccb783row1_col8\" class=\"data row1 col8\" >3.0%</td> \n",
       "        <td id=\"T_e036f69a_98e8_11e8_9e29_c83a35ccb783row1_col9\" class=\"data row1 col9\" >1.1%</td> \n",
       "        <td id=\"T_e036f69a_98e8_11e8_9e29_c83a35ccb783row1_col10\" class=\"data row1 col10\" >12.4%</td> \n",
       "        <td id=\"T_e036f69a_98e8_11e8_9e29_c83a35ccb783row1_col11\" class=\"data row1 col11\" >33.8%</td> \n",
       "        <td id=\"T_e036f69a_98e8_11e8_9e29_c83a35ccb783row1_col12\" class=\"data row1 col12\" >39.5%</td> \n",
       "        <td id=\"T_e036f69a_98e8_11e8_9e29_c83a35ccb783row1_col13\" class=\"data row1 col13\" >0.85</td> \n",
       "        <td id=\"T_e036f69a_98e8_11e8_9e29_c83a35ccb783row1_col14\" class=\"data row1 col14\" >-0.16</td> \n",
       "        <td id=\"T_e036f69a_98e8_11e8_9e29_c83a35ccb783row1_col15\" class=\"data row1 col15\" >60.0%</td> \n",
       "        <td id=\"T_e036f69a_98e8_11e8_9e29_c83a35ccb783row1_col16\" class=\"data row1 col16\" >21.8%</td> \n",
       "        <td id=\"T_e036f69a_98e8_11e8_9e29_c83a35ccb783row1_col17\" class=\"data row1 col17\" >1.8%</td> \n",
       "        <td id=\"T_e036f69a_98e8_11e8_9e29_c83a35ccb783row1_col18\" class=\"data row1 col18\" >-0.45</td> \n",
       "        <td id=\"T_e036f69a_98e8_11e8_9e29_c83a35ccb783row1_col19\" class=\"data row1 col19\" >38.6%</td> \n",
       "        <td id=\"T_e036f69a_98e8_11e8_9e29_c83a35ccb783row1_col20\" class=\"data row1 col20\" >14.0%</td> \n",
       "        <td id=\"T_e036f69a_98e8_11e8_9e29_c83a35ccb783row1_col21\" class=\"data row1 col21\" >0.0%</td> \n",
       "        <td id=\"T_e036f69a_98e8_11e8_9e29_c83a35ccb783row1_col22\" class=\"data row1 col22\" >67</td> \n",
       "        <td id=\"T_e036f69a_98e8_11e8_9e29_c83a35ccb783row1_col23\" class=\"data row1 col23\" >6</td> \n",
       "        <td id=\"T_e036f69a_98e8_11e8_9e29_c83a35ccb783row1_col24\" class=\"data row1 col24\" >nan</td> \n",
       "        <td id=\"T_e036f69a_98e8_11e8_9e29_c83a35ccb783row1_col25\" class=\"data row1 col25\" >9.0%</td> \n",
       "        <td id=\"T_e036f69a_98e8_11e8_9e29_c83a35ccb783row1_col26\" class=\"data row1 col26\" >nan%</td> \n",
       "    </tr>    <tr> \n",
       "        <th id=\"T_e036f69a_98e8_11e8_9e29_c83a35ccb783level0_row2\" class=\"row_heading level0 row2\" >01M184</th> \n",
       "        <td id=\"T_e036f69a_98e8_11e8_9e29_c83a35ccb783row2_col0\" class=\"data row2 col0\" >P.S. 184m Shuang Wen</td> \n",
       "        <td id=\"T_e036f69a_98e8_11e8_9e29_c83a35ccb783row2_col1\" class=\"data row2 col1\" >0</td> \n",
       "        <td id=\"T_e036f69a_98e8_11e8_9e29_c83a35ccb783row2_col2\" class=\"data row2 col2\" >manhattan</td> \n",
       "        <td id=\"T_e036f69a_98e8_11e8_9e29_c83a35ccb783row2_col3\" class=\"data row2 col3\" >40.71</td> \n",
       "        <td id=\"T_e036f69a_98e8_11e8_9e29_c83a35ccb783row2_col4\" class=\"data row2 col4\" >-73.99</td> \n",
       "        <td id=\"T_e036f69a_98e8_11e8_9e29_c83a35ccb783row2_col5\" class=\"data row2 col5\" >69.7%</td> \n",
       "        <td id=\"T_e036f69a_98e8_11e8_9e29_c83a35ccb783row2_col6\" class=\"data row2 col6\" >4.4%</td> \n",
       "        <td id=\"T_e036f69a_98e8_11e8_9e29_c83a35ccb783row2_col7\" class=\"data row2 col7\" >12.4%</td> \n",
       "        <td id=\"T_e036f69a_98e8_11e8_9e29_c83a35ccb783row2_col8\" class=\"data row2 col8\" >8.5%</td> \n",
       "        <td id=\"T_e036f69a_98e8_11e8_9e29_c83a35ccb783row2_col9\" class=\"data row2 col9\" >5.0%</td> \n",
       "        <td id=\"T_e036f69a_98e8_11e8_9e29_c83a35ccb783row2_col10\" class=\"data row2 col10\" >17.1%</td> \n",
       "        <td id=\"T_e036f69a_98e8_11e8_9e29_c83a35ccb783row2_col11\" class=\"data row2 col11\" >19.2%</td> \n",
       "        <td id=\"T_e036f69a_98e8_11e8_9e29_c83a35ccb783row2_col12\" class=\"data row2 col12\" >4.1%</td> \n",
       "        <td id=\"T_e036f69a_98e8_11e8_9e29_c83a35ccb783row2_col13\" class=\"data row2 col13\" >0.56</td> \n",
       "        <td id=\"T_e036f69a_98e8_11e8_9e29_c83a35ccb783row2_col14\" class=\"data row2 col14\" >1.71</td> \n",
       "        <td id=\"T_e036f69a_98e8_11e8_9e29_c83a35ccb783row2_col15\" class=\"data row2 col15\" >21.0%</td> \n",
       "        <td id=\"T_e036f69a_98e8_11e8_9e29_c83a35ccb783row2_col16\" class=\"data row2 col16\" >39.5%</td> \n",
       "        <td id=\"T_e036f69a_98e8_11e8_9e29_c83a35ccb783row2_col17\" class=\"data row2 col17\" >34.6%</td> \n",
       "        <td id=\"T_e036f69a_98e8_11e8_9e29_c83a35ccb783row2_col18\" class=\"data row2 col18\" >1.78</td> \n",
       "        <td id=\"T_e036f69a_98e8_11e8_9e29_c83a35ccb783row2_col19\" class=\"data row2 col19\" >16.9%</td> \n",
       "        <td id=\"T_e036f69a_98e8_11e8_9e29_c83a35ccb783row2_col20\" class=\"data row2 col20\" >28.9%</td> \n",
       "        <td id=\"T_e036f69a_98e8_11e8_9e29_c83a35ccb783row2_col21\" class=\"data row2 col21\" >44.6%</td> \n",
       "        <td id=\"T_e036f69a_98e8_11e8_9e29_c83a35ccb783row2_col22\" class=\"data row2 col22\" >88</td> \n",
       "        <td id=\"T_e036f69a_98e8_11e8_9e29_c83a35ccb783row2_col23\" class=\"data row2 col23\" >67</td> \n",
       "        <td id=\"T_e036f69a_98e8_11e8_9e29_c83a35ccb783row2_col24\" class=\"data row2 col24\" >23</td> \n",
       "        <td id=\"T_e036f69a_98e8_11e8_9e29_c83a35ccb783row2_col25\" class=\"data row2 col25\" >76.1%</td> \n",
       "        <td id=\"T_e036f69a_98e8_11e8_9e29_c83a35ccb783row2_col26\" class=\"data row2 col26\" >26.1%</td> \n",
       "    </tr>    <tr> \n",
       "        <th id=\"T_e036f69a_98e8_11e8_9e29_c83a35ccb783level0_row3\" class=\"row_heading level0 row3\" >01M188</th> \n",
       "        <td id=\"T_e036f69a_98e8_11e8_9e29_c83a35ccb783row3_col0\" class=\"data row3 col0\" >P.S. 188 The Island School</td> \n",
       "        <td id=\"T_e036f69a_98e8_11e8_9e29_c83a35ccb783row3_col1\" class=\"data row3 col1\" >0</td> \n",
       "        <td id=\"T_e036f69a_98e8_11e8_9e29_c83a35ccb783row3_col2\" class=\"data row3 col2\" >manhattan</td> \n",
       "        <td id=\"T_e036f69a_98e8_11e8_9e29_c83a35ccb783row3_col3\" class=\"data row3 col3\" >40.72</td> \n",
       "        <td id=\"T_e036f69a_98e8_11e8_9e29_c83a35ccb783row3_col4\" class=\"data row3 col4\" >-73.98</td> \n",
       "        <td id=\"T_e036f69a_98e8_11e8_9e29_c83a35ccb783row3_col5\" class=\"data row3 col5\" >1.9%</td> \n",
       "        <td id=\"T_e036f69a_98e8_11e8_9e29_c83a35ccb783row3_col6\" class=\"data row3 col6\" >32.0%</td> \n",
       "        <td id=\"T_e036f69a_98e8_11e8_9e29_c83a35ccb783row3_col7\" class=\"data row3 col7\" >62.5%</td> \n",
       "        <td id=\"T_e036f69a_98e8_11e8_9e29_c83a35ccb783row3_col8\" class=\"data row3 col8\" >3.6%</td> \n",
       "        <td id=\"T_e036f69a_98e8_11e8_9e29_c83a35ccb783row3_col9\" class=\"data row3 col9\" >0.0%</td> \n",
       "        <td id=\"T_e036f69a_98e8_11e8_9e29_c83a35ccb783row3_col10\" class=\"data row3 col10\" >15.4%</td> \n",
       "        <td id=\"T_e036f69a_98e8_11e8_9e29_c83a35ccb783row3_col11\" class=\"data row3 col11\" >33.2%</td> \n",
       "        <td id=\"T_e036f69a_98e8_11e8_9e29_c83a35ccb783row3_col12\" class=\"data row3 col12\" >36.9%</td> \n",
       "        <td id=\"T_e036f69a_98e8_11e8_9e29_c83a35ccb783row3_col13\" class=\"data row3 col13\" >0.94</td> \n",
       "        <td id=\"T_e036f69a_98e8_11e8_9e29_c83a35ccb783row3_col14\" class=\"data row3 col14\" >-0.26</td> \n",
       "        <td id=\"T_e036f69a_98e8_11e8_9e29_c83a35ccb783row3_col15\" class=\"data row3 col15\" >45.1%</td> \n",
       "        <td id=\"T_e036f69a_98e8_11e8_9e29_c83a35ccb783row3_col16\" class=\"data row3 col16\" >15.7%</td> \n",
       "        <td id=\"T_e036f69a_98e8_11e8_9e29_c83a35ccb783row3_col17\" class=\"data row3 col17\" >2.0%</td> \n",
       "        <td id=\"T_e036f69a_98e8_11e8_9e29_c83a35ccb783row3_col18\" class=\"data row3 col18\" >-0.30</td> \n",
       "        <td id=\"T_e036f69a_98e8_11e8_9e29_c83a35ccb783row3_col19\" class=\"data row3 col19\" >46.2%</td> \n",
       "        <td id=\"T_e036f69a_98e8_11e8_9e29_c83a35ccb783row3_col20\" class=\"data row3 col20\" >21.2%</td> \n",
       "        <td id=\"T_e036f69a_98e8_11e8_9e29_c83a35ccb783row3_col21\" class=\"data row3 col21\" >0.0%</td> \n",
       "        <td id=\"T_e036f69a_98e8_11e8_9e29_c83a35ccb783row3_col22\" class=\"data row3 col22\" >59</td> \n",
       "        <td id=\"T_e036f69a_98e8_11e8_9e29_c83a35ccb783row3_col23\" class=\"data row3 col23\" >nan</td> \n",
       "        <td id=\"T_e036f69a_98e8_11e8_9e29_c83a35ccb783row3_col24\" class=\"data row3 col24\" >nan</td> \n",
       "        <td id=\"T_e036f69a_98e8_11e8_9e29_c83a35ccb783row3_col25\" class=\"data row3 col25\" >nan%</td> \n",
       "        <td id=\"T_e036f69a_98e8_11e8_9e29_c83a35ccb783row3_col26\" class=\"data row3 col26\" >nan%</td> \n",
       "    </tr>    <tr> \n",
       "        <th id=\"T_e036f69a_98e8_11e8_9e29_c83a35ccb783level0_row4\" class=\"row_heading level0 row4\" >01M301</th> \n",
       "        <td id=\"T_e036f69a_98e8_11e8_9e29_c83a35ccb783row4_col0\" class=\"data row4 col0\" >Technology, Arts, and Sciences Studio</td> \n",
       "        <td id=\"T_e036f69a_98e8_11e8_9e29_c83a35ccb783row4_col1\" class=\"data row4 col1\" >0</td> \n",
       "        <td id=\"T_e036f69a_98e8_11e8_9e29_c83a35ccb783row4_col2\" class=\"data row4 col2\" >manhattan</td> \n",
       "        <td id=\"T_e036f69a_98e8_11e8_9e29_c83a35ccb783row4_col3\" class=\"data row4 col3\" >40.73</td> \n",
       "        <td id=\"T_e036f69a_98e8_11e8_9e29_c83a35ccb783row4_col4\" class=\"data row4 col4\" >-73.98</td> \n",
       "        <td id=\"T_e036f69a_98e8_11e8_9e29_c83a35ccb783row4_col5\" class=\"data row4 col5\" >8.7%</td> \n",
       "        <td id=\"T_e036f69a_98e8_11e8_9e29_c83a35ccb783row4_col6\" class=\"data row4 col6\" >32.3%</td> \n",
       "        <td id=\"T_e036f69a_98e8_11e8_9e29_c83a35ccb783row4_col7\" class=\"data row4 col7\" >49.6%</td> \n",
       "        <td id=\"T_e036f69a_98e8_11e8_9e29_c83a35ccb783row4_col8\" class=\"data row4 col8\" >5.5%</td> \n",
       "        <td id=\"T_e036f69a_98e8_11e8_9e29_c83a35ccb783row4_col9\" class=\"data row4 col9\" >3.9%</td> \n",
       "        <td id=\"T_e036f69a_98e8_11e8_9e29_c83a35ccb783row4_col10\" class=\"data row4 col10\" >4.7%</td> \n",
       "        <td id=\"T_e036f69a_98e8_11e8_9e29_c83a35ccb783row4_col11\" class=\"data row4 col11\" >44.1%</td> \n",
       "        <td id=\"T_e036f69a_98e8_11e8_9e29_c83a35ccb783row4_col12\" class=\"data row4 col12\" >38.2%</td> \n",
       "        <td id=\"T_e036f69a_98e8_11e8_9e29_c83a35ccb783row4_col13\" class=\"data row4 col13\" >0.75</td> \n",
       "        <td id=\"T_e036f69a_98e8_11e8_9e29_c83a35ccb783row4_col14\" class=\"data row4 col14\" >0.25</td> \n",
       "        <td id=\"T_e036f69a_98e8_11e8_9e29_c83a35ccb783row4_col15\" class=\"data row4 col15\" >46.3%</td> \n",
       "        <td id=\"T_e036f69a_98e8_11e8_9e29_c83a35ccb783row4_col16\" class=\"data row4 col16\" >31.7%</td> \n",
       "        <td id=\"T_e036f69a_98e8_11e8_9e29_c83a35ccb783row4_col17\" class=\"data row4 col17\" >4.9%</td> \n",
       "        <td id=\"T_e036f69a_98e8_11e8_9e29_c83a35ccb783row4_col18\" class=\"data row4 col18\" >-0.60</td> \n",
       "        <td id=\"T_e036f69a_98e8_11e8_9e29_c83a35ccb783row4_col19\" class=\"data row4 col19\" >36.6%</td> \n",
       "        <td id=\"T_e036f69a_98e8_11e8_9e29_c83a35ccb783row4_col20\" class=\"data row4 col20\" >12.2%</td> \n",
       "        <td id=\"T_e036f69a_98e8_11e8_9e29_c83a35ccb783row4_col21\" class=\"data row4 col21\" >2.4%</td> \n",
       "        <td id=\"T_e036f69a_98e8_11e8_9e29_c83a35ccb783row4_col22\" class=\"data row4 col22\" >51</td> \n",
       "        <td id=\"T_e036f69a_98e8_11e8_9e29_c83a35ccb783row4_col23\" class=\"data row4 col23\" >11</td> \n",
       "        <td id=\"T_e036f69a_98e8_11e8_9e29_c83a35ccb783row4_col24\" class=\"data row4 col24\" >nan</td> \n",
       "        <td id=\"T_e036f69a_98e8_11e8_9e29_c83a35ccb783row4_col25\" class=\"data row4 col25\" >21.6%</td> \n",
       "        <td id=\"T_e036f69a_98e8_11e8_9e29_c83a35ccb783row4_col26\" class=\"data row4 col26\" >nan%</td> \n",
       "    </tr></tbody> \n",
       "</table> "
      ],
      "text/plain": [
       "<pandas.io.formats.style.Styler at 0x7f5ed557c748>"
      ]
     },
     "execution_count": 3,
     "metadata": {},
     "output_type": "execute_result"
    }
   ],
   "source": [
    "# import data\n",
    "df = pd.read_pickle('../data/process/schools2017.pkl')\n",
    "print(df.shape[0], \"schools\")\n",
    "\n",
    "# drop schools with missing test data\n",
    "df = df[df.loc[:, 'Mean Scale Score - ELA':'% Level 4 - Math'].notnull().all(axis=1)]\n",
    "print(df.shape[0], \"schools after dropping missing test data\")\n",
    "\n",
    "# drop schools with missing attendance data\n",
    "df = df[df['Percent of Students Chronically Absent'].notnull()]\n",
    "print(df.shape[0], \"schools after dropping missing attendance data\")\n",
    "\n",
    "# schools with 0-5 SHSAT testers have this value set to NaN\n",
    "applicantsok = df['# SHSAT Testers'].notnull()\n",
    "\n",
    "# show head of data\n",
    "f2_columns = ['Latitude', 'Longitude', 'Economic Need Index',\n",
    "              'Mean Scale Score - ELA', 'Mean Scale Score - Math']\n",
    "pct_columns = [c for c in df.columns if c.startswith('Percent')]\n",
    "pct_columns += [c for c in df.columns if c.startswith('%')]\n",
    "df.head().style. \\\n",
    "    format('{:.2f}', subset=f2_columns). \\\n",
    "    format('{:.1%}', subset=pct_columns)"
   ]
  },
  {
   "cell_type": "markdown",
   "metadata": {},
   "source": [
    "# Principal Component Analysis\n",
    "\n",
    "We expect our data to have a lot of collinearity. That is, we expect variables to be very related to one another. This might cause problems when fitting a model.\n",
    "\n",
    "To alleviate this problem, we use a technique called Principal Component Analysis (abbreviated PCA). This technique reduces the amount of features to an arbitrary number (that we can specify). The features generated are those that can best explain the original variables, making it a really nice approach."
   ]
  },
  {
   "cell_type": "markdown",
   "metadata": {},
   "source": [
    "# Cross-validation\n",
    "\n",
    "To choose the best amount of features, we will use cross-validation. It is a technique for splitting the dataset into training and test sets multiple times, making use of the data in an efficient way.\n",
    "\n",
    "The cross-validation method used is a [repeated k-fold][1]. Explaining it is out of the scope of this kernel, but, let's just say it is one of the most recommended methods. It requires a lot of iterations, but, since our dataset is not big (comparing to today's \"big data\"), this is no problem.\n",
    "\n",
    "We used the parameters `n_splits=10` and `n_repeats=20`.\n",
    "\n",
    "[1]: http://scikit-learn.org/stable/modules/generated/sklearn.model_selection.RepeatedKFold.html#sklearn.model_selection.RepeatedKFold"
   ]
  },
  {
   "cell_type": "markdown",
   "metadata": {},
   "source": [
    "To choose the best number of features, we use both the Median Absolute Error and the Mean Squared Error. The first metric indicates how well the model is fitting overall, ignoring the weight of outliers<sup>1</sup>. The second metric, in contrast, is more sensitive to outliers, giving bigger importance to bigger errors.\n",
    "\n",
    "Based on the plots, we can see that 8 principal components is a good choice. It has the lowest Median Absolute Error and still keeps the Mean Squared Error at control.\n",
    "\n",
    "This is gonna be the value used.\n",
    "\n",
    "<sub>1: A better explanation of how we should treat outliers is gonna be made in the modeling section</sub>"
   ]
  },
  {
   "cell_type": "markdown",
   "metadata": {},
   "source": [
    "# Fitting the model\n",
    "\n",
    "We will use a very simple model. There are two gists, though:\n",
    "\n",
    "1. We are using it to *measure the application gap* in each school\n",
    "\n",
    "   This may seem not relevant to the model choice, but it is very, very important.\n",
    "\n",
    "   Say, of these two lines, which one do you think works best when predicting the gap between what is expected and what really occured?\n",
    "\n",
    "   ![](../data/keep/regression1.png)\n",
    "   ![](../data/keep/regression2.png)\n",
    "\n",
    "  I'd say the second one, as it gives a nicer representation to points that are close to expected, and, predicts a big gap for points that are surely off.\n",
    "\n",
    "  The first line was generated using a standard regression and the second one was generated using a robust regression (we say robust because it is *robust to outliers*). The model that I'm gonna use is a robust one.\n",
    "\n",
    "2. The outcomes we are trying to predict are *probabilities*\n",
    "\n",
    "   Okay, they are actually the percentage of applicants at each school. But, can't we assume that this is the probability of each student at a certain school applying for the SHSAT? Although being a simplification, this is what we are gonna work upon. Being a model to predict probabilities, logistic regression is usually a better choice than linear regression. So, we use logistic regression<sup>1</sup>.\n",
    "   \n",
    "---\n",
    "\n",
    "In the end, the model we are gonna is a *robust logistic regression*<sup>2</sup>. In the next cells I will fit it, predict with it and display some results.\n",
    "\n",
    "<sub>\n",
    "    1: I know, my logic is a little flawed. I will try improving on this area later.<br>\n",
    "    2: Actually, a robust linear regression with logits as outputs (transforming the model into a logistic regression)\n",
    "</sub>"
   ]
  },
  {
   "cell_type": "code",
   "execution_count": 4,
   "metadata": {},
   "outputs": [
    {
     "data": {
      "text/html": [
       "<div>\n",
       "<style scoped>\n",
       "    .dataframe tbody tr th:only-of-type {\n",
       "        vertical-align: middle;\n",
       "    }\n",
       "\n",
       "    .dataframe tbody tr th {\n",
       "        vertical-align: top;\n",
       "    }\n",
       "\n",
       "    .dataframe thead th {\n",
       "        text-align: right;\n",
       "    }\n",
       "</style>\n",
       "<table border=\"1\" class=\"dataframe\">\n",
       "  <thead>\n",
       "    <tr style=\"text-align: right;\">\n",
       "      <th></th>\n",
       "      <th>Constant</th>\n",
       "      <th>PC1</th>\n",
       "      <th>PC2</th>\n",
       "      <th>PC3</th>\n",
       "      <th>PC4</th>\n",
       "      <th>PC5</th>\n",
       "      <th>PC6</th>\n",
       "      <th>PC7</th>\n",
       "      <th>PC8</th>\n",
       "    </tr>\n",
       "    <tr>\n",
       "      <th>DBN</th>\n",
       "      <th></th>\n",
       "      <th></th>\n",
       "      <th></th>\n",
       "      <th></th>\n",
       "      <th></th>\n",
       "      <th></th>\n",
       "      <th></th>\n",
       "      <th></th>\n",
       "      <th></th>\n",
       "    </tr>\n",
       "  </thead>\n",
       "  <tbody>\n",
       "    <tr>\n",
       "      <th>01M034</th>\n",
       "      <td>1.0</td>\n",
       "      <td>-1.034147</td>\n",
       "      <td>-0.154674</td>\n",
       "      <td>0.041446</td>\n",
       "      <td>-0.121625</td>\n",
       "      <td>-0.140503</td>\n",
       "      <td>-0.022917</td>\n",
       "      <td>0.085729</td>\n",
       "      <td>-0.115563</td>\n",
       "    </tr>\n",
       "    <tr>\n",
       "      <th>01M140</th>\n",
       "      <td>1.0</td>\n",
       "      <td>-0.897518</td>\n",
       "      <td>-0.239089</td>\n",
       "      <td>0.340835</td>\n",
       "      <td>-0.080362</td>\n",
       "      <td>-0.185529</td>\n",
       "      <td>-0.040524</td>\n",
       "      <td>0.040417</td>\n",
       "      <td>-0.171720</td>\n",
       "    </tr>\n",
       "    <tr>\n",
       "      <th>01M184</th>\n",
       "      <td>1.0</td>\n",
       "      <td>2.194289</td>\n",
       "      <td>-0.332091</td>\n",
       "      <td>0.116154</td>\n",
       "      <td>0.360031</td>\n",
       "      <td>0.176916</td>\n",
       "      <td>0.095390</td>\n",
       "      <td>0.405709</td>\n",
       "      <td>0.041748</td>\n",
       "    </tr>\n",
       "    <tr>\n",
       "      <th>01M188</th>\n",
       "      <td>1.0</td>\n",
       "      <td>-0.854424</td>\n",
       "      <td>-0.098884</td>\n",
       "      <td>0.270485</td>\n",
       "      <td>0.179960</td>\n",
       "      <td>-0.267610</td>\n",
       "      <td>0.021405</td>\n",
       "      <td>0.023005</td>\n",
       "      <td>-0.074863</td>\n",
       "    </tr>\n",
       "    <tr>\n",
       "      <th>01M301</th>\n",
       "      <td>1.0</td>\n",
       "      <td>-0.685030</td>\n",
       "      <td>-0.173149</td>\n",
       "      <td>-0.172276</td>\n",
       "      <td>-0.223276</td>\n",
       "      <td>-0.072429</td>\n",
       "      <td>-0.045875</td>\n",
       "      <td>0.085162</td>\n",
       "      <td>-0.078991</td>\n",
       "    </tr>\n",
       "  </tbody>\n",
       "</table>\n",
       "</div>"
      ],
      "text/plain": [
       "        Constant       PC1       PC2       PC3       PC4       PC5       PC6  \\\n",
       "DBN                                                                            \n",
       "01M034       1.0 -1.034147 -0.154674  0.041446 -0.121625 -0.140503 -0.022917   \n",
       "01M140       1.0 -0.897518 -0.239089  0.340835 -0.080362 -0.185529 -0.040524   \n",
       "01M184       1.0  2.194289 -0.332091  0.116154  0.360031  0.176916  0.095390   \n",
       "01M188       1.0 -0.854424 -0.098884  0.270485  0.179960 -0.267610  0.021405   \n",
       "01M301       1.0 -0.685030 -0.173149 -0.172276 -0.223276 -0.072429 -0.045875   \n",
       "\n",
       "             PC7       PC8  \n",
       "DBN                         \n",
       "01M034  0.085729 -0.115563  \n",
       "01M140  0.040417 -0.171720  \n",
       "01M184  0.405709  0.041748  \n",
       "01M188  0.023005 -0.074863  \n",
       "01M301  0.085162 -0.078991  "
      ]
     },
     "execution_count": 4,
     "metadata": {},
     "output_type": "execute_result"
    }
   ],
   "source": [
    "base_df = df[[  # explanatory variables\n",
    "    'Charter School?',\n",
    "    'Percent Asian',\n",
    "    'Percent Black',\n",
    "    'Percent Hispanic',\n",
    "    'Percent Other',\n",
    "    'Percent English Language Learners',\n",
    "    'Percent Students with Disabilities',\n",
    "    'Economic Need Index',\n",
    "    'Percent of Students Chronically Absent',\n",
    "    \n",
    "    'Mean Scale Score - ELA',\n",
    "    '% Level 2 - ELA',\n",
    "    '% Level 3 - ELA',\n",
    "    '% Level 4 - ELA',\n",
    "    'Mean Scale Score - Math',\n",
    "    '% Level 2 - Math',\n",
    "    '% Level 3 - Math',\n",
    "    '% Level 4 - Math',\n",
    "]]\n",
    "\n",
    "# transform the variables (apply the PCA)\n",
    "n_components = 8\n",
    "pca = PCA(n_components)\n",
    "transformed = pca.fit_transform(base_df)\n",
    "transformed = pd.DataFrame(transformed, index=base_df.index, columns=[\"PC{}\".format(i+1) for i in range(n_components)])\n",
    "\n",
    "# add a constant column (needed for our model with statsmodels)\n",
    "inputs = transformed\n",
    "inputs.insert(0, 'Constant', 1.0)\n",
    "inputs.head()"
   ]
  },
  {
   "cell_type": "code",
   "execution_count": 5,
   "metadata": {},
   "outputs": [],
   "source": [
    "# prepare inputs and outputs\n",
    "inputs_fit = inputs[applicantsok]\n",
    "outputs_fit = logit(df['% SHSAT Testers'][applicantsok])\n",
    "inputs_predict = inputs\n",
    "\n",
    "# fit the model\n",
    "model = sm.RLM(outputs_fit, inputs_fit, M=sm.robust.norms.HuberT())\n",
    "results = model.fit()\n",
    "\n",
    "# make predictions\n",
    "predictions = model.predict(results.params, exog=inputs_predict)\n",
    "predictions = pd.Series(predictions, index=inputs_predict.index)\n",
    "predictions = expit(predictions)  # expit is the inverse of the logit\n",
    "predictions.name = 'Expected # SHSAT Testers'"
   ]
  },
  {
   "cell_type": "code",
   "execution_count": 6,
   "metadata": {},
   "outputs": [
    {
     "data": {
      "text/html": [
       "<table class=\"simpletable\">\n",
       "<caption>Robust linear Model Regression Results</caption>\n",
       "<tr>\n",
       "  <th>Dep. Variable:</th>   <td>% SHSAT Testers</td> <th>  No. Observations:  </th> <td>   523</td>\n",
       "</tr>\n",
       "<tr>\n",
       "  <th>Model:</th>                 <td>RLM</td>       <th>  Df Residuals:      </th> <td>   514</td>\n",
       "</tr>\n",
       "<tr>\n",
       "  <th>Method:</th>               <td>IRLS</td>       <th>  Df Model:          </th> <td>     8</td>\n",
       "</tr>\n",
       "<tr>\n",
       "  <th>Norm:</th>                <td>HuberT</td>      <th>                     </th>    <td> </td>  \n",
       "</tr>\n",
       "<tr>\n",
       "  <th>Scale Est.:</th>            <td>mad</td>       <th>                     </th>    <td> </td>  \n",
       "</tr>\n",
       "<tr>\n",
       "  <th>Cov Type:</th>              <td>H1</td>        <th>                     </th>    <td> </td>  \n",
       "</tr>\n",
       "<tr>\n",
       "  <th>Date:</th>           <td>Sun, 05 Aug 2018</td> <th>                     </th>    <td> </td>  \n",
       "</tr>\n",
       "<tr>\n",
       "  <th>Time:</th>               <td>16:50:59</td>     <th>                     </th>    <td> </td>  \n",
       "</tr>\n",
       "<tr>\n",
       "  <th>No. Iterations:</th>        <td>21</td>        <th>                     </th>    <td> </td>  \n",
       "</tr>\n",
       "</table>\n",
       "<table class=\"simpletable\">\n",
       "<tr>\n",
       "      <td></td>        <th>coef</th>     <th>std err</th>      <th>z</th>      <th>P>|z|</th>  <th>[0.025</th>    <th>0.975]</th>  \n",
       "</tr>\n",
       "<tr>\n",
       "  <th>Constant</th> <td>   -0.9245</td> <td>    0.025</td> <td>  -37.644</td> <td> 0.000</td> <td>   -0.973</td> <td>   -0.876</td>\n",
       "</tr>\n",
       "<tr>\n",
       "  <th>PC1</th>      <td>    0.5553</td> <td>    0.018</td> <td>   31.026</td> <td> 0.000</td> <td>    0.520</td> <td>    0.590</td>\n",
       "</tr>\n",
       "<tr>\n",
       "  <th>PC2</th>      <td>    0.1209</td> <td>    0.058</td> <td>    2.080</td> <td> 0.038</td> <td>    0.007</td> <td>    0.235</td>\n",
       "</tr>\n",
       "<tr>\n",
       "  <th>PC3</th>      <td>   -0.2142</td> <td>    0.072</td> <td>   -2.989</td> <td> 0.003</td> <td>   -0.355</td> <td>   -0.074</td>\n",
       "</tr>\n",
       "<tr>\n",
       "  <th>PC4</th>      <td>    0.2104</td> <td>    0.095</td> <td>    2.220</td> <td> 0.026</td> <td>    0.025</td> <td>    0.396</td>\n",
       "</tr>\n",
       "<tr>\n",
       "  <th>PC5</th>      <td>    0.6049</td> <td>    0.139</td> <td>    4.361</td> <td> 0.000</td> <td>    0.333</td> <td>    0.877</td>\n",
       "</tr>\n",
       "<tr>\n",
       "  <th>PC6</th>      <td>    1.1256</td> <td>    0.170</td> <td>    6.603</td> <td> 0.000</td> <td>    0.791</td> <td>    1.460</td>\n",
       "</tr>\n",
       "<tr>\n",
       "  <th>PC7</th>      <td>    0.6169</td> <td>    0.207</td> <td>    2.981</td> <td> 0.003</td> <td>    0.211</td> <td>    1.022</td>\n",
       "</tr>\n",
       "<tr>\n",
       "  <th>PC8</th>      <td>    1.0540</td> <td>    0.264</td> <td>    3.991</td> <td> 0.000</td> <td>    0.536</td> <td>    1.572</td>\n",
       "</tr>\n",
       "</table><br/><br/>If the model instance has been used for another fit with different fit<br/>parameters, then the fit options might not be the correct ones anymore ."
      ],
      "text/plain": [
       "<class 'statsmodels.iolib.summary.Summary'>\n",
       "\"\"\"\n",
       "                    Robust linear Model Regression Results                    \n",
       "==============================================================================\n",
       "Dep. Variable:        % SHSAT Testers   No. Observations:                  523\n",
       "Model:                            RLM   Df Residuals:                      514\n",
       "Method:                          IRLS   Df Model:                            8\n",
       "Norm:                          HuberT                                         \n",
       "Scale Est.:                       mad                                         \n",
       "Cov Type:                          H1                                         \n",
       "Date:                Sun, 05 Aug 2018                                         \n",
       "Time:                        16:50:59                                         \n",
       "No. Iterations:                    21                                         \n",
       "==============================================================================\n",
       "                 coef    std err          z      P>|z|      [0.025      0.975]\n",
       "------------------------------------------------------------------------------\n",
       "Constant      -0.9245      0.025    -37.644      0.000      -0.973      -0.876\n",
       "PC1            0.5553      0.018     31.026      0.000       0.520       0.590\n",
       "PC2            0.1209      0.058      2.080      0.038       0.007       0.235\n",
       "PC3           -0.2142      0.072     -2.989      0.003      -0.355      -0.074\n",
       "PC4            0.2104      0.095      2.220      0.026       0.025       0.396\n",
       "PC5            0.6049      0.139      4.361      0.000       0.333       0.877\n",
       "PC6            1.1256      0.170      6.603      0.000       0.791       1.460\n",
       "PC7            0.6169      0.207      2.981      0.003       0.211       1.022\n",
       "PC8            1.0540      0.264      3.991      0.000       0.536       1.572\n",
       "==============================================================================\n",
       "\n",
       "If the model instance has been used for another fit with different fit\n",
       "parameters, then the fit options might not be the correct ones anymore .\n",
       "\"\"\""
      ]
     },
     "execution_count": 6,
     "metadata": {},
     "output_type": "execute_result"
    }
   ],
   "source": [
    "results.summary()"
   ]
  },
  {
   "cell_type": "code",
   "execution_count": 7,
   "metadata": {},
   "outputs": [
    {
     "data": {
      "image/png": "[encoded data removed]",
      "text/plain": [
       "<Figure size 864x576 with 1 Axes>"
      ]
     },
     "metadata": {},
     "output_type": "display_data"
    }
   ],
   "source": [
    "_predictions = logit(predictions[applicantsok])  # values are in logit units\n",
    "_actual = logit(df['% SHSAT Testers'][applicantsok])  # values are in logit units\n",
    "\n",
    "xs = _predictions\n",
    "ys = _actual - _predictions  # residual\n",
    "\n",
    "plt.figure(figsize=(12, 8))\n",
    "plt.plot(xs, ys, '.')\n",
    "plt.axhline(0.0, linestyle='--', color='gray')\n",
    "plt.xlim(-2.5, 2.5)\n",
    "plt.ylim(-3.5, 3.5)\n",
    "plt.title(\"Residual Plot (logit units)\")\n",
    "plt.xlabel(\"Fitted Values\")\n",
    "plt.ylabel(\"Residuals\");"
   ]
  },
  {
   "cell_type": "code",
   "execution_count": 8,
   "metadata": {},
   "outputs": [
    {
     "name": "stdout",
     "output_type": "stream",
     "text": [
      "Median Absolute Error: 0.34255265243940203\n",
      "Mean Squared Error: 0.4347346053891031\n"
     ]
    }
   ],
   "source": [
    "mae = median_absolute_error(_actual, _predictions)\n",
    "mse = mean_squared_error(_actual, _predictions)\n",
    "\n",
    "print(\"Median Absolute Error:\", mae)\n",
    "print(\"Mean Squared Error:\", mse)"
   ]
  },
  {
   "cell_type": "markdown",
   "metadata": {},
   "source": [
    "The low `P>|z|` values indicates that the model is really good, the residual plot indicates a healthy fit and the model scores are what we expected, given the cross-validation results.\n",
    "\n",
    "Below I make a plot for the less statistic-oriented folks. It compares the percentage of students that were expected to take SHSAT to the percentage of students that actually took SHSAT<sup>1</sup>.\n",
    "\n",
    "<sub>1: Schools from 0 to 5 test takers were not included.</sub>"
   ]
  },
  {
   "cell_type": "code",
   "execution_count": 9,
   "metadata": {
    "scrolled": false
   },
   "outputs": [
    {
     "data": {
      "image/png": "[encoded data removed]",
      "text/plain": [
       "<Figure size 864x576 with 1 Axes>"
      ]
     },
     "metadata": {},
     "output_type": "display_data"
    }
   ],
   "source": [
    "xs = predictions[applicantsok]\n",
    "ys = df['% SHSAT Testers'][applicantsok]\n",
    "\n",
    "fig, ax = plt.subplots(figsize=(12, 8))\n",
    "ax.scatter(xs, ys, s=5)\n",
    "ax.plot([0, 1], [0, 1], '--', c='gray')\n",
    "ax.xaxis.set_major_formatter(plt.FuncFormatter(\"{:.0%}\".format))\n",
    "ax.yaxis.set_major_formatter(plt.FuncFormatter(\"{:.0%}\".format))\n",
    "ax.set_xlim(0, 1)\n",
    "ax.set_ylim(0, 1)\n",
    "ax.set_title(\"Regression Results\")\n",
    "ax.set_xlabel(\"Estimated Percentage of SHSAT Applicants\")\n",
    "ax.set_ylabel(\"Actual Percentage of SHSAT Applicants\");"
   ]
  },
  {
   "cell_type": "markdown",
   "metadata": {},
   "source": [
    "Personally, I believe this is a good fit and everyone on Kaggle should use it. Kidding! I mean, it might probably be of good use to PASSNYC. :)\n",
    "\n",
    "Below I will export the predicted probabilities to a nicer format."
   ]
  },
  {
   "cell_type": "code",
   "execution_count": 10,
   "metadata": {},
   "outputs": [
    {
     "data": {
      "text/html": [
       "<div>\n",
       "<style scoped>\n",
       "    .dataframe tbody tr th:only-of-type {\n",
       "        vertical-align: middle;\n",
       "    }\n",
       "\n",
       "    .dataframe tbody tr th {\n",
       "        vertical-align: top;\n",
       "    }\n",
       "\n",
       "    .dataframe thead th {\n",
       "        text-align: right;\n",
       "    }\n",
       "</style>\n",
       "<table border=\"1\" class=\"dataframe\">\n",
       "  <thead>\n",
       "    <tr style=\"text-align: right;\">\n",
       "      <th></th>\n",
       "      <th>Expected # SHSAT Testers</th>\n",
       "    </tr>\n",
       "    <tr>\n",
       "      <th>DBN</th>\n",
       "      <th></th>\n",
       "    </tr>\n",
       "  </thead>\n",
       "  <tbody>\n",
       "    <tr>\n",
       "      <th>01M034</th>\n",
       "      <td>0.150379</td>\n",
       "    </tr>\n",
       "    <tr>\n",
       "      <th>01M140</th>\n",
       "      <td>0.135216</td>\n",
       "    </tr>\n",
       "    <tr>\n",
       "      <th>01M184</th>\n",
       "      <td>0.692827</td>\n",
       "    </tr>\n",
       "    <tr>\n",
       "      <th>01M188</th>\n",
       "      <td>0.163353</td>\n",
       "    </tr>\n",
       "    <tr>\n",
       "      <th>01M301</th>\n",
       "      <td>0.188150</td>\n",
       "    </tr>\n",
       "  </tbody>\n",
       "</table>\n",
       "</div>"
      ],
      "text/plain": [
       "        Expected # SHSAT Testers\n",
       "DBN                             \n",
       "01M034                  0.150379\n",
       "01M140                  0.135216\n",
       "01M184                  0.692827\n",
       "01M188                  0.163353\n",
       "01M301                  0.188150"
      ]
     },
     "execution_count": 10,
     "metadata": {},
     "output_type": "execute_result"
    }
   ],
   "source": [
    "df_export = predictions.to_frame()\n",
    "# df_export.to_csv(\"expected_testers.csv\")\n",
    "df_export.head()"
   ]
  },
  {
   "cell_type": "markdown",
   "metadata": {},
   "source": [
    "And it's done.\n",
    "\n",
    "Some more things to do:\n",
    "\n",
    "- Generate a table with predictions and gaps as a utility for PASSNYC\n",
    "- Demonstrate the use of the table alongside an attractiveness score (or link some other kernels)\n",
    "- Check if the gaps from 2017 are gonna still be relevant in 2018 (Central Harlem I call you)\n",
    "- Try a different model with a little spice that has been in my mind\n",
    "- Remember the dropped schools! I'm gonna create a model for each category of them\n",
    "- Anything you post here VVV"
   ]
  },
  {
   "cell_type": "markdown",
   "metadata": {},
   "source": [
    "See ya!"
   ]
  },
  {
   "cell_type": "markdown",
   "metadata": {},
   "source": [
    "---"
   ]
  },
  {
   "cell_type": "code",
   "execution_count": 13,
   "metadata": {},
   "outputs": [
    {
     "name": "stderr",
     "output_type": "stream",
     "text": [
      "/home/andre/miniconda3/envs/passnyc/lib/python3.6/site-packages/matplotlib/axes/_axes.py:6462: UserWarning: The 'normed' kwarg is deprecated, and has been replaced by the 'density' kwarg.\n",
      "  warnings.warn(\"The 'normed' kwarg is deprecated, and has been \"\n"
     ]
    },
    {
     "data": {
      "text/plain": [
       "<matplotlib.axes._subplots.AxesSubplot at 0x7f5ed4116518>"
      ]
     },
     "execution_count": 13,
     "metadata": {},
     "output_type": "execute_result"
    },
    {
     "data": {
      "image/png": "[encoded data removed]",
      "text/plain": [
       "<Figure size 864x576 with 1 Axes>"
      ]
     },
     "metadata": {},
     "output_type": "display_data"
    }
   ],
   "source": [
    "predictions = predictions[applicantsok]\n",
    "actual = df['% SHSAT Testers'][applicantsok]\n",
    "diffs = actual - predictions\n",
    "\n",
    "plt.figure(figsize=(12, 8))\n",
    "sns.distplot(diffs)"
   ]
  },
  {
   "cell_type": "code",
   "execution_count": 16,
   "metadata": {},
   "outputs": [
    {
     "data": {
      "text/plain": [
       "count    523.000000\n",
       "mean       0.012272\n",
       "std        0.121521\n",
       "min       -0.503565\n",
       "25%       -0.055217\n",
       "50%        0.000500\n",
       "75%        0.068954\n",
       "max        0.564922\n",
       "dtype: float64"
      ]
     },
     "execution_count": 16,
     "metadata": {},
     "output_type": "execute_result"
    }
   ],
   "source": [
    "pd.Series(diffs).describe()"
   ]
  }
 ],
 "metadata": {
  "kernelspec": {
   "display_name": "Python 3",
   "language": "python",
   "name": "python3"
  },
  "language_info": {
   "codemirror_mode": {
    "name": "ipython",
    "version": 3
   },
   "file_extension": ".py",
   "mimetype": "text/x-python",
   "name": "python",
   "nbconvert_exporter": "python",
   "pygments_lexer": "ipython3",
   "version": "3.6.5"
  }
 },
 "nbformat": 4,
 "nbformat_minor": 2
}
