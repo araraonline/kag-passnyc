{
 "cells": [
  {
   "cell_type": "markdown",
   "metadata": {},
   "source": [
    "# Meaning/Usage of Applicants Gap\n",
    "\n",
    "*this kernel is a continuation of the [last one][1]*\n",
    "\n",
    "We estimated the applicants gap... Okat. But, what does it really mean?\n",
    "\n",
    "It is the difference between what we expected and what really happens.  What does this difference means though?\n",
    "\n",
    "It shows any relation that wasn't captured by our model. That is, it measures the effect of factors not present in the following list:\n",
    "\n",
    "- Charter school?\n",
    "- Ethnicity\n",
    "- English language learners?\n",
    "- Students with disabilities?\n",
    "- Economic need of students?\n",
    "- Scores in the NYS yearly tests\n",
    "- Chronic absenteeism rate\n",
    "\n",
    "This is a vague definition, I know, but the effects that the gap capture are relevant. They may include things such as:\n",
    "\n",
    "- Lack of awareness in schools\n",
    "- Shortage of means with which students can apply to SHSAT easily\n",
    "- Students underestimating their capacity of receiving an offer from Specialized High Schools\n",
    "- Etc<sup>1</sup>\n",
    "\n",
    "When a big gap is present, there may be many of these factors at play. And, this is where PASSNYC can come in. If something works differently at a school, PASSNYC can go there, understand what is happening andbe useful when it can.\n",
    "\n",
    "<sub>1: One important factor that I didn't mention is noise. This relationship is better understood in the following kernel:<sub>\n",
    "\n",
    "[1]: https://www.kaggle.com/araraonline/measuring-the-applicants-gap-in-2017"
   ]
  },
  {
   "cell_type": "markdown",
   "metadata": {},
   "source": [
    "# But, how should we use the gap, exactly?\n",
    "\n",
    "Well, the specifics are of PASSNYC's choice. I can give some suggestions though.\n",
    "\n",
    "- As a way of filtering schools\n",
    "\n",
    "   PASSNYC won't be much effective if they target schools that already have a high number of applicants (compared to what would be expected out of them). So, one might filter out schools that have an uninteresting gap.\n",
    "   \n",
    "- Alongside an attractiveness score (please take a look at [this kernel][1] for an example of what I'm talking about)\n",
    "\n",
    "   The applicants gap can possibly be seen as a way of estimating the amount of convert PASSNYC can get if it intervenes in a school. If this potentiality is combined with a measure of attractiveness, the result is a value that balance the potential of PASSNYC when getting in a school along with its desire to do so.\n",
    "\n",
    "- If everything goes wrong it can still be used as an aid to choose schools. Let's say, for example, that PASSNYC discovers that what the gaps measure is some sort of characteristic that we can't even fream on changing. Well... Now we know which schools have more or less of it.<sup>1</sup>\n",
    "\n",
    "<sub>1: In this situtation, though, I would suggest using the model directly instead of the measured gap. The model could give the influence of characteristics that PASSNYC *is* able to change (in opposition to the hypothetical gap failure)</sub>"
   ]
  },
  {
   "cell_type": "markdown",
   "metadata": {},
   "source": [
    "# This gap is nonsensical by itself, can you make it a bit more palpable?\n",
    "\n",
    "Sure thing! Here is a list of schools freshly taken out of the [NYC Open Data][1] and [NYC InfoHub][2]. It alreasy contains the measured gaps in counts and percentages, alongside a ratio of the estimated gap divided by the number of students who sat for the SHSAT.\n",
    "\n",
    "(schools with up to 5 applicants were considered to have exactly 5 applicants, as they already shine a spotlight on them)\n",
    "\n",
    "[1]: https://opendata.cityofnewyork.us/\n",
    "[2]: https://infohub.nyced.org/"
   ]
  },
  {
   "cell_type": "code",
   "execution_count": null,
   "metadata": {},
   "outputs": [],
   "source": [
    "import numpy as np\n",
    "import pandas as pd\n",
    "\n",
    "pd.set_option('display.max_columns', None)"
   ]
  },
  {
   "cell_type": "code",
   "execution_count": null,
   "metadata": {},
   "outputs": [],
   "source": [
    "base_df = pd.read_pickle('../data/process/schools2017.pkl')\n",
    "\n",
    "ex1 = pd.read_csv('../data/keep/expected_testers.csv', index_col=0)\n",
    "ex2 = pd.read_csv('../data/keep/expected_testers2.csv', index_col=0)\n",
    "ex = pd.concat([ex1, ex2])"
   ]
  },
  {
   "cell_type": "code",
   "execution_count": null,
   "metadata": {},
   "outputs": [],
   "source": [
    "hs_counts = base_df['# Students in HS Admissions']\n",
    "\n",
    "cnt_shsat_testers = base_df['# SHSAT Testers'].fillna(5)\n",
    "pct_shsat_testers = cnt_shsat_testers / hs_counts\n",
    "ex_cnt_shsat_testers = ex['Expected % of SHSAT Testers'] * hs_counts\n",
    "ex_pct_shsat_testers = ex['Expected % of SHSAT Testers']\n",
    "\n",
    "df_cnt_shsat_testers = ex_cnt_shsat_testers - cnt_shsat_testers\n",
    "df_pct_shsat_testers = ex_pct_shsat_testers - pct_shsat_testers\n",
    "df_ratio = df_cnt_shsat_testers / cnt_shsat_testers"
   ]
  },
  {
   "cell_type": "code",
   "execution_count": null,
   "metadata": {},
   "outputs": [],
   "source": [
    "table = pd.DataFrame({\n",
    "    'Estimated Sit #': ex_cnt_shsat_testers,\n",
    "    'Actual Sit #': cnt_shsat_testers,\n",
    "    'Diff Sit #': df_cnt_shsat_testers,\n",
    "    \n",
    "    'Estimated Sit %': ex_pct_shsat_testers,\n",
    "    'Actual Sit %': pct_shsat_testers,\n",
    "    'Diff Sit %': df_pct_shsat_testers,\n",
    "    \n",
    "    'Difference Ratio': df_ratio,\n",
    "})\n",
    "joined = base_df.join(table)\n",
    "joined.head()"
   ]
  },
  {
   "cell_type": "code",
   "execution_count": null,
   "metadata": {},
   "outputs": [],
   "source": [
    "# joined.to_csv('deliver.csv')"
   ]
  }
 ],
 "metadata": {
  "kernelspec": {
   "display_name": "Python 3",
   "language": "python",
   "name": "python3"
  },
  "language_info": {
   "codemirror_mode": {
    "name": "ipython",
    "version": 3
   },
   "file_extension": ".py",
   "mimetype": "text/x-python",
   "name": "python",
   "nbconvert_exporter": "python",
   "pygments_lexer": "ipython3",
   "version": "3.6.5"
  }
 },
 "nbformat": 4,
 "nbformat_minor": 2
}
