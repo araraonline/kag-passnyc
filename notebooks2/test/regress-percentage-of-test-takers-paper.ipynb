{
 "cells": [
  {
   "cell_type": "markdown",
   "metadata": {},
   "source": [
    "# (test) Regress percentage of test takers in the paper\n",
    "\n",
    "We will use points obtained from the Article to create a model that predicts your chance of sitting for the SHSAT based on your Math test score (apparently done after the SHSAT).\n",
    "\n",
    "*the test scores are measured in standard deviations*"
   ]
  },
  {
   "cell_type": "code",
   "execution_count": 1,
   "metadata": {},
   "outputs": [
    {
     "data": {
      "text/html": [
       "<div>\n",
       "<style scoped>\n",
       "    .dataframe tbody tr th:only-of-type {\n",
       "        vertical-align: middle;\n",
       "    }\n",
       "\n",
       "    .dataframe tbody tr th {\n",
       "        vertical-align: top;\n",
       "    }\n",
       "\n",
       "    .dataframe thead th {\n",
       "        text-align: right;\n",
       "    }\n",
       "</style>\n",
       "<table border=\"1\" class=\"dataframe\">\n",
       "  <thead>\n",
       "    <tr style=\"text-align: right;\">\n",
       "      <th></th>\n",
       "      <th>0</th>\n",
       "      <th>1</th>\n",
       "    </tr>\n",
       "  </thead>\n",
       "  <tbody>\n",
       "    <tr>\n",
       "      <th>0</th>\n",
       "      <td>-2.662791</td>\n",
       "      <td>2.530815</td>\n",
       "    </tr>\n",
       "    <tr>\n",
       "      <th>1</th>\n",
       "      <td>-2.447674</td>\n",
       "      <td>2.555216</td>\n",
       "    </tr>\n",
       "    <tr>\n",
       "      <th>2</th>\n",
       "      <td>-2.226744</td>\n",
       "      <td>1.918274</td>\n",
       "    </tr>\n",
       "    <tr>\n",
       "      <th>3</th>\n",
       "      <td>-2.017442</td>\n",
       "      <td>1.560510</td>\n",
       "    </tr>\n",
       "    <tr>\n",
       "      <th>4</th>\n",
       "      <td>-1.773256</td>\n",
       "      <td>2.618911</td>\n",
       "    </tr>\n",
       "  </tbody>\n",
       "</table>\n",
       "</div>"
      ],
      "text/plain": [
       "          0         1\n",
       "0 -2.662791  2.530815\n",
       "1 -2.447674  2.555216\n",
       "2 -2.226744  1.918274\n",
       "3 -2.017442  1.560510\n",
       "4 -1.773256  2.618911"
      ]
     },
     "execution_count": 1,
     "metadata": {},
     "output_type": "execute_result"
    }
   ],
   "source": [
    "import pandas as pd\n",
    "\n",
    "points = pd.read_csv('../data/keep/percent-applicants-by-math-grade.csv', header=None)\n",
    "points.head()"
   ]
  },
  {
   "cell_type": "code",
   "execution_count": 2,
   "metadata": {},
   "outputs": [],
   "source": [
    "points.max()\n",
    "\n",
    "grades_zscore = points[0]\n",
    "chance_of_applying = points[1] / 100.0"
   ]
  },
  {
   "cell_type": "code",
   "execution_count": 3,
   "metadata": {},
   "outputs": [
    {
     "data": {
      "text/plain": [
       "[<matplotlib.lines.Line2D at 0x7f59ad5b4240>]"
      ]
     },
     "execution_count": 3,
     "metadata": {},
     "output_type": "execute_result"
    }
   ],
   "source": [
    "import matplotlib.pyplot as plt\n",
    "\n",
    "plt.plot(grades_zscore, chance_of_applying, '-')"
   ]
  },
  {
   "cell_type": "code",
   "execution_count": 4,
   "metadata": {},
   "outputs": [
    {
     "data": {
      "text/plain": [
       "[<matplotlib.lines.Line2D at 0x7f59ab15e630>]"
      ]
     },
     "execution_count": 4,
     "metadata": {},
     "output_type": "execute_result"
    },
    {
     "data": {
      "image/png": "[encoded data removed]",
      "text/plain": [
       "<Figure size 432x288 with 1 Axes>"
      ]
     },
     "metadata": {},
     "output_type": "display_data"
    }
   ],
   "source": [
    "# it looks like it can be regressed using the logit transformation\n",
    "\n",
    "# test this\n",
    "from scipy.special import logit\n",
    "\n",
    "ys = logit(chance_of_applying)\n",
    "\n",
    "plt.plot(grades_zscore, ys, '.')  # two weird tails"
   ]
  },
  {
   "cell_type": "code",
   "execution_count": 5,
   "metadata": {},
   "outputs": [
    {
     "data": {
      "text/plain": [
       "[<matplotlib.lines.Line2D at 0x7f59aaf07a58>]"
      ]
     },
     "execution_count": 5,
     "metadata": {},
     "output_type": "execute_result"
    },
    {
     "data": {
      "image/png": "[encoded data removed]",
      "text/plain": [
       "<Figure size 432x288 with 1 Axes>"
      ]
     },
     "metadata": {},
     "output_type": "display_data"
    }
   ],
   "source": [
    "# okay... what about a gaussian CDF\n",
    "\n",
    "from scipy.optimize import curve_fit\n",
    "from scipy.stats import norm\n",
    "\n",
    "xs = grades_zscore\n",
    "ys = chance_of_applying\n",
    "def cdf(x, mean, std):\n",
    "    return norm.cdf(x, mean, std)\n",
    "popt, pcov = curve_fit(cdf, xs, ys)\n",
    "\n",
    "plt.plot(xs, ys, '.')\n",
    "\n",
    "xs = grades_zscore\n",
    "ys = cdf(xs, *popt)\n",
    "plt.plot(xs, ys, 'r-.')  # nice and fit... let's compare with logit regression"
   ]
  },
  {
   "cell_type": "code",
   "execution_count": 6,
   "metadata": {},
   "outputs": [
    {
     "data": {
      "text/plain": [
       "[<matplotlib.lines.Line2D at 0x7f59a4ca0400>]"
      ]
     },
     "execution_count": 6,
     "metadata": {},
     "output_type": "execute_result"
    },
    {
     "data": {
      "image/png": "[encoded data removed]",
      "text/plain": [
       "<Figure size 432x288 with 1 Axes>"
      ]
     },
     "metadata": {},
     "output_type": "display_data"
    }
   ],
   "source": [
    "from scipy.special import logit, expit\n",
    "\n",
    "xs = grades_zscore\n",
    "ys = logit(chance_of_applying)\n",
    "\n",
    "plt.plot(grades_zscore, ys, '.')  # two weird tails\n",
    "\n",
    "from sklearn.linear_model import LinearRegression\n",
    "\n",
    "model = LinearRegression()\n",
    "model.fit(xs.to_frame(), ys)\n",
    "ys_pred = model.predict(xs.to_frame())\n",
    "\n",
    "plt.plot(xs, ys_pred, 'r-')"
   ]
  },
  {
   "cell_type": "code",
   "execution_count": 7,
   "metadata": {},
   "outputs": [
    {
     "data": {
      "text/plain": [
       "[<matplotlib.lines.Line2D at 0x7f59aaedda20>]"
      ]
     },
     "execution_count": 7,
     "metadata": {},
     "output_type": "execute_result"
    },
    {
     "data": {
      "image/png": "[encoded data removed]",
      "text/plain": [
       "<Figure size 432x288 with 1 Axes>"
      ]
     },
     "metadata": {},
     "output_type": "display_data"
    }
   ],
   "source": [
    "# using a robust model\n",
    "\n",
    "from scipy.special import logit, expit\n",
    "\n",
    "xs = grades_zscore\n",
    "ys = logit(chance_of_applying)\n",
    "\n",
    "plt.plot(grades_zscore, ys, '.')  # two weird tails\n",
    "\n",
    "from sklearn.linear_model import HuberRegressor\n",
    "\n",
    "model = HuberRegressor()\n",
    "model.fit(xs.to_frame(), ys)\n",
    "ys_pred = model.predict(xs.to_frame())\n",
    "\n",
    "plt.plot(xs, ys_pred, 'r-')  # better"
   ]
  },
  {
   "cell_type": "code",
   "execution_count": 8,
   "metadata": {},
   "outputs": [
    {
     "data": {
      "text/plain": [
       "[<matplotlib.lines.Line2D at 0x7f59a1600630>]"
      ]
     },
     "execution_count": 8,
     "metadata": {},
     "output_type": "execute_result"
    },
    {
     "data": {
      "image/png": "[encoded data removed]",
      "text/plain": [
       "<Figure size 432x288 with 1 Axes>"
      ]
     },
     "metadata": {},
     "output_type": "display_data"
    }
   ],
   "source": [
    "# visualizing results above as percentage\n",
    "\n",
    "xs = grades_zscore\n",
    "ys = expit(ys_pred)\n",
    "plt.plot(xs, ys, 'r-.')\n",
    "\n",
    "xs = grades_zscore\n",
    "ys = chance_of_applying\n",
    "plt.plot(xs, ys, '.')"
   ]
  },
  {
   "cell_type": "markdown",
   "metadata": {},
   "source": [
    "One model is better in the middle, the other is better on the tails. Can we average them?"
   ]
  }
 ],
 "metadata": {
  "kernelspec": {
   "display_name": "Python 3",
   "language": "python",
   "name": "python3"
  },
  "language_info": {
   "codemirror_mode": {
    "name": "ipython",
    "version": 3
   },
   "file_extension": ".py",
   "mimetype": "text/x-python",
   "name": "python",
   "nbconvert_exporter": "python",
   "pygments_lexer": "ipython3",
   "version": "3.6.5"
  }
 },
 "nbformat": 4,
 "nbformat_minor": 2
}
