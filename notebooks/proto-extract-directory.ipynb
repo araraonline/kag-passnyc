{
 "cells": [
  {
   "cell_type": "markdown",
   "metadata": {},
   "source": [
    "# (prototype) Extract datra from Schools Directory\n",
    "\n",
    "Data is from Nov 2018, just after the SHSAT. This is no problem, since we will be collecting structural data, instead of student related data."
   ]
  },
  {
   "cell_type": "code",
   "execution_count": 31,
   "metadata": {},
   "outputs": [],
   "source": [
    "import numpy as np\n",
    "import pandas as pd\n",
    "\n",
    "pd.set_option('display.max_rows', 100)\n",
    "pd.set_option('display.max_columns', None)"
   ]
  },
  {
   "cell_type": "code",
   "execution_count": 54,
   "metadata": {},
   "outputs": [
    {
     "data": {
      "text/html": [
       "<div>\n",
       "<style scoped>\n",
       "    .dataframe tbody tr th:only-of-type {\n",
       "        vertical-align: middle;\n",
       "    }\n",
       "\n",
       "    .dataframe tbody tr th {\n",
       "        vertical-align: top;\n",
       "    }\n",
       "\n",
       "    .dataframe thead th {\n",
       "        text-align: right;\n",
       "    }\n",
       "</style>\n",
       "<table border=\"1\" class=\"dataframe\">\n",
       "  <thead>\n",
       "    <tr style=\"text-align: right;\">\n",
       "      <th></th>\n",
       "      <th>Community School?</th>\n",
       "      <th>Borough</th>\n",
       "      <th>Latitude</th>\n",
       "      <th>Longitude</th>\n",
       "    </tr>\n",
       "    <tr>\n",
       "      <th>DBN</th>\n",
       "      <th></th>\n",
       "      <th></th>\n",
       "      <th></th>\n",
       "      <th></th>\n",
       "    </tr>\n",
       "  </thead>\n",
       "  <tbody>\n",
       "    <tr>\n",
       "      <th>06M018</th>\n",
       "      <td>0</td>\n",
       "      <td>manhattan</td>\n",
       "      <td>40.871278</td>\n",
       "      <td>-73.911516</td>\n",
       "    </tr>\n",
       "    <tr>\n",
       "      <th>06M052</th>\n",
       "      <td>0</td>\n",
       "      <td>manhattan</td>\n",
       "      <td>40.866053</td>\n",
       "      <td>-73.924835</td>\n",
       "    </tr>\n",
       "    <tr>\n",
       "      <th>06M143</th>\n",
       "      <td>0</td>\n",
       "      <td>manhattan</td>\n",
       "      <td>40.848908</td>\n",
       "      <td>-73.930948</td>\n",
       "    </tr>\n",
       "    <tr>\n",
       "      <th>06M187</th>\n",
       "      <td>0</td>\n",
       "      <td>manhattan</td>\n",
       "      <td>40.856693</td>\n",
       "      <td>-73.937093</td>\n",
       "    </tr>\n",
       "    <tr>\n",
       "      <th>06M209</th>\n",
       "      <td>0</td>\n",
       "      <td>manhattan</td>\n",
       "      <td>40.820953</td>\n",
       "      <td>-73.951145</td>\n",
       "    </tr>\n",
       "  </tbody>\n",
       "</table>\n",
       "</div>"
      ],
      "text/plain": [
       "        Community School?    Borough   Latitude  Longitude\n",
       "DBN                                                       \n",
       "06M018                  0  manhattan  40.871278 -73.911516\n",
       "06M052                  0  manhattan  40.866053 -73.924835\n",
       "06M143                  0  manhattan  40.848908 -73.930948\n",
       "06M187                  0  manhattan  40.856693 -73.937093\n",
       "06M209                  0  manhattan  40.820953 -73.951145"
      ]
     },
     "execution_count": 54,
     "metadata": {},
     "output_type": "execute_result"
    }
   ],
   "source": [
    "df = pd.read_csv('../data/raw/middle_school_directory.csv')\n",
    "columns = ['schooldbn', 'communityschool', 'Borough', 'Latitude', 'Longitude']\n",
    "\n",
    "# convert communityschool to integer (binary)\n",
    "df['communityschool'] = df['communityschool'].str.startswith('Yes').astype(int)\n",
    "\n",
    "# standardize boroughs\n",
    "df['Borough'] = df['Borough'].fillna('')\n",
    "df['Borough'] = df['Borough'].apply(lambda x: x.lower().strip())\n",
    "df['Borough'] = df['Borough'].replace('staten is', 'staten_island')\n",
    "\n",
    "# add missing info\n",
    "# coordinates are not perfect, but they are good enough\n",
    "missing_info = {\n",
    "    '21K098': [ 'brooklyn', 40.583477, -73.953932],\n",
    "    '05M046': ['manhattan', 40.831713, -73.936023],\n",
    "    '10X308': [    'bronx', 40.885453, -73.878126],\n",
    "}\n",
    "for k, v in missing_info.items():\n",
    "    df.loc[df['schooldbn'] == k, 'Borough'] = v[0]\n",
    "    df.loc[df['schooldbn'] == k, 'Latitude'] = v[1]\n",
    "    df.loc[df['schooldbn'] == k, 'Longitude'] = v[2]\n",
    "    \n",
    "# choose columns and set index\n",
    "df = df[columns]\n",
    "df = df.rename({\n",
    "    'schooldbn': 'DBN',\n",
    "    'communityschool': 'Community School?',\n",
    "}, axis=1)\n",
    "df = df.set_index('DBN')\n",
    "\n",
    "df.head()"
   ]
  },
  {
   "cell_type": "code",
   "execution_count": 57,
   "metadata": {},
   "outputs": [
    {
     "data": {
      "text/plain": [
       "array([0, 1])"
      ]
     },
     "execution_count": 57,
     "metadata": {},
     "output_type": "execute_result"
    }
   ],
   "source": [
    "df['Community School?'].unique()"
   ]
  },
  {
   "cell_type": "code",
   "execution_count": 55,
   "metadata": {},
   "outputs": [
    {
     "data": {
      "text/plain": [
       "array(['manhattan', 'bronx', 'brooklyn', 'queens', 'staten_island'],\n",
       "      dtype=object)"
      ]
     },
     "execution_count": 55,
     "metadata": {},
     "output_type": "execute_result"
    }
   ],
   "source": [
    "df.Borough.unique()"
   ]
  },
  {
   "cell_type": "code",
   "execution_count": 56,
   "metadata": {},
   "outputs": [
    {
     "data": {
      "text/plain": [
       "Community School?    0\n",
       "Borough              0\n",
       "Latitude             0\n",
       "Longitude            0\n",
       "dtype: int64"
      ]
     },
     "execution_count": 56,
     "metadata": {},
     "output_type": "execute_result"
    }
   ],
   "source": [
    "df.isnull().sum()"
   ]
  },
  {
   "cell_type": "markdown",
   "metadata": {},
   "source": [
    "All perfect!"
   ]
  }
 ],
 "metadata": {
  "kernelspec": {
   "display_name": "Python 3",
   "language": "python",
   "name": "python3"
  },
  "language_info": {
   "codemirror_mode": {
    "name": "ipython",
    "version": 3
   },
   "file_extension": ".py",
   "mimetype": "text/x-python",
   "name": "python",
   "nbconvert_exporter": "python",
   "pygments_lexer": "ipython3",
   "version": "3.6.5"
  }
 },
 "nbformat": 4,
 "nbformat_minor": 2
}
