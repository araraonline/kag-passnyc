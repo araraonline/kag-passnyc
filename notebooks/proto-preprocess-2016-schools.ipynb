{
 "cells": [
  {
   "cell_type": "code",
   "execution_count": null,
   "metadata": {},
   "outputs": [],
   "source": [
    "import numpy as np\n",
    "import pandas as pd\n",
    "\n",
    "pd.set_option('display.max_columns', None)\n",
    "pd.set_option('display.max_rows', None)\n",
    "\n",
    "df = pd.read_csv('../data/raw/2016 School Explorer.csv')"
   ]
  },
  {
   "cell_type": "code",
   "execution_count": null,
   "metadata": {},
   "outputs": [],
   "source": [
    "df.head()"
   ]
  },
  {
   "cell_type": "code",
   "execution_count": null,
   "metadata": {},
   "outputs": [],
   "source": [
    "df.shape"
   ]
  },
  {
   "cell_type": "code",
   "execution_count": null,
   "metadata": {},
   "outputs": [],
   "source": [
    "df.isnull().sum().to_frame().transpose()"
   ]
  },
  {
   "cell_type": "markdown",
   "metadata": {},
   "source": [
    "## Cleaning data"
   ]
  },
  {
   "cell_type": "code",
   "execution_count": null,
   "metadata": {},
   "outputs": [],
   "source": [
    "# remove different values\n",
    "\n",
    "df = df[df['Adjusted Grade'].isnull()]\n",
    "df = df[df['New?'].isnull()]\n",
    "df = df[df['Other Location Code in LCGMS'].isnull()]\n",
    "df = df.drop(['Adjusted Grade', 'New?', 'Other Location Code in LCGMS'], axis=1)\n",
    "\n",
    "# drop rows with any NA\n",
    "# except when in the column School Income Estimate\n",
    "\n",
    "sie = df['School Income Estimate']\n",
    "df = df.drop(['School Income Estimate'], axis=1).dropna()\n",
    "df['School Income Estimate'] = sie"
   ]
  },
  {
   "cell_type": "code",
   "execution_count": null,
   "metadata": {},
   "outputs": [],
   "source": [
    "df.shape"
   ]
  },
  {
   "cell_type": "code",
   "execution_count": null,
   "metadata": {},
   "outputs": [],
   "source": [
    "df.isnull().sum().to_frame().transpose()"
   ]
  },
  {
   "cell_type": "markdown",
   "metadata": {},
   "source": [
    "## Formatting columns\n",
    "\n",
    "Let's numerical values to numbers and so on."
   ]
  },
  {
   "cell_type": "code",
   "execution_count": null,
   "metadata": {},
   "outputs": [],
   "source": [
    "df['Community School?'] = df['Community School?'].apply(lambda x: x == 'Yes')\n",
    "\n",
    "\n",
    "def p_to_f(p):\n",
    "    # percentage to float\n",
    "    return float(p[:-1])\n",
    "\n",
    "def r_to_v(r):\n",
    "    # rating to value\n",
    "    return {\n",
    "        'Not Meeting Target': 1,\n",
    "        'Approaching Target': 2,\n",
    "        'Meeting Target': 3,\n",
    "        'Exceeding Target': 4\n",
    "    }[r]\n",
    "\n",
    "def g_to_v(g):\n",
    "    # grade to value\n",
    "    if g == 'PK':\n",
    "        return -1\n",
    "    elif g == '0K':\n",
    "        return 0\n",
    "    else:\n",
    "        return int (g)\n",
    "\n",
    "def d_to_f(d):\n",
    "    # dollar to float\n",
    "    if isinstance(d, str):\n",
    "        return float(d.replace('$', '').replace(',', ''))\n",
    "    else:\n",
    "        return np.nan\n",
    "\n",
    "df['Percent ELL'] = df['Percent ELL'].apply(p_to_f)\n",
    "df['Percent Asian'] = df['Percent Asian'].apply(p_to_f)\n",
    "df['Percent Black'] = df['Percent Black'].apply(p_to_f)\n",
    "df['Percent Hispanic'] = df['Percent Hispanic'].apply(p_to_f)\n",
    "df['Percent Black / Hispanic'] = df['Percent Black / Hispanic'].apply(p_to_f)\n",
    "df['Percent White'] = df['Percent White'].apply(p_to_f)\n",
    "\n",
    "df['Student Attendance Rate'] = df['Student Attendance Rate'].apply(p_to_f)\n",
    "df['Percent of Students Chronically Absent'] = df['Percent of Students Chronically Absent'].apply(p_to_f)\n",
    "\n",
    "df['Rigorous Instruction %'] = df['Rigorous Instruction %'].apply(p_to_f)\n",
    "df['Collaborative Teachers %'] = df['Collaborative Teachers %'].apply(p_to_f)\n",
    "df['Supportive Environment %'] = df['Supportive Environment %'].apply(p_to_f)\n",
    "df['Effective School Leadership %'] = df['Effective School Leadership %'].apply(p_to_f)\n",
    "df['Strong Family-Community Ties %'] = df['Strong Family-Community Ties %'].apply(p_to_f)\n",
    "df['Trust %'] = df['Trust %'].apply(p_to_f)\n",
    "\n",
    "df['Rigorous Instruction Rating'] = df['Rigorous Instruction Rating'].apply(r_to_v)\n",
    "df['Collaborative Teachers Rating'] = df['Collaborative Teachers Rating'].apply(r_to_v)\n",
    "df['Supportive Environment Rating'] = df['Supportive Environment Rating'].apply(r_to_v)\n",
    "df['Effective School Leadership Rating'] = df['Effective School Leadership Rating'].apply(r_to_v)\n",
    "df['Strong Family-Community Ties Rating'] = df['Strong Family-Community Ties Rating'].apply(r_to_v)\n",
    "df['Trust Rating'] = df['Trust Rating'].apply(r_to_v)\n",
    "\n",
    "df['Student Achievement Rating'] = df['Student Achievement Rating'].apply(r_to_v)\n",
    "df['School Income Estimate'] = df['School Income Estimate'].apply(d_to_f)\n",
    "df['Grade Low'] = df['Grade Low'].apply(g_to_v)\n",
    "df['Grade High'] = df['Grade High'].apply(g_to_v)"
   ]
  },
  {
   "cell_type": "code",
   "execution_count": null,
   "metadata": {},
   "outputs": [],
   "source": [
    "df.info(verbose=True)"
   ]
  },
  {
   "cell_type": "code",
   "execution_count": null,
   "metadata": {},
   "outputs": [],
   "source": [
    "df.select_dtypes(['bool']).head()"
   ]
  },
  {
   "cell_type": "code",
   "execution_count": null,
   "metadata": {},
   "outputs": [],
   "source": [
    "df.select_dtypes(['float64']).head()"
   ]
  },
  {
   "cell_type": "code",
   "execution_count": null,
   "metadata": {},
   "outputs": [],
   "source": [
    "df.select_dtypes(['int64']).head()"
   ]
  },
  {
   "cell_type": "code",
   "execution_count": null,
   "metadata": {},
   "outputs": [],
   "source": [
    "df.select_dtypes(['O']).head()"
   ]
  }
 ],
 "metadata": {
  "kernelspec": {
   "display_name": "Python 3",
   "language": "python",
   "name": "python3"
  },
  "language_info": {
   "codemirror_mode": {
    "name": "ipython",
    "version": 3
   },
   "file_extension": ".py",
   "mimetype": "text/x-python",
   "name": "python",
   "nbconvert_exporter": "python",
   "pygments_lexer": "ipython3",
   "version": "3.6.5"
  }
 },
 "nbformat": 4,
 "nbformat_minor": 2
}
