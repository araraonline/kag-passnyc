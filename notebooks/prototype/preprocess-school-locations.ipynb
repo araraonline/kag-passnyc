{
 "cells": [
  {
   "cell_type": "markdown",
   "metadata": {},
   "source": [
    "# (prototype) Preprocess school locations\n",
    "\n",
    "Besides filtering out unused columns, we will create a nice column: Boroughs.\n",
    "\n",
    "This will be based on coordinates on a map."
   ]
  },
  {
   "cell_type": "code",
   "execution_count": 1,
   "metadata": {},
   "outputs": [],
   "source": [
    "import json\n",
    "import re\n",
    "\n",
    "import pandas as pd\n",
    "import shapely.geometry as geo\n",
    "\n",
    "pd.set_option('display.max_columns', None)"
   ]
  },
  {
   "cell_type": "code",
   "execution_count": 17,
   "metadata": {},
   "outputs": [
    {
     "data": {
      "text/html": [
       "<div>\n",
       "<style scoped>\n",
       "    .dataframe tbody tr th:only-of-type {\n",
       "        vertical-align: middle;\n",
       "    }\n",
       "\n",
       "    .dataframe tbody tr th {\n",
       "        vertical-align: top;\n",
       "    }\n",
       "\n",
       "    .dataframe thead th {\n",
       "        text-align: right;\n",
       "    }\n",
       "</style>\n",
       "<table border=\"1\" class=\"dataframe\">\n",
       "  <thead>\n",
       "    <tr style=\"text-align: right;\">\n",
       "      <th></th>\n",
       "      <th>LOCATION_CODE</th>\n",
       "      <th>LOCATION_NAME</th>\n",
       "      <th>MANAGED_BY_NAME</th>\n",
       "      <th>PRIMARY_BUILDING_CODE</th>\n",
       "      <th>COMMUNITY_SCHOOL_SUP_NAME</th>\n",
       "      <th>Location 1</th>\n",
       "    </tr>\n",
       "    <tr>\n",
       "      <th>DBN</th>\n",
       "      <th></th>\n",
       "      <th></th>\n",
       "      <th></th>\n",
       "      <th></th>\n",
       "      <th></th>\n",
       "      <th></th>\n",
       "    </tr>\n",
       "  </thead>\n",
       "  <tbody>\n",
       "    <tr>\n",
       "      <th>01M015</th>\n",
       "      <td>M015</td>\n",
       "      <td>P.S. 015 Roberto Clemente</td>\n",
       "      <td>DOE</td>\n",
       "      <td>M015</td>\n",
       "      <td>PHILLIPS, DANIELLA</td>\n",
       "      <td>333 EAST 4 STREET\\nMANHATTAN, NY 10009\\n(40.72...</td>\n",
       "    </tr>\n",
       "    <tr>\n",
       "      <th>01M019</th>\n",
       "      <td>M019</td>\n",
       "      <td>P.S. 019 Asher Levy</td>\n",
       "      <td>DOE</td>\n",
       "      <td>M019</td>\n",
       "      <td>PHILLIPS, DANIELLA</td>\n",
       "      <td>185 1 AVENUE\\nMANHATTAN, NY 10003\\n(40.730009,...</td>\n",
       "    </tr>\n",
       "    <tr>\n",
       "      <th>01M020</th>\n",
       "      <td>M020</td>\n",
       "      <td>P.S. 020 Anna Silver</td>\n",
       "      <td>DOE</td>\n",
       "      <td>M020</td>\n",
       "      <td>PHILLIPS, DANIELLA</td>\n",
       "      <td>166 ESSEX STREET\\nMANHATTAN, NY 10002\\n(40.721...</td>\n",
       "    </tr>\n",
       "    <tr>\n",
       "      <th>01M034</th>\n",
       "      <td>M034</td>\n",
       "      <td>P.S. 034 Franklin D. Roosevelt</td>\n",
       "      <td>DOE</td>\n",
       "      <td>M034</td>\n",
       "      <td>PHILLIPS, DANIELLA</td>\n",
       "      <td>730 EAST 12 STREET\\nMANHATTAN, NY 10009\\n(40.7...</td>\n",
       "    </tr>\n",
       "    <tr>\n",
       "      <th>01M063</th>\n",
       "      <td>M063</td>\n",
       "      <td>The STAR Academy - P.S.63</td>\n",
       "      <td>DOE</td>\n",
       "      <td>M063</td>\n",
       "      <td>PHILLIPS, DANIELLA</td>\n",
       "      <td>121 EAST 3 STREET\\nMANHATTAN, NY 10009\\n(40.72...</td>\n",
       "    </tr>\n",
       "  </tbody>\n",
       "</table>\n",
       "</div>"
      ],
      "text/plain": [
       "       LOCATION_CODE                   LOCATION_NAME MANAGED_BY_NAME  \\\n",
       "DBN                                                                    \n",
       "01M015          M015       P.S. 015 Roberto Clemente             DOE   \n",
       "01M019          M019             P.S. 019 Asher Levy             DOE   \n",
       "01M020          M020            P.S. 020 Anna Silver             DOE   \n",
       "01M034          M034  P.S. 034 Franklin D. Roosevelt             DOE   \n",
       "01M063          M063       The STAR Academy - P.S.63             DOE   \n",
       "\n",
       "       PRIMARY_BUILDING_CODE COMMUNITY_SCHOOL_SUP_NAME  \\\n",
       "DBN                                                      \n",
       "01M015                  M015        PHILLIPS, DANIELLA   \n",
       "01M019                  M019        PHILLIPS, DANIELLA   \n",
       "01M020                  M020        PHILLIPS, DANIELLA   \n",
       "01M034                  M034        PHILLIPS, DANIELLA   \n",
       "01M063                  M063        PHILLIPS, DANIELLA   \n",
       "\n",
       "                                               Location 1  \n",
       "DBN                                                        \n",
       "01M015  333 EAST 4 STREET\\nMANHATTAN, NY 10009\\n(40.72...  \n",
       "01M019  185 1 AVENUE\\nMANHATTAN, NY 10003\\n(40.730009,...  \n",
       "01M020  166 ESSEX STREET\\nMANHATTAN, NY 10002\\n(40.721...  \n",
       "01M034  730 EAST 12 STREET\\nMANHATTAN, NY 10009\\n(40.7...  \n",
       "01M063  121 EAST 3 STREET\\nMANHATTAN, NY 10009\\n(40.72...  "
      ]
     },
     "execution_count": 17,
     "metadata": {},
     "output_type": "execute_result"
    }
   ],
   "source": [
    "df = pd.read_csv('../data/raw/school_locations_20172018.csv')\n",
    "\n",
    "columns = [    \n",
    "    'ATS SYSTEM CODE',\n",
    "    'LOCATION_CODE',\n",
    "    'LOCATION_NAME',\n",
    "    'MANAGED_BY_NAME',\n",
    "    'PRIMARY_BUILDING_CODE',\n",
    "    'COMMUNITY_SCHOOL_SUP_NAME',\n",
    "    'Location 1',\n",
    "]\n",
    "df = df[columns]\n",
    "\n",
    "df['ATS SYSTEM CODE'] = df['ATS SYSTEM CODE'].str.strip()\n",
    "df = df.set_index('ATS SYSTEM CODE')\n",
    "df.index.name = 'DBN'\n",
    "\n",
    "# remove school not present in NYC\n",
    "df = df[df['Location 1'].notnull()]\n",
    "\n",
    "df.head()"
   ]
  },
  {
   "cell_type": "markdown",
   "metadata": {},
   "source": [
    "## Getting coordinates"
   ]
  },
  {
   "cell_type": "code",
   "execution_count": 22,
   "metadata": {},
   "outputs": [
    {
     "data": {
      "text/html": [
       "<div>\n",
       "<style scoped>\n",
       "    .dataframe tbody tr th:only-of-type {\n",
       "        vertical-align: middle;\n",
       "    }\n",
       "\n",
       "    .dataframe tbody tr th {\n",
       "        vertical-align: top;\n",
       "    }\n",
       "\n",
       "    .dataframe thead th {\n",
       "        text-align: right;\n",
       "    }\n",
       "</style>\n",
       "<table border=\"1\" class=\"dataframe\">\n",
       "  <thead>\n",
       "    <tr style=\"text-align: right;\">\n",
       "      <th></th>\n",
       "      <th>Latitude</th>\n",
       "      <th>Longitude</th>\n",
       "    </tr>\n",
       "    <tr>\n",
       "      <th>DBN</th>\n",
       "      <th></th>\n",
       "      <th></th>\n",
       "    </tr>\n",
       "  </thead>\n",
       "  <tbody>\n",
       "    <tr>\n",
       "      <th>01M015</th>\n",
       "      <td>40.722075</td>\n",
       "      <td>-73.978747</td>\n",
       "    </tr>\n",
       "    <tr>\n",
       "      <th>01M019</th>\n",
       "      <td>40.730009</td>\n",
       "      <td>-73.984496</td>\n",
       "    </tr>\n",
       "    <tr>\n",
       "      <th>01M020</th>\n",
       "      <td>40.721305</td>\n",
       "      <td>-73.986312</td>\n",
       "    </tr>\n",
       "    <tr>\n",
       "      <th>01M034</th>\n",
       "      <td>40.726008</td>\n",
       "      <td>-73.975058</td>\n",
       "    </tr>\n",
       "    <tr>\n",
       "      <th>01M063</th>\n",
       "      <td>40.724440</td>\n",
       "      <td>-73.986214</td>\n",
       "    </tr>\n",
       "  </tbody>\n",
       "</table>\n",
       "</div>"
      ],
      "text/plain": [
       "         Latitude  Longitude\n",
       "DBN                         \n",
       "01M015  40.722075 -73.978747\n",
       "01M019  40.730009 -73.984496\n",
       "01M020  40.721305 -73.986312\n",
       "01M034  40.726008 -73.975058\n",
       "01M063  40.724440 -73.986214"
      ]
     },
     "execution_count": 22,
     "metadata": {},
     "output_type": "execute_result"
    }
   ],
   "source": [
    "def extract_coordinates(x):\n",
    "    coordinates = map(float, re.findall(r'\\((.*), (.*)\\)$', x)[0])\n",
    "    return tuple(coordinates)\n",
    "\n",
    "coordinates = pd.DataFrame([extract_coordinates(x) for x in df['Location 1']], index=df.index, columns=['Latitude', 'Longitude'])\n",
    "coordinates.loc['84X497', ['Latitude', 'Longitude']] = [40.816698, -73.918099]  # bad entry\n",
    "coordinates.head()"
   ]
  },
  {
   "cell_type": "markdown",
   "metadata": {},
   "source": [
    "## Getting Boroughs"
   ]
  },
  {
   "cell_type": "code",
   "execution_count": 31,
   "metadata": {},
   "outputs": [],
   "source": [
    "with open('../data/raw/boroughs.geojson') as f:\n",
    "    geojson = json.load(f)"
   ]
  },
  {
   "cell_type": "code",
   "execution_count": 32,
   "metadata": {},
   "outputs": [],
   "source": [
    "for feature in geojson['features']:\n",
    "    feature['polygon'] = geo.shape(feature['geometry'])"
   ]
  },
  {
   "cell_type": "code",
   "execution_count": 33,
   "metadata": {},
   "outputs": [
    {
     "name": "stdout",
     "output_type": "stream",
     "text": [
      "CPU times: user 18.3 s, sys: 9.94 ms, total: 18.3 s\n",
      "Wall time: 18.3 s\n"
     ]
    }
   ],
   "source": [
    "def get_borough(school):\n",
    "    point = geo.Point(school['Longitude'], school['Latitude'])\n",
    "    \n",
    "    for feature in geojson['features']:\n",
    "        polygon = feature['polygon']\n",
    "        if polygon.contains(point):\n",
    "            return feature['properties']['BoroName']\n",
    "\n",
    "%time boroughs = coordinates.apply(get_borough, axis=1)"
   ]
  },
  {
   "cell_type": "code",
   "execution_count": 35,
   "metadata": {},
   "outputs": [
    {
     "data": {
      "text/plain": [
       "array(['Manhattan', 'Bronx', 'Brooklyn', 'Queens', 'Staten Island'],\n",
       "      dtype=object)"
      ]
     },
     "execution_count": 35,
     "metadata": {},
     "output_type": "execute_result"
    }
   ],
   "source": [
    "boroughs.unique()"
   ]
  },
  {
   "cell_type": "code",
   "execution_count": 34,
   "metadata": {},
   "outputs": [
    {
     "data": {
      "text/plain": [
       "Brooklyn         566\n",
       "Bronx            434\n",
       "Queens           374\n",
       "Manhattan        369\n",
       "Staten Island     79\n",
       "dtype: int64"
      ]
     },
     "execution_count": 34,
     "metadata": {},
     "output_type": "execute_result"
    }
   ],
   "source": [
    "boroughs.value_counts()"
   ]
  }
 ],
 "metadata": {
  "kernelspec": {
   "display_name": "Python 3",
   "language": "python",
   "name": "python3"
  },
  "language_info": {
   "codemirror_mode": {
    "name": "ipython",
    "version": 3
   },
   "file_extension": ".py",
   "mimetype": "text/x-python",
   "name": "python",
   "nbconvert_exporter": "python",
   "pygments_lexer": "ipython3",
   "version": "3.6.5"
  }
 },
 "nbformat": 4,
 "nbformat_minor": 2
}
