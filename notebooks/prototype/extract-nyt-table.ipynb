{
 "cells": [
  {
   "cell_type": "markdown",
   "metadata": {},
   "source": [
    "# (Prototype) Extracting NYT table\n",
    "\n",
    "In this prototype, we will extract data from the table present here:\n",
    "\n",
    "https://www.nytimes.com/interactive/2018/06/29/nyregion/nyc-high-schools-middle-schools-shsat-students.html?rref=collection%2Fbyline%2Fjasmine-c.-lee&action=click&contentCollection=undefined&region=stream&module=stream_unit&version=latest&contentPlacement=1&pgtype=collection\n",
    "\n",
    "It contains information about the number of applicants and admitted students (in SPHS) for each school in NYC (but not all of them).\n",
    "\n",
    "*Data is from the end of 2017*"
   ]
  },
  {
   "cell_type": "code",
   "execution_count": 2,
   "metadata": {},
   "outputs": [],
   "source": [
    "import requests\n",
    "import parsel\n",
    "\n",
    "URL = r'https://www.nytimes.com/interactive/2018/06/29/nyregion/nyc-high-schools-middle-schools-shsat-students.html?rref=collection%2Fbyline%2Fjasmine-c.-lee&action=click&contentCollection=undefined&region=stream&module=stream_unit&version=latest&contentPlacement=1&pgtype=collection'\n",
    "r = requests.get(URL)\n",
    "s = parsel.Selector(r.text)"
   ]
  },
  {
   "cell_type": "code",
   "execution_count": 4,
   "metadata": {},
   "outputs": [
    {
     "data": {
      "text/plain": [
       "589"
      ]
     },
     "execution_count": 4,
     "metadata": {},
     "output_type": "execute_result"
    }
   ],
   "source": [
    "_rows = s.css('.g-main tr')\n",
    "len(_rows)"
   ]
  },
  {
   "cell_type": "code",
   "execution_count": 35,
   "metadata": {},
   "outputs": [],
   "source": [
    "_row = _rows[0]"
   ]
  },
  {
   "cell_type": "code",
   "execution_count": 37,
   "metadata": {},
   "outputs": [],
   "source": [
    "DBN = _row.css('::attr(data-dbn)').extract_first()\n",
    "\n",
    "school_name_number = _row.css('.g-school-name-number::text').extract_first()\n",
    "school_name_details = _row.css('.g-school-name-details::text').extract_first()\n",
    "borough = _row.css('.g-borough::text').extract_first()\n",
    "\n",
    "testers = _row.css('.g-testers::text').extract_first()\n",
    "offers = _row.css('.g-offers::text').extract_first()\n",
    "offers_per_student = _row.css('.g-offers-per-student::text').extract_first()\n",
    "pct_hispanic_black = _row.css('.g-pct::text').extract_first()"
   ]
  },
  {
   "cell_type": "code",
   "execution_count": 39,
   "metadata": {},
   "outputs": [],
   "source": [
    "from collections import OrderedDict\n",
    "\n",
    "\n",
    "schools = []\n",
    "\n",
    "for _row in _rows:\n",
    "    school = OrderedDict()\n",
    "    school['DBN'] = _row.css('::attr(data-dbn)').extract_first()\n",
    "    school['school_name_number'] = _row.css('.g-school-name-number::text').extract_first()\n",
    "    school['school_name_details'] = _row.css('.g-school-name-details::text').extract_first()\n",
    "    school['borough'] = _row.css('.g-borough::text').extract_first()\n",
    "    school['testers'] = _row.css('.g-testers::text').extract_first()\n",
    "    school['offers'] = _row.css('.g-offers::text').extract_first()\n",
    "    school['offers_per_student'] = _row.css('.g-offers-per-student::text').extract_first()\n",
    "    school['pct_hispanic_black'] = _row.css('.g-pct::text').extract_first()    \n",
    "    schools.append(school)"
   ]
  },
  {
   "cell_type": "code",
   "execution_count": 40,
   "metadata": {},
   "outputs": [
    {
     "data": {
      "text/html": [
       "<div>\n",
       "<style scoped>\n",
       "    .dataframe tbody tr th:only-of-type {\n",
       "        vertical-align: middle;\n",
       "    }\n",
       "\n",
       "    .dataframe tbody tr th {\n",
       "        vertical-align: top;\n",
       "    }\n",
       "\n",
       "    .dataframe thead th {\n",
       "        text-align: right;\n",
       "    }\n",
       "</style>\n",
       "<table border=\"1\" class=\"dataframe\">\n",
       "  <thead>\n",
       "    <tr style=\"text-align: right;\">\n",
       "      <th></th>\n",
       "      <th>DBN</th>\n",
       "      <th>school_name_number</th>\n",
       "      <th>school_name_details</th>\n",
       "      <th>borough</th>\n",
       "      <th>testers</th>\n",
       "      <th>offers</th>\n",
       "      <th>offers_per_student</th>\n",
       "      <th>pct_hispanic_black</th>\n",
       "    </tr>\n",
       "  </thead>\n",
       "  <tbody>\n",
       "    <tr>\n",
       "      <th>0</th>\n",
       "      <td>20K187</td>\n",
       "      <td>Intermediate School 187</td>\n",
       "      <td>The Christa McAuliffe School</td>\n",
       "      <td>Brooklyn</td>\n",
       "      <td>251</td>\n",
       "      <td>205</td>\n",
       "      <td>75%</td>\n",
       "      <td>8%</td>\n",
       "    </tr>\n",
       "    <tr>\n",
       "      <th>1</th>\n",
       "      <td>21K239</td>\n",
       "      <td>Intermediate School 239</td>\n",
       "      <td>The Mark Twain Intermediate School for the Gif...</td>\n",
       "      <td>Brooklyn</td>\n",
       "      <td>336</td>\n",
       "      <td>196</td>\n",
       "      <td>46%</td>\n",
       "      <td>13%</td>\n",
       "    </tr>\n",
       "    <tr>\n",
       "      <th>2</th>\n",
       "      <td>03M054</td>\n",
       "      <td>Junior High School 54</td>\n",
       "      <td>The Booker T. Washington School</td>\n",
       "      <td>Manhattan</td>\n",
       "      <td>257</td>\n",
       "      <td>150</td>\n",
       "      <td>53%</td>\n",
       "      <td>23%</td>\n",
       "    </tr>\n",
       "    <tr>\n",
       "      <th>3</th>\n",
       "      <td>15K051</td>\n",
       "      <td>Midde School 51</td>\n",
       "      <td>The William Alexander School</td>\n",
       "      <td>Brooklyn</td>\n",
       "      <td>280</td>\n",
       "      <td>122</td>\n",
       "      <td>33%</td>\n",
       "      <td>28%</td>\n",
       "    </tr>\n",
       "    <tr>\n",
       "      <th>4</th>\n",
       "      <td>02M312</td>\n",
       "      <td>None</td>\n",
       "      <td>New York City Lab Middle School for Collaborat...</td>\n",
       "      <td>Manhattan</td>\n",
       "      <td>163</td>\n",
       "      <td>113</td>\n",
       "      <td>62%</td>\n",
       "      <td>8%</td>\n",
       "    </tr>\n",
       "  </tbody>\n",
       "</table>\n",
       "</div>"
      ],
      "text/plain": [
       "      DBN       school_name_number  \\\n",
       "0  20K187  Intermediate School 187   \n",
       "1  21K239  Intermediate School 239   \n",
       "2  03M054    Junior High School 54   \n",
       "3  15K051          Midde School 51   \n",
       "4  02M312                     None   \n",
       "\n",
       "                                 school_name_details    borough testers  \\\n",
       "0                       The Christa McAuliffe School   Brooklyn     251   \n",
       "1  The Mark Twain Intermediate School for the Gif...   Brooklyn     336   \n",
       "2                    The Booker T. Washington School  Manhattan     257   \n",
       "3                       The William Alexander School   Brooklyn     280   \n",
       "4  New York City Lab Middle School for Collaborat...  Manhattan     163   \n",
       "\n",
       "  offers offers_per_student pct_hispanic_black  \n",
       "0    205                75%                 8%  \n",
       "1    196                46%                13%  \n",
       "2    150                53%                23%  \n",
       "3    122                33%                28%  \n",
       "4    113                62%                 8%  "
      ]
     },
     "execution_count": 40,
     "metadata": {},
     "output_type": "execute_result"
    }
   ],
   "source": [
    "import pandas as pd\n",
    "\n",
    "df = pd.DataFrame(schools)\n",
    "df.head()"
   ]
  },
  {
   "cell_type": "code",
   "execution_count": 62,
   "metadata": {},
   "outputs": [
    {
     "data": {
      "text/plain": [
       "—     52\n",
       "6     19\n",
       "7     17\n",
       "9     17\n",
       "10    17\n",
       "Name: testers, dtype: int64"
      ]
     },
     "execution_count": 62,
     "metadata": {},
     "output_type": "execute_result"
    }
   ],
   "source": [
    "df.testers.value_counts().head()"
   ]
  },
  {
   "cell_type": "code",
   "execution_count": 63,
   "metadata": {},
   "outputs": [
    {
     "data": {
      "text/plain": [
       "(589, 8)"
      ]
     },
     "execution_count": 63,
     "metadata": {},
     "output_type": "execute_result"
    }
   ],
   "source": [
    "df.shape"
   ]
  },
  {
   "cell_type": "markdown",
   "metadata": {},
   "source": [
    "And all is good... Some missing values are '—' (not '-') and they mean that 5 or less students represent that category (or, as a percentage, that it can't be calculated)...\n",
    "\n",
    "There are far less schools in this dataset here then in the dataset we were provided... This may pose a problem as those schools may be excluded... And the ones that don't appear here may be the ones that need most help... Anyway\n",
    "\n",
    "Let's convert this into a simple script and join it into the pipeline."
   ]
  }
 ],
 "metadata": {
  "kernelspec": {
   "display_name": "Python 3",
   "language": "python",
   "name": "python3"
  },
  "language_info": {
   "codemirror_mode": {
    "name": "ipython",
    "version": 3
   },
   "file_extension": ".py",
   "mimetype": "text/x-python",
   "name": "python",
   "nbconvert_exporter": "python",
   "pygments_lexer": "ipython3",
   "version": "3.6.5"
  }
 },
 "nbformat": 4,
 "nbformat_minor": 2
}
