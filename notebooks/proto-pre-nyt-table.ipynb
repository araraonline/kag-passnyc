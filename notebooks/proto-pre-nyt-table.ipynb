{
 "cells": [
  {
   "cell_type": "markdown",
   "metadata": {},
   "source": [
    "# (prototype) Preprocess NYT SHSAT table\n",
    "\n",
    "In this notebook we will preprocess the NYT table so we can join it into our other data and test hypotheses."
   ]
  },
  {
   "cell_type": "code",
   "execution_count": 1,
   "metadata": {},
   "outputs": [
    {
     "data": {
      "text/html": [
       "<div>\n",
       "<style scoped>\n",
       "    .dataframe tbody tr th:only-of-type {\n",
       "        vertical-align: middle;\n",
       "    }\n",
       "\n",
       "    .dataframe tbody tr th {\n",
       "        vertical-align: top;\n",
       "    }\n",
       "\n",
       "    .dataframe thead th {\n",
       "        text-align: right;\n",
       "    }\n",
       "</style>\n",
       "<table border=\"1\" class=\"dataframe\">\n",
       "  <thead>\n",
       "    <tr style=\"text-align: right;\">\n",
       "      <th></th>\n",
       "      <th>DBN</th>\n",
       "      <th>school_name_number</th>\n",
       "      <th>school_name_details</th>\n",
       "      <th>borough</th>\n",
       "      <th>testers</th>\n",
       "      <th>offers</th>\n",
       "      <th>offers_per_student</th>\n",
       "      <th>pct_hispanic_black</th>\n",
       "    </tr>\n",
       "  </thead>\n",
       "  <tbody>\n",
       "    <tr>\n",
       "      <th>0</th>\n",
       "      <td>20K187</td>\n",
       "      <td>Intermediate School 187</td>\n",
       "      <td>The Christa McAuliffe School</td>\n",
       "      <td>Brooklyn</td>\n",
       "      <td>251</td>\n",
       "      <td>205</td>\n",
       "      <td>75%</td>\n",
       "      <td>8%</td>\n",
       "    </tr>\n",
       "    <tr>\n",
       "      <th>1</th>\n",
       "      <td>21K239</td>\n",
       "      <td>Intermediate School 239</td>\n",
       "      <td>The Mark Twain Intermediate School for the Gif...</td>\n",
       "      <td>Brooklyn</td>\n",
       "      <td>336</td>\n",
       "      <td>196</td>\n",
       "      <td>46%</td>\n",
       "      <td>13%</td>\n",
       "    </tr>\n",
       "    <tr>\n",
       "      <th>2</th>\n",
       "      <td>03M054</td>\n",
       "      <td>Junior High School 54</td>\n",
       "      <td>The Booker T. Washington School</td>\n",
       "      <td>Manhattan</td>\n",
       "      <td>257</td>\n",
       "      <td>150</td>\n",
       "      <td>53%</td>\n",
       "      <td>23%</td>\n",
       "    </tr>\n",
       "    <tr>\n",
       "      <th>3</th>\n",
       "      <td>15K051</td>\n",
       "      <td>Midde School 51</td>\n",
       "      <td>The William Alexander School</td>\n",
       "      <td>Brooklyn</td>\n",
       "      <td>280</td>\n",
       "      <td>122</td>\n",
       "      <td>33%</td>\n",
       "      <td>28%</td>\n",
       "    </tr>\n",
       "    <tr>\n",
       "      <th>4</th>\n",
       "      <td>02M312</td>\n",
       "      <td>NaN</td>\n",
       "      <td>New York City Lab Middle School for Collaborat...</td>\n",
       "      <td>Manhattan</td>\n",
       "      <td>163</td>\n",
       "      <td>113</td>\n",
       "      <td>62%</td>\n",
       "      <td>8%</td>\n",
       "    </tr>\n",
       "  </tbody>\n",
       "</table>\n",
       "</div>"
      ],
      "text/plain": [
       "      DBN       school_name_number  \\\n",
       "0  20K187  Intermediate School 187   \n",
       "1  21K239  Intermediate School 239   \n",
       "2  03M054    Junior High School 54   \n",
       "3  15K051          Midde School 51   \n",
       "4  02M312                      NaN   \n",
       "\n",
       "                                 school_name_details    borough testers  \\\n",
       "0                       The Christa McAuliffe School   Brooklyn     251   \n",
       "1  The Mark Twain Intermediate School for the Gif...   Brooklyn     336   \n",
       "2                    The Booker T. Washington School  Manhattan     257   \n",
       "3                       The William Alexander School   Brooklyn     280   \n",
       "4  New York City Lab Middle School for Collaborat...  Manhattan     163   \n",
       "\n",
       "  offers offers_per_student pct_hispanic_black  \n",
       "0    205                75%                 8%  \n",
       "1    196                46%                13%  \n",
       "2    150                53%                23%  \n",
       "3    122                33%                28%  \n",
       "4    113                62%                 8%  "
      ]
     },
     "execution_count": 1,
     "metadata": {},
     "output_type": "execute_result"
    }
   ],
   "source": [
    "import pandas as pd\n",
    "\n",
    "df = pd.read_csv('../data/raw/nyt_table.csv')\n",
    "df.head()"
   ]
  },
  {
   "cell_type": "code",
   "execution_count": 2,
   "metadata": {},
   "outputs": [
    {
     "name": "stdout",
     "output_type": "stream",
     "text": [
      "<class 'pandas.core.frame.DataFrame'>\n",
      "RangeIndex: 589 entries, 0 to 588\n",
      "Data columns (total 8 columns):\n",
      "DBN                    589 non-null object\n",
      "school_name_number     231 non-null object\n",
      "school_name_details    589 non-null object\n",
      "borough                589 non-null object\n",
      "testers                589 non-null object\n",
      "offers                 589 non-null object\n",
      "offers_per_student     589 non-null object\n",
      "pct_hispanic_black     589 non-null object\n",
      "dtypes: object(8)\n",
      "memory usage: 36.9+ KB\n"
     ]
    }
   ],
   "source": [
    "df.info()"
   ]
  },
  {
   "cell_type": "code",
   "execution_count": 3,
   "metadata": {},
   "outputs": [
    {
     "data": {
      "text/html": [
       "<div>\n",
       "<style scoped>\n",
       "    .dataframe tbody tr th:only-of-type {\n",
       "        vertical-align: middle;\n",
       "    }\n",
       "\n",
       "    .dataframe tbody tr th {\n",
       "        vertical-align: top;\n",
       "    }\n",
       "\n",
       "    .dataframe thead th {\n",
       "        text-align: right;\n",
       "    }\n",
       "</style>\n",
       "<table border=\"1\" class=\"dataframe\">\n",
       "  <thead>\n",
       "    <tr style=\"text-align: right;\">\n",
       "      <th></th>\n",
       "      <th>DBN</th>\n",
       "      <th>school_name_number</th>\n",
       "      <th>school_name_details</th>\n",
       "      <th>borough</th>\n",
       "      <th>testers</th>\n",
       "      <th>offers</th>\n",
       "      <th>offers_per_student</th>\n",
       "      <th>pct_hispanic_black</th>\n",
       "    </tr>\n",
       "  </thead>\n",
       "  <tbody>\n",
       "    <tr>\n",
       "      <th>0</th>\n",
       "      <td>20K187</td>\n",
       "      <td>Intermediate School 187</td>\n",
       "      <td>The Christa McAuliffe School</td>\n",
       "      <td>Brooklyn</td>\n",
       "      <td>251.0</td>\n",
       "      <td>205.0</td>\n",
       "      <td>0.75</td>\n",
       "      <td>0.08</td>\n",
       "    </tr>\n",
       "    <tr>\n",
       "      <th>1</th>\n",
       "      <td>21K239</td>\n",
       "      <td>Intermediate School 239</td>\n",
       "      <td>The Mark Twain Intermediate School for the Gif...</td>\n",
       "      <td>Brooklyn</td>\n",
       "      <td>336.0</td>\n",
       "      <td>196.0</td>\n",
       "      <td>0.46</td>\n",
       "      <td>0.13</td>\n",
       "    </tr>\n",
       "    <tr>\n",
       "      <th>2</th>\n",
       "      <td>03M054</td>\n",
       "      <td>Junior High School 54</td>\n",
       "      <td>The Booker T. Washington School</td>\n",
       "      <td>Manhattan</td>\n",
       "      <td>257.0</td>\n",
       "      <td>150.0</td>\n",
       "      <td>0.53</td>\n",
       "      <td>0.23</td>\n",
       "    </tr>\n",
       "    <tr>\n",
       "      <th>3</th>\n",
       "      <td>15K051</td>\n",
       "      <td>Midde School 51</td>\n",
       "      <td>The William Alexander School</td>\n",
       "      <td>Brooklyn</td>\n",
       "      <td>280.0</td>\n",
       "      <td>122.0</td>\n",
       "      <td>0.33</td>\n",
       "      <td>0.28</td>\n",
       "    </tr>\n",
       "    <tr>\n",
       "      <th>4</th>\n",
       "      <td>02M312</td>\n",
       "      <td>NaN</td>\n",
       "      <td>New York City Lab Middle School for Collaborat...</td>\n",
       "      <td>Manhattan</td>\n",
       "      <td>163.0</td>\n",
       "      <td>113.0</td>\n",
       "      <td>0.62</td>\n",
       "      <td>0.08</td>\n",
       "    </tr>\n",
       "  </tbody>\n",
       "</table>\n",
       "</div>"
      ],
      "text/plain": [
       "      DBN       school_name_number  \\\n",
       "0  20K187  Intermediate School 187   \n",
       "1  21K239  Intermediate School 239   \n",
       "2  03M054    Junior High School 54   \n",
       "3  15K051          Midde School 51   \n",
       "4  02M312                      NaN   \n",
       "\n",
       "                                 school_name_details    borough  testers  \\\n",
       "0                       The Christa McAuliffe School   Brooklyn    251.0   \n",
       "1  The Mark Twain Intermediate School for the Gif...   Brooklyn    336.0   \n",
       "2                    The Booker T. Washington School  Manhattan    257.0   \n",
       "3                       The William Alexander School   Brooklyn    280.0   \n",
       "4  New York City Lab Middle School for Collaborat...  Manhattan    163.0   \n",
       "\n",
       "   offers  offers_per_student  pct_hispanic_black  \n",
       "0   205.0                0.75                0.08  \n",
       "1   196.0                0.46                0.13  \n",
       "2   150.0                0.53                0.23  \n",
       "3   122.0                0.33                0.28  \n",
       "4   113.0                0.62                0.08  "
      ]
     },
     "execution_count": 3,
     "metadata": {},
     "output_type": "execute_result"
    }
   ],
   "source": [
    "import numpy as np\n",
    "\n",
    "\n",
    "# the character '—' is pretty close, but not equal to '-'\n",
    "\n",
    "def parse_int(x):\n",
    "    return np.nan if x == '—' else int(x)\n",
    "\n",
    "def parse_pct(x):\n",
    "    return np.nan if x == '—' else float(x[:-1]) / 100.0\n",
    "\n",
    "df['testers'] = df['testers'].apply(parse_int)\n",
    "df['offers'] = df['offers'].apply(parse_int)\n",
    "\n",
    "df['offers_per_student'] = df['offers_per_student'].apply(parse_pct)\n",
    "df['pct_hispanic_black'] = df['pct_hispanic_black'].apply(parse_pct)\n",
    "\n",
    "df.head()"
   ]
  },
  {
   "cell_type": "code",
   "execution_count": 4,
   "metadata": {},
   "outputs": [
    {
     "data": {
      "text/plain": [
       "(589, 8)"
      ]
     },
     "execution_count": 4,
     "metadata": {},
     "output_type": "execute_result"
    }
   ],
   "source": [
    "df.shape"
   ]
  },
  {
   "cell_type": "code",
   "execution_count": 5,
   "metadata": {
    "scrolled": true
   },
   "outputs": [
    {
     "data": {
      "text/plain": [
       "DBN                      0\n",
       "school_name_number     358\n",
       "school_name_details      0\n",
       "borough                  0\n",
       "testers                 52\n",
       "offers                 469\n",
       "offers_per_student     469\n",
       "pct_hispanic_black       0\n",
       "dtype: int64"
      ]
     },
     "execution_count": 5,
     "metadata": {},
     "output_type": "execute_result"
    }
   ],
   "source": [
    "df.isnull().sum()"
   ]
  },
  {
   "cell_type": "code",
   "execution_count": 6,
   "metadata": {},
   "outputs": [
    {
     "data": {
      "text/plain": [
       "DBN                    0.000000\n",
       "school_name_number     0.607810\n",
       "school_name_details    0.000000\n",
       "borough                0.000000\n",
       "testers                0.088285\n",
       "offers                 0.796265\n",
       "offers_per_student     0.796265\n",
       "pct_hispanic_black     0.000000\n",
       "dtype: float64"
      ]
     },
     "execution_count": 6,
     "metadata": {},
     "output_type": "execute_result"
    }
   ],
   "source": [
    "df.isnull().mean()"
   ]
  },
  {
   "cell_type": "markdown",
   "metadata": {},
   "source": [
    "The missing values in this dataset mean that there are *5 or less students* in the category.\n",
    "\n",
    "We can see that most schools in this dataset receive less than 6 SPHS offers, and about 8.8% of the schools have less than 6 test takers."
   ]
  }
 ],
 "metadata": {
  "kernelspec": {
   "display_name": "Python 3",
   "language": "python",
   "name": "python3"
  },
  "language_info": {
   "codemirror_mode": {
    "name": "ipython",
    "version": 3
   },
   "file_extension": ".py",
   "mimetype": "text/x-python",
   "name": "python",
   "nbconvert_exporter": "python",
   "pygments_lexer": "ipython3",
   "version": "3.6.5"
  }
 },
 "nbformat": 4,
 "nbformat_minor": 2
}
