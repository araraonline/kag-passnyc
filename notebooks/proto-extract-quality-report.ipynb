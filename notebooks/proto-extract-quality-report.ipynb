{
 "cells": [
  {
   "cell_type": "markdown",
   "metadata": {},
   "source": [
    "# (prototype) Extract Quality Report Information\n",
    "\n",
    "The quality report has lots of useful information... Let's extract those that are useful for us right now. Data is from the school year 2016-17 (was made public by then end of 2017). Our focus group was composed of 7th graders."
   ]
  },
  {
   "cell_type": "code",
   "execution_count": 1,
   "metadata": {},
   "outputs": [],
   "source": [
    "import pandas as pd\n",
    "\n",
    "pd.set_option('display.max_rows', 100)\n",
    "pd.set_option('display.max_columns', None)"
   ]
  },
  {
   "cell_type": "code",
   "execution_count": 2,
   "metadata": {},
   "outputs": [],
   "source": [
    "summary = pd.read_excel('../data/raw/quality_report_20162017.xlsx', sheet_name='Summary', skiprows=[0])"
   ]
  },
  {
   "cell_type": "code",
   "execution_count": 3,
   "metadata": {},
   "outputs": [
    {
     "data": {
      "text/html": [
       "<div>\n",
       "<style scoped>\n",
       "    .dataframe tbody tr th:only-of-type {\n",
       "        vertical-align: middle;\n",
       "    }\n",
       "\n",
       "    .dataframe tbody tr th {\n",
       "        vertical-align: top;\n",
       "    }\n",
       "\n",
       "    .dataframe thead th {\n",
       "        text-align: right;\n",
       "    }\n",
       "</style>\n",
       "<table border=\"1\" class=\"dataframe\">\n",
       "  <thead>\n",
       "    <tr style=\"text-align: right;\">\n",
       "      <th></th>\n",
       "      <th>DBN</th>\n",
       "      <th>School Name</th>\n",
       "      <th>Percent Asian</th>\n",
       "      <th>Percent Black</th>\n",
       "      <th>Percent Hispanic</th>\n",
       "      <th>Percent White</th>\n",
       "      <th>Percent English Language Learners</th>\n",
       "      <th>Percent Students with Disabilities</th>\n",
       "      <th>Percent of Students Chronically Absent</th>\n",
       "      <th>Economic Need Index</th>\n",
       "    </tr>\n",
       "  </thead>\n",
       "  <tbody>\n",
       "    <tr>\n",
       "      <th>0</th>\n",
       "      <td>01M015</td>\n",
       "      <td>P.S. 015 Roberto Clemente</td>\n",
       "      <td>0.068</td>\n",
       "      <td>0.298</td>\n",
       "      <td>0.584</td>\n",
       "      <td>0.025</td>\n",
       "      <td>0.075</td>\n",
       "      <td>0.304</td>\n",
       "      <td>0.215</td>\n",
       "      <td>0.895</td>\n",
       "    </tr>\n",
       "    <tr>\n",
       "      <th>1</th>\n",
       "      <td>01M019</td>\n",
       "      <td>P.S. 019 Asher Levy</td>\n",
       "      <td>0.077</td>\n",
       "      <td>0.202</td>\n",
       "      <td>0.664</td>\n",
       "      <td>0.053</td>\n",
       "      <td>0.036</td>\n",
       "      <td>0.340</td>\n",
       "      <td>0.324</td>\n",
       "      <td>0.605</td>\n",
       "    </tr>\n",
       "    <tr>\n",
       "      <th>2</th>\n",
       "      <td>01M020</td>\n",
       "      <td>P.S. 020 Anna Silver</td>\n",
       "      <td>0.329</td>\n",
       "      <td>0.098</td>\n",
       "      <td>0.491</td>\n",
       "      <td>0.042</td>\n",
       "      <td>0.186</td>\n",
       "      <td>0.224</td>\n",
       "      <td>0.256</td>\n",
       "      <td>0.699</td>\n",
       "    </tr>\n",
       "    <tr>\n",
       "      <th>3</th>\n",
       "      <td>01M034</td>\n",
       "      <td>P.S. 034 Franklin D. Roosevelt</td>\n",
       "      <td>0.053</td>\n",
       "      <td>0.297</td>\n",
       "      <td>0.614</td>\n",
       "      <td>0.030</td>\n",
       "      <td>0.080</td>\n",
       "      <td>0.380</td>\n",
       "      <td>0.305</td>\n",
       "      <td>0.872</td>\n",
       "    </tr>\n",
       "    <tr>\n",
       "      <th>4</th>\n",
       "      <td>01M063</td>\n",
       "      <td>The STAR Academy - P.S.63</td>\n",
       "      <td>0.039</td>\n",
       "      <td>0.191</td>\n",
       "      <td>0.646</td>\n",
       "      <td>0.101</td>\n",
       "      <td>0.028</td>\n",
       "      <td>0.354</td>\n",
       "      <td>0.251</td>\n",
       "      <td>0.709</td>\n",
       "    </tr>\n",
       "  </tbody>\n",
       "</table>\n",
       "</div>"
      ],
      "text/plain": [
       "      DBN                     School Name  Percent Asian  Percent Black  \\\n",
       "0  01M015       P.S. 015 Roberto Clemente          0.068          0.298   \n",
       "1  01M019             P.S. 019 Asher Levy          0.077          0.202   \n",
       "2  01M020            P.S. 020 Anna Silver          0.329          0.098   \n",
       "3  01M034  P.S. 034 Franklin D. Roosevelt          0.053          0.297   \n",
       "4  01M063       The STAR Academy - P.S.63          0.039          0.191   \n",
       "\n",
       "   Percent Hispanic  Percent White  Percent English Language Learners  \\\n",
       "0             0.584          0.025                              0.075   \n",
       "1             0.664          0.053                              0.036   \n",
       "2             0.491          0.042                              0.186   \n",
       "3             0.614          0.030                              0.080   \n",
       "4             0.646          0.101                              0.028   \n",
       "\n",
       "   Percent Students with Disabilities  Percent of Students Chronically Absent  \\\n",
       "0                               0.304                                   0.215   \n",
       "1                               0.340                                   0.324   \n",
       "2                               0.224                                   0.256   \n",
       "3                               0.380                                   0.305   \n",
       "4                               0.354                                   0.251   \n",
       "\n",
       "   Economic Need Index  \n",
       "0                0.895  \n",
       "1                0.605  \n",
       "2                0.699  \n",
       "3                0.872  \n",
       "4                0.709  "
      ]
     },
     "execution_count": 3,
     "metadata": {},
     "output_type": "execute_result"
    }
   ],
   "source": [
    "columns = [\n",
    "    'DBN',\n",
    "    'School Name',\n",
    "    'Percent Asian',\n",
    "    'Percent Black',\n",
    "    'Percent Hispanic',\n",
    "    'Percent White',\n",
    "    'Percent English Language Learners',\n",
    "    'Percent Students with Disabilities',\n",
    "    'Percent of Students Chronically Absent',\n",
    "    'Economic Need Index',\n",
    "]\n",
    "summary = summary[columns]\n",
    "summary.head()"
   ]
  },
  {
   "cell_type": "code",
   "execution_count": 4,
   "metadata": {},
   "outputs": [
    {
     "data": {
      "text/plain": [
       "DBN                                       0.000000\n",
       "School Name                               0.000000\n",
       "Percent Asian                             0.000000\n",
       "Percent Black                             0.000000\n",
       "Percent Hispanic                          0.000000\n",
       "Percent White                             0.000000\n",
       "Percent English Language Learners         0.000000\n",
       "Percent Students with Disabilities        0.000000\n",
       "Percent of Students Chronically Absent    0.022065\n",
       "Economic Need Index                       0.000000\n",
       "dtype: float64"
      ]
     },
     "execution_count": 4,
     "metadata": {},
     "output_type": "execute_result"
    }
   ],
   "source": [
    "summary.isnull().mean()"
   ]
  },
  {
   "cell_type": "markdown",
   "metadata": {},
   "source": [
    "All right, very good!"
   ]
  }
 ],
 "metadata": {
  "kernelspec": {
   "display_name": "Python 3",
   "language": "python",
   "name": "python3"
  },
  "language_info": {
   "codemirror_mode": {
    "name": "ipython",
    "version": 3
   },
   "file_extension": ".py",
   "mimetype": "text/x-python",
   "name": "python",
   "nbconvert_exporter": "python",
   "pygments_lexer": "ipython3",
   "version": "3.6.5"
  }
 },
 "nbformat": 4,
 "nbformat_minor": 2
}
