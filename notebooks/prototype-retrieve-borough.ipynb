{
 "cells": [
  {
   "cell_type": "markdown",
   "metadata": {},
   "source": [
    "# Retrieve boroughs\n",
    "\n",
    "In this notebook I will try to retrieve the borough of each school in the dataset.\n",
    "\n",
    "To do so, I'll scrap a table of zip codes, and then use it to convert the zip codes present in the dataset into borough names.\n",
    "\n",
    "Good luck!"
   ]
  },
  {
   "cell_type": "markdown",
   "metadata": {},
   "source": [
    "## Scrap the table\n",
    "\n",
    "The table is present here:\n",
    "\n",
    "https://www.health.ny.gov/statistics/cancer/registry/appendix/neighborhoods.htm\n",
    "\n",
    "HTML structure seems pretty easy to retrieve."
   ]
  },
  {
   "cell_type": "code",
   "execution_count": 1,
   "metadata": {},
   "outputs": [],
   "source": [
    "import parsel\n",
    "import requests\n",
    "\n",
    "URL = r'https://www.health.ny.gov/statistics/cancer/registry/appendix/neighborhoods.htm'\n",
    "r = requests.get(URL)\n",
    "s = parsel.Selector(r.text)"
   ]
  },
  {
   "cell_type": "code",
   "execution_count": 2,
   "metadata": {},
   "outputs": [
    {
     "data": {
      "text/plain": [
       "{'10453': 'Bronx',\n",
       " '10457': 'Bronx',\n",
       " '10460': 'Bronx',\n",
       " '10458': 'Bronx',\n",
       " '10467': 'Bronx',\n",
       " '10468': 'Bronx',\n",
       " '10451': 'Bronx',\n",
       " '10452': 'Bronx',\n",
       " '10456': 'Bronx',\n",
       " '10454': 'Bronx',\n",
       " '10455': 'Bronx',\n",
       " '10459': 'Bronx',\n",
       " '10474': 'Bronx',\n",
       " '10463': 'Bronx',\n",
       " '10471': 'Bronx',\n",
       " '10466': 'Bronx',\n",
       " '10469': 'Bronx',\n",
       " '10470': 'Bronx',\n",
       " '10475': 'Bronx',\n",
       " '10461': 'Bronx',\n",
       " '10462': 'Bronx',\n",
       " '10464': 'Bronx',\n",
       " '10465': 'Bronx',\n",
       " '10472': 'Bronx',\n",
       " '10473': 'Bronx',\n",
       " '11212': 'Brooklyn',\n",
       " '11213': 'Brooklyn',\n",
       " '11216': 'Brooklyn',\n",
       " '11233': 'Brooklyn',\n",
       " '11238': 'Brooklyn',\n",
       " '11209': 'Brooklyn',\n",
       " '11214': 'Brooklyn',\n",
       " '11228': 'Brooklyn',\n",
       " '11204': 'Brooklyn',\n",
       " '11218': 'Brooklyn',\n",
       " '11219': 'Brooklyn',\n",
       " '11230': 'Brooklyn',\n",
       " '11234': 'Brooklyn',\n",
       " '11236': 'Brooklyn',\n",
       " '11239': 'Brooklyn',\n",
       " '11223': 'Brooklyn',\n",
       " '11224': 'Brooklyn',\n",
       " '11229': 'Brooklyn',\n",
       " '11235': 'Brooklyn',\n",
       " '11201': 'Brooklyn',\n",
       " '11205': 'Brooklyn',\n",
       " '11215': 'Brooklyn',\n",
       " '11217': 'Brooklyn',\n",
       " '11231': 'Brooklyn',\n",
       " '11203': 'Brooklyn',\n",
       " '11210': 'Brooklyn',\n",
       " '11225': 'Brooklyn',\n",
       " '11226': 'Brooklyn',\n",
       " '11207': 'Brooklyn',\n",
       " '11208': 'Brooklyn',\n",
       " '11211': 'Brooklyn',\n",
       " '11222': 'Brooklyn',\n",
       " '11220': 'Brooklyn',\n",
       " '11232': 'Brooklyn',\n",
       " '11206': 'Brooklyn',\n",
       " '11221': 'Brooklyn',\n",
       " '11237': 'Brooklyn',\n",
       " '10026': 'Manhattan',\n",
       " '10027': 'Manhattan',\n",
       " '10030': 'Manhattan',\n",
       " '10037': 'Manhattan',\n",
       " '10039': 'Manhattan',\n",
       " '10001': 'Manhattan',\n",
       " '10011': 'Manhattan',\n",
       " '10018': 'Manhattan',\n",
       " '10019': 'Manhattan',\n",
       " '10020': 'Manhattan',\n",
       " '10036': 'Manhattan',\n",
       " '10029': 'Manhattan',\n",
       " '10035': 'Manhattan',\n",
       " '10010': 'Manhattan',\n",
       " '10016': 'Manhattan',\n",
       " '10017': 'Manhattan',\n",
       " '10022': 'Manhattan',\n",
       " '10012': 'Manhattan',\n",
       " '10013': 'Manhattan',\n",
       " '10014': 'Manhattan',\n",
       " '10004': 'Manhattan',\n",
       " '10005': 'Manhattan',\n",
       " '10006': 'Manhattan',\n",
       " '10007': 'Manhattan',\n",
       " '10038': 'Manhattan',\n",
       " '10280': 'Manhattan',\n",
       " '10002': 'Manhattan',\n",
       " '10003': 'Manhattan',\n",
       " '10009': 'Manhattan',\n",
       " '10021': 'Manhattan',\n",
       " '10028': 'Manhattan',\n",
       " '10044': 'Manhattan',\n",
       " '10065': 'Manhattan',\n",
       " '10075': 'Manhattan',\n",
       " '10128': 'Manhattan',\n",
       " '10023': 'Manhattan',\n",
       " '10024': 'Manhattan',\n",
       " '10025': 'Manhattan',\n",
       " '10031': 'Manhattan',\n",
       " '10032': 'Manhattan',\n",
       " '10033': 'Manhattan',\n",
       " '10034': 'Manhattan',\n",
       " '10040': 'Manhattan',\n",
       " '11361': 'Queens',\n",
       " '11362': 'Queens',\n",
       " '11363': 'Queens',\n",
       " '11364': 'Queens',\n",
       " '11354': 'Queens',\n",
       " '11355': 'Queens',\n",
       " '11356': 'Queens',\n",
       " '11357': 'Queens',\n",
       " '11358': 'Queens',\n",
       " '11359': 'Queens',\n",
       " '11360': 'Queens',\n",
       " '11365': 'Queens',\n",
       " '11366': 'Queens',\n",
       " '11367': 'Queens',\n",
       " '11412': 'Queens',\n",
       " '11423': 'Queens',\n",
       " '11432': 'Queens',\n",
       " '11433': 'Queens',\n",
       " '11434': 'Queens',\n",
       " '11435': 'Queens',\n",
       " '11436': 'Queens',\n",
       " '11101': 'Queens',\n",
       " '11102': 'Queens',\n",
       " '11103': 'Queens',\n",
       " '11104': 'Queens',\n",
       " '11105': 'Queens',\n",
       " '11106': 'Queens',\n",
       " '11374': 'Queens',\n",
       " '11375': 'Queens',\n",
       " '11379': 'Queens',\n",
       " '11385': 'Queens',\n",
       " '11691': 'Queens',\n",
       " '11692': 'Queens',\n",
       " '11693': 'Queens',\n",
       " '11694': 'Queens',\n",
       " '11695': 'Queens',\n",
       " '11697': 'Queens',\n",
       " '11004': 'Queens',\n",
       " '11005': 'Queens',\n",
       " '11411': 'Queens',\n",
       " '11413': 'Queens',\n",
       " '11422': 'Queens',\n",
       " '11426': 'Queens',\n",
       " '11427': 'Queens',\n",
       " '11428': 'Queens',\n",
       " '11429': 'Queens',\n",
       " '11414': 'Queens',\n",
       " '11415': 'Queens',\n",
       " '11416': 'Queens',\n",
       " '11417': 'Queens',\n",
       " '11418': 'Queens',\n",
       " '11419': 'Queens',\n",
       " '11420': 'Queens',\n",
       " '11421': 'Queens',\n",
       " '11368': 'Queens',\n",
       " '11369': 'Queens',\n",
       " '11370': 'Queens',\n",
       " '11372': 'Queens',\n",
       " '11373': 'Queens',\n",
       " '11377': 'Queens',\n",
       " '11378': 'Queens',\n",
       " '10302': 'Staten Island',\n",
       " '10303': 'Staten Island',\n",
       " '10310': 'Staten Island',\n",
       " '10306': 'Staten Island',\n",
       " '10307': 'Staten Island',\n",
       " '10308': 'Staten Island',\n",
       " '10309': 'Staten Island',\n",
       " '10312': 'Staten Island',\n",
       " '10301': 'Staten Island',\n",
       " '10304': 'Staten Island',\n",
       " '10305': 'Staten Island',\n",
       " '10314': 'Staten Island'}"
      ]
     },
     "execution_count": 2,
     "metadata": {},
     "output_type": "execute_result"
    }
   ],
   "source": [
    "import re\n",
    "\n",
    "results = {}  # dictionary the maps (zip code => borough)\n",
    "\n",
    "cur_borough = None\n",
    "_rows = s.css('tr')[1:]\n",
    "for _r in _rows:\n",
    "    borough = _r.css('[headers=\"header1\"]::text').extract_first()\n",
    "    if borough:\n",
    "        cur_borough = borough    \n",
    "    zip_codes = _r.css('[headers=\"header3\"]::text').extract_first()\n",
    "    zip_codes = zip_codes.strip()  # remove beginning space    \n",
    "    zip_codes = re.split(r',\\s?', zip_codes)  # split on the comma\n",
    "    for zc in zip_codes:\n",
    "        results[zc] = cur_borough\n",
    "\n",
    "results"
   ]
  },
  {
   "cell_type": "markdown",
   "metadata": {},
   "source": [
    "## Check if all entries were fulfilled"
   ]
  },
  {
   "cell_type": "code",
   "execution_count": 3,
   "metadata": {},
   "outputs": [
    {
     "data": {
      "text/plain": [
       "array([10282, 11001, 11109, 10311])"
      ]
     },
     "execution_count": 3,
     "metadata": {},
     "output_type": "execute_result"
    }
   ],
   "source": [
    "import pandas as pd\n",
    "\n",
    "df = pd.read_csv('../data/raw/2016 School Explorer.csv')\n",
    "df[~df.Zip.apply(lambda x: str(x) in results)].Zip.unique()"
   ]
  },
  {
   "cell_type": "markdown",
   "metadata": {},
   "source": [
    "Nope...\n",
    "\n",
    "Let's input the missing values manually (using a site like this: https://statisticalatlas.com/zip/10282/Overview)"
   ]
  },
  {
   "cell_type": "code",
   "execution_count": 4,
   "metadata": {},
   "outputs": [],
   "source": [
    "missing_zip_codes = {\n",
    "    '10282': 'Manhattan',\n",
    "    '11001': 'Queens',\n",
    "    '11109': 'Queens',\n",
    "    '10311': 'Staten Island'    \n",
    "}\n",
    "results.update(missing_zip_codes)"
   ]
  },
  {
   "cell_type": "code",
   "execution_count": 5,
   "metadata": {},
   "outputs": [
    {
     "data": {
      "text/plain": [
       "array([], dtype=int64)"
      ]
     },
     "execution_count": 5,
     "metadata": {},
     "output_type": "execute_result"
    }
   ],
   "source": [
    "# all fine\n",
    "\n",
    "df[~df.Zip.apply(lambda x: str(x) in results)].Zip.unique()"
   ]
  }
 ],
 "metadata": {
  "kernelspec": {
   "display_name": "Python 3",
   "language": "python",
   "name": "python3"
  },
  "language_info": {
   "codemirror_mode": {
    "name": "ipython",
    "version": 3
   },
   "file_extension": ".py",
   "mimetype": "text/x-python",
   "name": "python",
   "nbconvert_exporter": "python",
   "pygments_lexer": "ipython3",
   "version": "3.6.5"
  }
 },
 "nbformat": 4,
 "nbformat_minor": 2
}
