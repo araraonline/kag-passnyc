{
 "cells": [
  {
   "cell_type": "markdown",
   "metadata": {},
   "source": [
    "# Applying for the test - visuals\n",
    "\n",
    "In this notebook, let's try to visualize the relationship captured by the selected features of our model.\n",
    "\n",
    "These are the variables that could be related to the amount of SHSAT applicants:\n",
    "\n",
    "- Grade 8 ELA - All Students Tested\n",
    "- Grade 8 Math - All Students Tested\n",
    "- Percent Asian\n",
    "- Percent Black"
   ]
  },
  {
   "cell_type": "code",
   "execution_count": 1,
   "metadata": {},
   "outputs": [],
   "source": [
    "import pandas as pd\n",
    "import numpy as np\n",
    "import matplotlib.pyplot as plt\n",
    "import seaborn as sns\n",
    "\n",
    "sns.set_style('whitegrid')\n",
    "pd.set_option('display.max_columns', 100)\n",
    "pd.set_option('display.max_rows', 100)"
   ]
  },
  {
   "cell_type": "code",
   "execution_count": 2,
   "metadata": {},
   "outputs": [],
   "source": [
    "# first dataframe\n",
    "schools = pd.read_pickle('../data/pre/schools2016.pkl')\n",
    "schools = schools.set_index('Location Code')\n",
    "\n",
    "cols = [\n",
    "    'Grade 8 ELA - All Students Tested',\n",
    "    'Grade 8 Math - All Students Tested',\n",
    "    'Percent Asian',\n",
    "    'Percent Black',\n",
    "]\n",
    "schools = schools[cols]\n",
    "\n",
    "# second dataframe\n",
    "district5 = pd.read_csv('../data/raw/D5 SHSAT Registrations and Testers.csv')\n",
    "district5 = district5.set_index('DBN')\n",
    "district5 = district5[(district5['Year of SHST'] == 2016) & (district5['Grade level'] == 8)]\n",
    "\n",
    "percentage = district5['Number of students who registered for the SHSAT'] / district5['Enrollment on 10/31']\n",
    "percentage.name = 'Percentage of Students who registered for the SHSAT'\n",
    "\n",
    "# join\n",
    "df = schools.join(percentage, how='inner')"
   ]
  },
  {
   "cell_type": "code",
   "execution_count": 3,
   "metadata": {},
   "outputs": [
    {
     "data": {
      "text/html": [
       "<div>\n",
       "<style scoped>\n",
       "    .dataframe tbody tr th:only-of-type {\n",
       "        vertical-align: middle;\n",
       "    }\n",
       "\n",
       "    .dataframe tbody tr th {\n",
       "        vertical-align: top;\n",
       "    }\n",
       "\n",
       "    .dataframe thead th {\n",
       "        text-align: right;\n",
       "    }\n",
       "</style>\n",
       "<table border=\"1\" class=\"dataframe\">\n",
       "  <thead>\n",
       "    <tr style=\"text-align: right;\">\n",
       "      <th></th>\n",
       "      <th>Grade 8 ELA - All Students Tested</th>\n",
       "      <th>Grade 8 Math - All Students Tested</th>\n",
       "      <th>Percent Asian</th>\n",
       "      <th>Percent Black</th>\n",
       "      <th>Percentage of Students who registered for the SHSAT</th>\n",
       "    </tr>\n",
       "  </thead>\n",
       "  <tbody>\n",
       "    <tr>\n",
       "      <th>05M046</th>\n",
       "      <td>63</td>\n",
       "      <td>63</td>\n",
       "      <td>1.0</td>\n",
       "      <td>50.0</td>\n",
       "      <td>0.357143</td>\n",
       "    </tr>\n",
       "    <tr>\n",
       "      <th>05M123</th>\n",
       "      <td>56</td>\n",
       "      <td>60</td>\n",
       "      <td>2.0</td>\n",
       "      <td>52.0</td>\n",
       "      <td>0.290909</td>\n",
       "    </tr>\n",
       "    <tr>\n",
       "      <th>05M129</th>\n",
       "      <td>56</td>\n",
       "      <td>56</td>\n",
       "      <td>2.0</td>\n",
       "      <td>42.0</td>\n",
       "      <td>0.300000</td>\n",
       "    </tr>\n",
       "    <tr>\n",
       "      <th>05M148</th>\n",
       "      <td>64</td>\n",
       "      <td>40</td>\n",
       "      <td>0.0</td>\n",
       "      <td>74.0</td>\n",
       "      <td>0.116667</td>\n",
       "    </tr>\n",
       "    <tr>\n",
       "      <th>05M161</th>\n",
       "      <td>113</td>\n",
       "      <td>117</td>\n",
       "      <td>3.0</td>\n",
       "      <td>18.0</td>\n",
       "      <td>0.157895</td>\n",
       "    </tr>\n",
       "  </tbody>\n",
       "</table>\n",
       "</div>"
      ],
      "text/plain": [
       "        Grade 8 ELA - All Students Tested  Grade 8 Math - All Students Tested  \\\n",
       "05M046                                 63                                  63   \n",
       "05M123                                 56                                  60   \n",
       "05M129                                 56                                  56   \n",
       "05M148                                 64                                  40   \n",
       "05M161                                113                                 117   \n",
       "\n",
       "        Percent Asian  Percent Black  \\\n",
       "05M046            1.0           50.0   \n",
       "05M123            2.0           52.0   \n",
       "05M129            2.0           42.0   \n",
       "05M148            0.0           74.0   \n",
       "05M161            3.0           18.0   \n",
       "\n",
       "        Percentage of Students who registered for the SHSAT  \n",
       "05M046                                           0.357143    \n",
       "05M123                                           0.290909    \n",
       "05M129                                           0.300000    \n",
       "05M148                                           0.116667    \n",
       "05M161                                           0.157895    "
      ]
     },
     "execution_count": 3,
     "metadata": {},
     "output_type": "execute_result"
    }
   ],
   "source": [
    "df.head()"
   ]
  },
  {
   "cell_type": "code",
   "execution_count": 4,
   "metadata": {},
   "outputs": [
    {
     "name": "stdout",
     "output_type": "stream",
     "text": [
      "Entries to remove:\n"
     ]
    },
    {
     "data": {
      "text/html": [
       "<div>\n",
       "<style scoped>\n",
       "    .dataframe tbody tr th:only-of-type {\n",
       "        vertical-align: middle;\n",
       "    }\n",
       "\n",
       "    .dataframe tbody tr th {\n",
       "        vertical-align: top;\n",
       "    }\n",
       "\n",
       "    .dataframe thead th {\n",
       "        text-align: right;\n",
       "    }\n",
       "</style>\n",
       "<table border=\"1\" class=\"dataframe\">\n",
       "  <thead>\n",
       "    <tr style=\"text-align: right;\">\n",
       "      <th></th>\n",
       "      <th>Grade 8 ELA - All Students Tested</th>\n",
       "      <th>Grade 8 Math - All Students Tested</th>\n",
       "      <th>Percent Asian</th>\n",
       "      <th>Percent Black</th>\n",
       "      <th>Percentage of Students who registered for the SHSAT</th>\n",
       "    </tr>\n",
       "  </thead>\n",
       "  <tbody>\n",
       "    <tr>\n",
       "      <th>05M286</th>\n",
       "      <td>36</td>\n",
       "      <td>36</td>\n",
       "      <td>0.0</td>\n",
       "      <td>59.0</td>\n",
       "      <td>0.967742</td>\n",
       "    </tr>\n",
       "    <tr>\n",
       "      <th>84M726</th>\n",
       "      <td>84</td>\n",
       "      <td>84</td>\n",
       "      <td>1.0</td>\n",
       "      <td>56.0</td>\n",
       "      <td>0.967742</td>\n",
       "    </tr>\n",
       "  </tbody>\n",
       "</table>\n",
       "</div>"
      ],
      "text/plain": [
       "        Grade 8 ELA - All Students Tested  Grade 8 Math - All Students Tested  \\\n",
       "05M286                                 36                                  36   \n",
       "84M726                                 84                                  84   \n",
       "\n",
       "        Percent Asian  Percent Black  \\\n",
       "05M286            0.0           59.0   \n",
       "84M726            1.0           56.0   \n",
       "\n",
       "        Percentage of Students who registered for the SHSAT  \n",
       "05M286                                           0.967742    \n",
       "84M726                                           0.967742    "
      ]
     },
     "metadata": {},
     "output_type": "display_data"
    }
   ],
   "source": [
    "from IPython.display import display\n",
    "\n",
    "# remove outliers\n",
    "\n",
    "col = df['Percentage of Students who registered for the SHSAT']\n",
    "\n",
    "mean = col.mean()\n",
    "sd = col.std()\n",
    "\n",
    "print(\"Entries to remove:\")\n",
    "display(df[np.abs(col - mean) > 2 * sd])\n",
    "\n",
    "df = df[np.abs(col - mean) <= 2 * sd]"
   ]
  },
  {
   "cell_type": "code",
   "execution_count": 5,
   "metadata": {},
   "outputs": [
    {
     "data": {
      "text/plain": [
       "(18, 5)"
      ]
     },
     "execution_count": 5,
     "metadata": {},
     "output_type": "execute_result"
    }
   ],
   "source": [
    "df.shape"
   ]
  },
  {
   "cell_type": "markdown",
   "metadata": {},
   "source": [
    "## Predictions\n",
    "\n",
    "Just a clean modelling now:"
   ]
  },
  {
   "cell_type": "code",
   "execution_count": 6,
   "metadata": {},
   "outputs": [
    {
     "name": "stdout",
     "output_type": "stream",
     "text": [
      "In-train score: 0.6575830115879495\n",
      "CV score: 0.3797925404414483\n"
     ]
    },
    {
     "data": {
      "image/png": "[encoded data removed]",
      "text/plain": [
       "<Figure size 432x288 with 1 Axes>"
      ]
     },
     "metadata": {},
     "output_type": "display_data"
    }
   ],
   "source": [
    "from sklearn.metrics import r2_score\n",
    "from sklearn.linear_model import LassoCV\n",
    "from sklearn.model_selection import cross_val_predict, LeaveOneOut\n",
    "\n",
    "# prepare\n",
    "d = df.copy()\n",
    "labels = d.pop('Percentage of Students who registered for the SHSAT')\n",
    "\n",
    "cols = [\n",
    "    'Grade 8 ELA - All Students Tested',\n",
    "    'Grade 8 Math - All Students Tested',\n",
    "    'Percent Asian',\n",
    "    'Percent Black',\n",
    "]\n",
    "d = d[cols]\n",
    "\n",
    "# train\n",
    "model = LassoCV(n_jobs=-1)\n",
    "model.fit(d, labels)\n",
    "predictions = cross_val_predict(model, d, labels, cv=LeaveOneOut())\n",
    "\n",
    "# scores\n",
    "print(\"In-train score:\", model.score(d, labels))\n",
    "print(\"CV score:\",  r2_score(labels, predictions))\n",
    "\n",
    "# plot\n",
    "plt.plot(predictions, labels, '.')\n",
    "plt.plot([0,1], [0,1], 'y--')\n",
    "plt.xlim(0, 0.6)\n",
    "plt.ylim(0, 0.6);"
   ]
  },
  {
   "cell_type": "markdown",
   "metadata": {},
   "source": [
    "### Alternative prediction"
   ]
  },
  {
   "cell_type": "code",
   "execution_count": 7,
   "metadata": {},
   "outputs": [
    {
     "name": "stdout",
     "output_type": "stream",
     "text": [
      "In-train score: 0.5658475142282644\n",
      "CV score: 0.40112805356728753\n"
     ]
    },
    {
     "data": {
      "image/png": "[encoded data removed]",
      "text/plain": [
       "<Figure size 432x288 with 1 Axes>"
      ]
     },
     "metadata": {},
     "output_type": "display_data"
    }
   ],
   "source": [
    "from sklearn.metrics import r2_score\n",
    "from sklearn.linear_model import LassoCV\n",
    "from sklearn.model_selection import cross_val_predict, LeaveOneOut\n",
    "\n",
    "# prepare\n",
    "d = df.copy()\n",
    "labels = d.pop('Percentage of Students who registered for the SHSAT')\n",
    "\n",
    "cols = [\n",
    "    'Grade 8 Math - All Students Tested',\n",
    "    'Percent Black',\n",
    "]\n",
    "d = d[cols]\n",
    "\n",
    "# train\n",
    "model = LassoCV(n_jobs=-1)\n",
    "model.fit(d, labels)\n",
    "predictions = cross_val_predict(model, d, labels, cv=LeaveOneOut())\n",
    "\n",
    "# scores\n",
    "print(\"In-train score:\", model.score(d, labels))\n",
    "print(\"CV score:\",  r2_score(labels, predictions))\n",
    "\n",
    "# plot\n",
    "plt.plot(predictions, labels, '.')\n",
    "plt.plot([0,1], [0,1], 'y--')\n",
    "plt.xlim(0, 0.6)\n",
    "plt.ylim(0, 0.6);"
   ]
  },
  {
   "cell_type": "markdown",
   "metadata": {},
   "source": [
    "Reducing the number of variables, we got even better predictions. We might be overfitting, but by reducing the power of the model, we greatly reduce this possibility."
   ]
  },
  {
   "cell_type": "markdown",
   "metadata": {},
   "source": [
    "## Visualizing the important variables"
   ]
  },
  {
   "cell_type": "code",
   "execution_count": 8,
   "metadata": {},
   "outputs": [
    {
     "data": {
      "text/html": [
       "<div>\n",
       "<style scoped>\n",
       "    .dataframe tbody tr th:only-of-type {\n",
       "        vertical-align: middle;\n",
       "    }\n",
       "\n",
       "    .dataframe tbody tr th {\n",
       "        vertical-align: top;\n",
       "    }\n",
       "\n",
       "    .dataframe thead th {\n",
       "        text-align: right;\n",
       "    }\n",
       "</style>\n",
       "<table border=\"1\" class=\"dataframe\">\n",
       "  <thead>\n",
       "    <tr style=\"text-align: right;\">\n",
       "      <th></th>\n",
       "      <th>Grade 8 Math - All Students Tested</th>\n",
       "      <th>Percent Black</th>\n",
       "      <th>Percentage of Students who registered for the SHSAT</th>\n",
       "    </tr>\n",
       "  </thead>\n",
       "  <tbody>\n",
       "    <tr>\n",
       "      <th>05M046</th>\n",
       "      <td>63</td>\n",
       "      <td>50.0</td>\n",
       "      <td>35.714286</td>\n",
       "    </tr>\n",
       "    <tr>\n",
       "      <th>05M123</th>\n",
       "      <td>60</td>\n",
       "      <td>52.0</td>\n",
       "      <td>29.090909</td>\n",
       "    </tr>\n",
       "    <tr>\n",
       "      <th>05M129</th>\n",
       "      <td>56</td>\n",
       "      <td>42.0</td>\n",
       "      <td>30.000000</td>\n",
       "    </tr>\n",
       "    <tr>\n",
       "      <th>05M148</th>\n",
       "      <td>40</td>\n",
       "      <td>74.0</td>\n",
       "      <td>11.666667</td>\n",
       "    </tr>\n",
       "    <tr>\n",
       "      <th>05M161</th>\n",
       "      <td>117</td>\n",
       "      <td>18.0</td>\n",
       "      <td>15.789474</td>\n",
       "    </tr>\n",
       "  </tbody>\n",
       "</table>\n",
       "</div>"
      ],
      "text/plain": [
       "        Grade 8 Math - All Students Tested  Percent Black  \\\n",
       "05M046                                  63           50.0   \n",
       "05M123                                  60           52.0   \n",
       "05M129                                  56           42.0   \n",
       "05M148                                  40           74.0   \n",
       "05M161                                 117           18.0   \n",
       "\n",
       "        Percentage of Students who registered for the SHSAT  \n",
       "05M046                                          35.714286    \n",
       "05M123                                          29.090909    \n",
       "05M129                                          30.000000    \n",
       "05M148                                          11.666667    \n",
       "05M161                                          15.789474    "
      ]
     },
     "execution_count": 8,
     "metadata": {},
     "output_type": "execute_result"
    }
   ],
   "source": [
    "# we shall put the outliers back in\n",
    "# but let's just look at 'Grade 8 Math - All Students Tested' and 'Percent Black'\n",
    "\n",
    "# first dataframe\n",
    "schools = pd.read_pickle('../data/pre/schools2016.pkl')\n",
    "schools = schools.set_index('Location Code')\n",
    "\n",
    "cols = [\n",
    "    'Grade 8 Math - All Students Tested',\n",
    "    'Percent Black',\n",
    "]\n",
    "schools = schools[cols]\n",
    "\n",
    "# second dataframe\n",
    "district5 = pd.read_csv('../data/raw/D5 SHSAT Registrations and Testers.csv')\n",
    "district5 = district5.set_index('DBN')\n",
    "district5 = district5[(district5['Year of SHST'] == 2016) & (district5['Grade level'] == 8)]\n",
    "\n",
    "percentage = 100.0 * district5['Number of students who registered for the SHSAT'] / district5['Enrollment on 10/31']\n",
    "percentage.name = 'Percentage of Students who registered for the SHSAT'\n",
    "\n",
    "# join\n",
    "df = schools.join(percentage, how='inner')\n",
    "\n",
    "df.head()"
   ]
  },
  {
   "cell_type": "code",
   "execution_count": 9,
   "metadata": {},
   "outputs": [
    {
     "data": {
      "image/png": "[encoded data removed]",
      "text/plain": [
       "<Figure size 432x288 with 1 Axes>"
      ]
     },
     "metadata": {},
     "output_type": "display_data"
    }
   ],
   "source": [
    "plt.plot(df['Grade 8 Math - All Students Tested'], df['Percentage of Students who registered for the SHSAT'], '.')\n",
    "plt.ylim(0, 100)\n",
    "plt.xlabel(\"Number of students tested in Math\")\n",
    "plt.ylabel(\"Percentage of SHSAT applicants\");"
   ]
  },
  {
   "cell_type": "code",
   "execution_count": 10,
   "metadata": {},
   "outputs": [
    {
     "data": {
      "image/png": "[encoded data removed]",
      "text/plain": [
       "<Figure size 432x288 with 1 Axes>"
      ]
     },
     "metadata": {},
     "output_type": "display_data"
    }
   ],
   "source": [
    "plt.plot(df['Percent Black'], df['Percentage of Students who registered for the SHSAT'], '.')\n",
    "plt.ylim(0, 100)\n",
    "plt.xlabel(\"Percentage of black students\")\n",
    "plt.ylabel(\"Percentage of SHSAT applicants\");"
   ]
  },
  {
   "cell_type": "markdown",
   "metadata": {},
   "source": [
    "For both variables, there seems to be a vague negative correlation."
   ]
  },
  {
   "cell_type": "code",
   "execution_count": 11,
   "metadata": {},
   "outputs": [
    {
     "data": {
      "image/png": "[encoded data removed]",
      "text/plain": [
       "<Figure size 432x288 with 1 Axes>"
      ]
     },
     "metadata": {},
     "output_type": "display_data"
    }
   ],
   "source": [
    "plt.scatter(df['Grade 8 Math - All Students Tested'], df['Percent Black'], s=df['Percentage of Students who registered for the SHSAT'] * 2, alpha=0.5)\n",
    "plt.ylim(0, 100)\n",
    "plt.xlabel(\"Number of students tested in Math\")\n",
    "plt.ylabel(\"Percentage of black students\");"
   ]
  },
  {
   "cell_type": "markdown",
   "metadata": {},
   "source": [
    "Bigger percentages seem to appear to the lower left region of the screen. This proves that, for this portion of the dataset, being black and taking the state Math test both reduce the chance you will apply for the SHSAT.\n",
    "\n",
    "Also note that the two big balls are outlier schools (where almost everyone applied for the SHSAT)."
   ]
  }
 ],
 "metadata": {
  "kernelspec": {
   "display_name": "Python 3",
   "language": "python",
   "name": "python3"
  },
  "language_info": {
   "codemirror_mode": {
    "name": "ipython",
    "version": 3
   },
   "file_extension": ".py",
   "mimetype": "text/x-python",
   "name": "python",
   "nbconvert_exporter": "python",
   "pygments_lexer": "ipython3",
   "version": "3.6.5"
  }
 },
 "nbformat": 4,
 "nbformat_minor": 2
}
