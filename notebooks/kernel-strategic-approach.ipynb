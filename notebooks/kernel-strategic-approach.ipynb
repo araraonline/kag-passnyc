{
 "cells": [
  {
   "cell_type": "markdown",
   "metadata": {},
   "source": [
    "# Objective/Strategy breakdown\n",
    "\n",
    "Something different will be done in this kernel. Instead of it being a data-focused kernel, it will be focused on PASSNYC, their objectives and the problem they are trying to solve.\n",
    "\n",
    "I feel like this is much needed before we tackle a problem, so, here is a view on the whole thing."
   ]
  },
  {
   "cell_type": "markdown",
   "metadata": {},
   "source": [
    "# Vision\n",
    "\n",
    "We want to improve society. To improve society, we must focus not on the snapshot, but on the improvement. But, on the improvement of what? Life of children.\n",
    "\n",
    "But, for each one, what is important is different. So, we focus on a specific group, whose needs are equivalent. And what is this group?\n",
    "\n",
    "> Students from the hard walks of life that could benefit from taking the SHSAT or receiving assistance toward it.\n",
    "\n",
    "And who composes this group?\n",
    "\n",
    "- Students who agree with the idea, but don't know about SHSAT\n",
    "- Students who want to go to Specialized High Schools and could benefit from some assistance\n",
    "- Students who would turn their ideas about SHSAT if they saw the information a bit more clearly"
   ]
  },
  {
   "cell_type": "markdown",
   "metadata": {},
   "source": [
    "# How do we help each subgroup?\n",
    "\n",
    "## Students who agree with the idea, but don't know about SHSAT\n",
    "\n",
    "These students could benefit basically from getting touch to the information about SHSAT.\n",
    "\n",
    "- How do we find them?\n",
    "- How do we let them find us?\n",
    "- How can we best inform them?\n",
    "\n",
    "And, as for the opposite group:\n",
    "\n",
    "- Who knows about SHSAT?\n",
    "- How do people get to know about SHSAT?\n",
    "\n",
    "## Students who will take SHSAT and could benefit from some assistance\n",
    "\n",
    "These students already know about SHSAT and are already willing to take it. They just need some more help. This help can be given in form of assistance and direction. And, checking out what PASSNYC does, it seems like they \"direct\" the students to the places where they can be assisted.\n",
    "\n",
    "- How do we find them?\n",
    "- How do we let them find us?\n",
    "- What is it that each student need?\n",
    "- How do we best point them in the right direction?\n",
    "\n",
    "## Students who would turn their ideas about SHSAT if they saw the information a bit more clearly\n",
    "\n",
    "These students already know about the SHSAT, but aren't willing to take the test. This may be due to confidence issues, lack of guidance, or something that the student doesn't know or know wrongly.\n",
    "\n",
    "*care must be taken in this group not to promote SHSAT without giving a clear view*\n",
    "\n",
    "- How do we find them?\n",
    "- How do we let them find us?\n",
    "- What makes them not willing to take the SHSAT?\n",
    "\n",
    "\n",
    "More openly:\n",
    "\n",
    "- Why does someone want to go/not go to SPHS?\n",
    "- Why does someone wants to take/not take the SHSAT?"
   ]
  },
  {
   "cell_type": "markdown",
   "metadata": {},
   "source": [
    "# General questions\n",
    "\n",
    "Based on the previous subgroups, some questions can be formulated that take everyone into account:\n",
    "\n",
    "## How/Where do we find the targets?\n",
    "\n",
    "This looks like the main question that was provided by PASSNYC. Since our data is school-based, we must direct the efforts towards schools, not specific students. Some ideas include:\n",
    "\n",
    "- Find groups of schools where PASSNYC can have a great influence\n",
    "- Rank schools based on the influence that we can have on them\n",
    "- Use a low-cost strategy for finding specific targets amidst a huge environment (e.g. calling schools asking for stellar students)\n",
    "\n",
    "## How/Where does the target find us?\n",
    "\n",
    "This seems like a promising strategy. Insteading of reaching out to students, let them reach out for us. Examples of this include:\n",
    "\n",
    "- Posting papers at schools\n",
    "- Presence in the internet\n",
    "- Presence in places where students would search for help. This includes physical places, knowledge among teachers or even easiness to be found on the internet (PASSNYC site ranks #5 when you search for 'how to prepare for shsat?' on Google)\n",
    "\n",
    "Through all this means, we want to reduce the effort that a student must take to reach to us. So, for example, PASSNYC site could have an appearance that is designed to help students get the resources they want.\n",
    "\n",
    "## Why is it that students want to go to SPHS or not?\n",
    "\n",
    "This question is really important, because, based on it, we can know which groups would benefit most from PASSNYC and how to approach the students in a good manner. For example, some kinds of student may not want to go to SPHS because they have no condition to do so. If there is a certain kind of assistance that helps them in this area, and we point it, the number of undeserved students taking SHSAT may increase.\n",
    "\n",
    "Important thing here is: know thy problems, and then, you can tackle them.\n",
    "\n",
    "## Why is it that students want to take SHSAT or not?\n",
    "\n",
    "This question is somewhat close to the last one. One thing I want to note is that, right now, there hasn't been much focus on the 'why' of the things. Instead, what we know is 'who' takes the SHSAT or not. This is pretty clearly demonstrated by the demographics of SPHS. But 'why' is a more specific question, and it could only be answered with specific research towards it.\n",
    "\n",
    "## What our targets could mostly benefit from?\n",
    "\n",
    "This question reveals what I believe is the essence of PASSNYC. Building a repository of what students could mostly benefit from and guiding them to a nice directions seems to be what PASSNYC does. Like a traffic cop pointing directions. Some things that would help in this area:\n",
    "\n",
    "- Understand general student needs, but also,\n",
    "- Have people that communicate with students to understand specific needs\n",
    "- Have a good list of resources that is easily scanned through\n",
    "- Or, with the list of resources, give guidance to what the best resources would be for each situation"
   ]
  },
  {
   "cell_type": "markdown",
   "metadata": {},
   "source": [
    "# The role of PASSNYC\n",
    "\n",
    "Based on the preview assertions, it looks to me that PASSNYC has two main roles:\n",
    "\n",
    "- Promote and spread knowledge of SPHS's and SHSAT where it is not well known\n",
    "- Be a repository of resources to schools/students and give access to them in an easy manner, pointing out directions where needed\n",
    "\n",
    "And there is one role that is not fulfilled yet, but could a nice thing to add:\n",
    "\n",
    "- Be a center of research that answers questions related to the SPHS and SHSAT"
   ]
  }
 ],
 "metadata": {
  "kernelspec": {
   "display_name": "Python 3",
   "language": "python",
   "name": "python3"
  },
  "language_info": {
   "codemirror_mode": {
    "name": "ipython",
    "version": 3
   },
   "file_extension": ".py",
   "mimetype": "text/x-python",
   "name": "python",
   "nbconvert_exporter": "python",
   "pygments_lexer": "ipython3",
   "version": "3.6.5"
  }
 },
 "nbformat": 4,
 "nbformat_minor": 2
}
