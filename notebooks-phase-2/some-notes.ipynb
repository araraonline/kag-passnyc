{
 "cells": [
  {
   "cell_type": "markdown",
   "metadata": {},
   "source": [
    "# PASSNYC Notes\n",
    "\n",
    "#### Pass the notes to trello later!\n",
    "\n",
    "PASSNYC acts like a router, showing direction to students, and as a promoter, promoting the SHSAT test and letting more unfortunate folks register for it.\n",
    "\n",
    "We may help them in both directions... And, we may help them in lots of ways:\n",
    "\n",
    "- As a router, we may find a way to give access to resources, localize them, provide a compilation or whatsoever\n",
    "- As a router, it may be also useful that students find them... How? Internet, publicity, etc. SEO would be a nice feat\n",
    "- As a router, they must learn what children want and how to best serve them\n",
    "- As a promoter, we can help them find schools where it would be most useful to promote itself and SHSAT\n",
    "- And, we can *help them develop knowledge to find those schools* and the students with the right choices\n",
    "- This way, they can learn and provide a better future for every one of the children involved!\n",
    "\n",
    "\n",
    "\n",
    "\n",
    "*granular survey info may be useful!*"
   ]
  },
  {
   "cell_type": "markdown",
   "metadata": {},
   "source": [
    "consider the location of PASSNYC in the map"
   ]
  }
 ],
 "metadata": {
  "kernelspec": {
   "display_name": "Python 3",
   "language": "python",
   "name": "python3"
  },
  "language_info": {
   "codemirror_mode": {
    "name": "ipython",
    "version": 3
   },
   "file_extension": ".py",
   "mimetype": "text/x-python",
   "name": "python",
   "nbconvert_exporter": "python",
   "pygments_lexer": "ipython3",
   "version": "3.6.5"
  }
 },
 "nbformat": 4,
 "nbformat_minor": 2
}
