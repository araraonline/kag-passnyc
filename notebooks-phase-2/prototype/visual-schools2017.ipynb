{
 "cells": [
  {
   "cell_type": "markdown",
   "metadata": {},
   "source": [
    "# (prototype) Visual Schools 2017\n",
    "\n",
    "This notebook will transform the schools2017 DataFrame into one that can be better visualized."
   ]
  },
  {
   "cell_type": "code",
   "execution_count": null,
   "metadata": {},
   "outputs": [],
   "source": [
    "# imports\n",
    "\n",
    "\n",
    "import numpy as np\n",
    "import pandas as pd\n",
    "\n",
    "pd.set_option('display.max_columns', None)"
   ]
  },
  {
   "cell_type": "code",
   "execution_count": null,
   "metadata": {},
   "outputs": [],
   "source": [
    "# functions\n",
    "\n",
    "\n",
    "def standardize(values):   \n",
    "    x = np.array(values)\n",
    "    \n",
    "    # extract non-na values\n",
    "    x = x[~np.isnan(x)]\n",
    "    assert len(x) > 0\n",
    "    \n",
    "    # compute statistics\n",
    "    mean = x.mean()\n",
    "    std = x.std()\n",
    "    \n",
    "    return (values - mean) / std\n",
    "\n",
    "f_0 = lambda f: '{:.0f}'.format(f)\n",
    "f_2 = lambda f: '{:.2f}'.format(f)\n",
    "f_pct = lambda f: '{:.0%}'.format(f)"
   ]
  },
  {
   "cell_type": "code",
   "execution_count": null,
   "metadata": {},
   "outputs": [],
   "source": [
    "# groups of columns\n",
    "\n",
    "\n",
    "standardize_columns = [\n",
    "    'Mean Scale Score - ELA',\n",
    "    'Mean Scale Score - Math',\n",
    "]\n",
    "\n",
    "scale_pct_columns = [\n",
    "    '% Level 2 - ELA',\n",
    "    '% Level 3 - ELA',\n",
    "    '% Level 4 - ELA',\n",
    "    '% Level 2 - Math',\n",
    "    '% Level 3 - Math',\n",
    "    '% Level 4 - Math',\n",
    "]\n",
    "\n",
    "f0_columns = [\n",
    "    '# Students in HS Admissions',\n",
    "]\n",
    "\n",
    "f2_columns = [\n",
    "    'Latitude',\n",
    "    'Longitude',\n",
    "    'Mean Scale Score - ELA',\n",
    "    'Mean Scale Score - Math',\n",
    "]\n",
    "\n",
    "pct_columns = [\n",
    "    'Percent Asian',\n",
    "    'Percent Black',\n",
    "    'Percent Hispanic',\n",
    "    'Percent White',\n",
    "    'Percent Other',\n",
    "    'Percent English Language Learners',\n",
    "    'Percent Students with Disabilities',\n",
    "    'Percent of Students Chronically Absent',\n",
    "    'Economic Need Index',\n",
    "    '% Level 2 - ELA',\n",
    "    '% Level 3 - ELA',\n",
    "    '% Level 4 - ELA',\n",
    "    '% Level 2 - Math',\n",
    "    '% Level 3 - Math',\n",
    "    '% Level 4 - Math',\n",
    "]"
   ]
  },
  {
   "cell_type": "code",
   "execution_count": null,
   "metadata": {},
   "outputs": [],
   "source": [
    "# core\n",
    "\n",
    "\n",
    "df = pd.read_pickle('../data/process/schools2017.pkl')\n",
    "\n",
    "# unique oprations\n",
    "df['Charter School?'] = df['Charter School?'].apply(lambda x: 'Yes' if x else 'No')\n",
    "df['Borough'] = df['Borough'].str.capitalize()\n",
    "df['Borough'] = df['Borough'].apply(lambda x: 'Staten Island' if x == 'Staten_island' else x)\n",
    "df = df.loc[:, :'# Students in HS Admissions']\n",
    "\n",
    "# operations on multiple columns\n",
    "for c in scale_pct_columns:\n",
    "    df[c] = df[c] / 100.0\n",
    "    \n",
    "for c in standardize_columns:\n",
    "    df[c] = standardize(df[c])\n",
    "\n",
    "for c in f0_columns:\n",
    "    df[c] = df[c].apply(f_0)\n",
    "\n",
    "for c in f2_columns:\n",
    "    df[c] = df[c].apply(f_2)\n",
    "    \n",
    "for c in pct_columns:\n",
    "    df[c] = df[c].apply(f_pct)"
   ]
  },
  {
   "cell_type": "code",
   "execution_count": null,
   "metadata": {},
   "outputs": [],
   "source": [
    "df.head()"
   ]
  }
 ],
 "metadata": {
  "kernelspec": {
   "display_name": "Python 3",
   "language": "python",
   "name": "python3"
  },
  "language_info": {
   "codemirror_mode": {
    "name": "ipython",
    "version": 3
   },
   "file_extension": ".py",
   "mimetype": "text/x-python",
   "name": "python",
   "nbconvert_exporter": "python",
   "pygments_lexer": "ipython3",
   "version": "3.6.5"
  }
 },
 "nbformat": 4,
 "nbformat_minor": 2
}
