{
 "cells": [
  {
   "cell_type": "markdown",
   "metadata": {},
   "source": [
    "# Optimal Parameters for Stat model\n",
    "\n",
    "In this notebook, I will try to find the optimal parameters to predict the amount of SHSAT applicants, based on the statistical distribution of grades."
   ]
  },
  {
   "cell_type": "markdown",
   "metadata": {},
   "source": [
    "## Prepare\n",
    "\n",
    "First, I need to find a good distribution of grades for each school. We will use the Beta distribution, since it fits well and has bounds."
   ]
  },
  {
   "cell_type": "code",
   "execution_count": 11,
   "metadata": {},
   "outputs": [],
   "source": [
    "import matplotlib.pyplot as plt\n",
    "import numpy as np\n",
    "import pandas as pd\n",
    "import seaborn as sns\n",
    "from scipy.optimize import curve_fit, least_squares\n",
    "from scipy.special import expit, logit\n",
    "from scipy.stats import beta\n",
    "from sklearn.metrics import r2_score"
   ]
  },
  {
   "cell_type": "code",
   "execution_count": 2,
   "metadata": {},
   "outputs": [
    {
     "data": {
      "text/html": [
       "<div>\n",
       "<style scoped>\n",
       "    .dataframe tbody tr th:only-of-type {\n",
       "        vertical-align: middle;\n",
       "    }\n",
       "\n",
       "    .dataframe tbody tr th {\n",
       "        vertical-align: top;\n",
       "    }\n",
       "\n",
       "    .dataframe thead th {\n",
       "        text-align: right;\n",
       "    }\n",
       "</style>\n",
       "<table border=\"1\" class=\"dataframe\">\n",
       "  <thead>\n",
       "    <tr style=\"text-align: right;\">\n",
       "      <th></th>\n",
       "      <th>% Level 1 - Math</th>\n",
       "      <th>% Level 2 - Math</th>\n",
       "      <th>% Level 3 - Math</th>\n",
       "      <th>% Level 4 - Math</th>\n",
       "    </tr>\n",
       "    <tr>\n",
       "      <th>DBN</th>\n",
       "      <th></th>\n",
       "      <th></th>\n",
       "      <th></th>\n",
       "      <th></th>\n",
       "    </tr>\n",
       "  </thead>\n",
       "  <tbody>\n",
       "    <tr>\n",
       "      <th>01M034</th>\n",
       "      <td>0.519231</td>\n",
       "      <td>0.346154</td>\n",
       "      <td>0.134615</td>\n",
       "      <td>0.000000</td>\n",
       "    </tr>\n",
       "    <tr>\n",
       "      <th>01M140</th>\n",
       "      <td>0.473684</td>\n",
       "      <td>0.385965</td>\n",
       "      <td>0.140351</td>\n",
       "      <td>0.000000</td>\n",
       "    </tr>\n",
       "    <tr>\n",
       "      <th>01M184</th>\n",
       "      <td>0.096386</td>\n",
       "      <td>0.168675</td>\n",
       "      <td>0.289157</td>\n",
       "      <td>0.445783</td>\n",
       "    </tr>\n",
       "    <tr>\n",
       "      <th>01M301</th>\n",
       "      <td>0.487805</td>\n",
       "      <td>0.365854</td>\n",
       "      <td>0.121951</td>\n",
       "      <td>0.024390</td>\n",
       "    </tr>\n",
       "    <tr>\n",
       "      <th>01M332</th>\n",
       "      <td>0.576271</td>\n",
       "      <td>0.305085</td>\n",
       "      <td>0.084746</td>\n",
       "      <td>0.033898</td>\n",
       "    </tr>\n",
       "  </tbody>\n",
       "</table>\n",
       "</div>"
      ],
      "text/plain": [
       "        % Level 1 - Math  % Level 2 - Math  % Level 3 - Math  % Level 4 - Math\n",
       "DBN                                                                           \n",
       "01M034          0.519231          0.346154          0.134615          0.000000\n",
       "01M140          0.473684          0.385965          0.140351          0.000000\n",
       "01M184          0.096386          0.168675          0.289157          0.445783\n",
       "01M301          0.487805          0.365854          0.121951          0.024390\n",
       "01M332          0.576271          0.305085          0.084746          0.033898"
      ]
     },
     "execution_count": 2,
     "metadata": {},
     "output_type": "execute_result"
    }
   ],
   "source": [
    "df = pd.read_pickle('../data/process/schools2017.pkl')\n",
    "df = df[df['# SHSAT Testers'].notnull()]\n",
    "\n",
    "# let's use Math scores only\n",
    "mean_scores = df['Mean Scale Score - Math']\n",
    "\n",
    "# % SHSAT Testers\n",
    "percentage_shsat_testers = (df['# SHSAT Testers'] / df['# Students Grade 8']).values\n",
    "\n",
    "# columns\n",
    "columns = ['% Level 1 - Math', '% Level 2 - Math', '% Level 3 - Math', '% Level 4 - Math']\n",
    "df = df[columns] / 100\n",
    "\n",
    "df.head()"
   ]
  },
  {
   "cell_type": "code",
   "execution_count": 3,
   "metadata": {},
   "outputs": [],
   "source": [
    "# ranges retrieved from the NYS site\n",
    "ranges = np.array([[160, 292], \n",
    "                   [293, 321], \n",
    "                   [322, 347], \n",
    "                   [348, 401]])\n",
    "\n",
    "def scale(x):\n",
    "    # scale grade [0, 1]\n",
    "    return (x - ranges.min()) / (ranges.max() - ranges.min())\n",
    "\n",
    "scaled_means = scale(mean_scores)\n",
    "scaled_ranges = scale(ranges)"
   ]
  },
  {
   "cell_type": "code",
   "execution_count": 4,
   "metadata": {},
   "outputs": [],
   "source": [
    "beta_a_list = []\n",
    "beta_b_list = []\n",
    "\n",
    "# calculate distribution parameters\n",
    "for DBN, row in df.iterrows(): \n",
    "    # compute cdf\n",
    "    xs = scaled_ranges[:, 1]\n",
    "    ys = np.cumsum(row).values\n",
    "    xs = np.insert(xs, 0, 0)\n",
    "    ys = np.insert(ys, 0, 0)\n",
    "    \n",
    "    # estimate parameters\n",
    "    mean = scaled_means.loc[DBN]\n",
    "    def cdf(x, a):\n",
    "        b = a / mean - a \n",
    "        return beta.cdf(x, a, b)\n",
    "    popt, pcov = curve_fit(cdf, xs, ys)\n",
    "    \n",
    "    a = popt[0]\n",
    "    b = a / mean - a\n",
    "    \n",
    "    # save results    \n",
    "    beta_a_list.append(a)\n",
    "    beta_b_list.append(b)"
   ]
  },
  {
   "cell_type": "code",
   "execution_count": 5,
   "metadata": {},
   "outputs": [
    {
     "data": {
      "text/html": [
       "<div>\n",
       "<style scoped>\n",
       "    .dataframe tbody tr th:only-of-type {\n",
       "        vertical-align: middle;\n",
       "    }\n",
       "\n",
       "    .dataframe tbody tr th {\n",
       "        vertical-align: top;\n",
       "    }\n",
       "\n",
       "    .dataframe thead th {\n",
       "        text-align: right;\n",
       "    }\n",
       "</style>\n",
       "<table border=\"1\" class=\"dataframe\">\n",
       "  <thead>\n",
       "    <tr style=\"text-align: right;\">\n",
       "      <th></th>\n",
       "      <th>% Level 1 - Math</th>\n",
       "      <th>% Level 2 - Math</th>\n",
       "      <th>% Level 3 - Math</th>\n",
       "      <th>% Level 4 - Math</th>\n",
       "      <th>beta_a</th>\n",
       "      <th>beta_b</th>\n",
       "    </tr>\n",
       "    <tr>\n",
       "      <th>DBN</th>\n",
       "      <th></th>\n",
       "      <th></th>\n",
       "      <th></th>\n",
       "      <th></th>\n",
       "      <th></th>\n",
       "      <th></th>\n",
       "    </tr>\n",
       "  </thead>\n",
       "  <tbody>\n",
       "    <tr>\n",
       "      <th>01M034</th>\n",
       "      <td>0.519231</td>\n",
       "      <td>0.346154</td>\n",
       "      <td>0.134615</td>\n",
       "      <td>0.000000</td>\n",
       "      <td>7.107023</td>\n",
       "      <td>6.492796</td>\n",
       "    </tr>\n",
       "    <tr>\n",
       "      <th>01M140</th>\n",
       "      <td>0.473684</td>\n",
       "      <td>0.385965</td>\n",
       "      <td>0.140351</td>\n",
       "      <td>0.000000</td>\n",
       "      <td>10.409486</td>\n",
       "      <td>8.704954</td>\n",
       "    </tr>\n",
       "    <tr>\n",
       "      <th>01M184</th>\n",
       "      <td>0.096386</td>\n",
       "      <td>0.168675</td>\n",
       "      <td>0.289157</td>\n",
       "      <td>0.445783</td>\n",
       "      <td>7.314128</td>\n",
       "      <td>2.495091</td>\n",
       "    </tr>\n",
       "    <tr>\n",
       "      <th>01M301</th>\n",
       "      <td>0.487805</td>\n",
       "      <td>0.365854</td>\n",
       "      <td>0.121951</td>\n",
       "      <td>0.024390</td>\n",
       "      <td>7.264913</td>\n",
       "      <td>6.392738</td>\n",
       "    </tr>\n",
       "    <tr>\n",
       "      <th>01M332</th>\n",
       "      <td>0.576271</td>\n",
       "      <td>0.305085</td>\n",
       "      <td>0.084746</td>\n",
       "      <td>0.033898</td>\n",
       "      <td>5.617874</td>\n",
       "      <td>5.505999</td>\n",
       "    </tr>\n",
       "  </tbody>\n",
       "</table>\n",
       "</div>"
      ],
      "text/plain": [
       "        % Level 1 - Math  % Level 2 - Math  % Level 3 - Math  \\\n",
       "DBN                                                            \n",
       "01M034          0.519231          0.346154          0.134615   \n",
       "01M140          0.473684          0.385965          0.140351   \n",
       "01M184          0.096386          0.168675          0.289157   \n",
       "01M301          0.487805          0.365854          0.121951   \n",
       "01M332          0.576271          0.305085          0.084746   \n",
       "\n",
       "        % Level 4 - Math     beta_a    beta_b  \n",
       "DBN                                            \n",
       "01M034          0.000000   7.107023  6.492796  \n",
       "01M140          0.000000  10.409486  8.704954  \n",
       "01M184          0.445783   7.314128  2.495091  \n",
       "01M301          0.024390   7.264913  6.392738  \n",
       "01M332          0.033898   5.617874  5.505999  "
      ]
     },
     "execution_count": 5,
     "metadata": {},
     "output_type": "execute_result"
    }
   ],
   "source": [
    "df['beta_a'] = beta_a_list\n",
    "df['beta_b'] = beta_b_list\n",
    "\n",
    "df.head()"
   ]
  },
  {
   "cell_type": "code",
   "execution_count": 72,
   "metadata": {},
   "outputs": [
    {
     "data": {
      "image/png": "[encoded data removed]",
      "text/plain": [
       "<Figure size 432x288 with 1 Axes>"
      ]
     },
     "metadata": {},
     "output_type": "display_data"
    }
   ],
   "source": [
    "# check random entry (CDF)\n",
    "\n",
    "sample = df.sample(1, random_state=1).iloc[0]\n",
    "sample = df.iloc[4]\n",
    "\n",
    "fig, ax = plt.subplots()\n",
    "\n",
    "# plot real values\n",
    "xs = ranges[:, 1]\n",
    "xs = np.insert(xs, 0, ranges.min())\n",
    "ys = sample.iloc[:4].values.cumsum()\n",
    "ys = np.insert(ys, 0, 0)\n",
    "ax.plot(xs, ys, 'bo')\n",
    "\n",
    "# plot fitted curve\n",
    "xs = np.linspace(ranges.min(), ranges.max(), 1000)\n",
    "ys = beta.cdf(xs, sample.beta_a, sample.beta_b, loc=ranges.min(), scale=ranges.ptp())\n",
    "ax.plot(xs, ys, 'r-');"
   ]
  },
  {
   "cell_type": "code",
   "execution_count": 60,
   "metadata": {},
   "outputs": [
    {
     "data": {
      "image/png": "[encoded data removed]",
      "text/plain": [
       "<Figure size 432x288 with 2 Axes>"
      ]
     },
     "metadata": {},
     "output_type": "display_data"
    }
   ],
   "source": [
    "# check random entry (PDF)\n",
    "\n",
    "sample = df.sample(1, random_state=1).iloc[0]\n",
    "\n",
    "fig, ax1 = plt.subplots()\n",
    "ax2 = ax1.twinx()\n",
    "\n",
    "xs = ranges.mean(axis=1)\n",
    "widths = ranges.ptp(axis=1)\n",
    "ys = sample.iloc[:4]\n",
    "ax1.bar(xs, ys, width=widths)\n",
    "\n",
    "xs = np.linspace(ranges.min(), ranges.max(), 1000)\n",
    "ys = beta.pdf(xs, sample.beta_a, sample.beta_b, loc=ranges.min(), scale=ranges.ptp())\n",
    "ax2.plot(xs, ys, color='red')\n",
    "\n",
    "ax1.set_ylim(0, None)\n",
    "ax2.set_ylim(0, None);"
   ]
  },
  {
   "cell_type": "markdown",
   "metadata": {},
   "source": [
    "## Find optimal parameters\n",
    "\n",
    "Here we will transform each distribution into an expected percentage of applicants. This function takes 2 parameters. We will use OLS (ordinary least squares) to optimize them."
   ]
  },
  {
   "cell_type": "code",
   "execution_count": 73,
   "metadata": {},
   "outputs": [],
   "source": [
    "# a and b are the parameters we want to find\n",
    "# target is the logit of the percentage of appliers\n",
    "\n",
    "def grade_to_target(grade, a, b):\n",
    "    return a * grade + b\n",
    "    \n",
    "def expected_target(a, b, beta_a, beta_b):\n",
    "    return beta.expect(lambda x: grade_to_target(x, a, b),\n",
    "                       args=(beta_a, beta_b),\n",
    "                       loc=ranges.min(),\n",
    "                       scale=ranges.ptp())\n",
    "\n",
    "# least squares\n",
    "targets = logit(percentage_shsat_testers)\n",
    "beta_parameters = df.iloc[:, -2:].values\n",
    "\n",
    "def optfun(x):\n",
    "    a = x[0]\n",
    "    b = x[1]\n",
    "    \n",
    "    residuals = []\n",
    "    for target, (beta_a, beta_b) in zip(targets, beta_parameters):\n",
    "        residual = expected_target(a, b, beta_a, beta_b) - target\n",
    "        residuals.append(residual)\n",
    "    \n",
    "    return np.array(residuals)        \n",
    "\n",
    "result = least_squares(optfun, [1, 1], method='lm')"
   ]
  },
  {
   "cell_type": "code",
   "execution_count": 81,
   "metadata": {},
   "outputs": [
    {
     "data": {
      "text/plain": [
       "array([-1.48486781, -1.29520656,  0.43761904, -1.40430121, -1.63615906])"
      ]
     },
     "execution_count": 81,
     "metadata": {},
     "output_type": "execute_result"
    }
   ],
   "source": [
    "opt_a, opt_b = result.x\n",
    "\n",
    "values = [expected_target(opt_a, opt_b, row.beta_a, row.beta_b) for _, row in df.iterrows()]\n",
    "values = np.array(values)\n",
    "values[:5]"
   ]
  },
  {
   "cell_type": "code",
   "execution_count": 83,
   "metadata": {},
   "outputs": [
    {
     "name": "stdout",
     "output_type": "stream",
     "text": [
      "R2 Score: 0.5378263998352187\n"
     ]
    },
    {
     "data": {
      "image/png": "[encoded data removed]",
      "text/plain": [
       "<Figure size 1152x288 with 1 Axes>"
      ]
     },
     "metadata": {},
     "output_type": "display_data"
    }
   ],
   "source": [
    "plt.figure(figsize=(16, 4))\n",
    "sns.residplot(values, targets)\n",
    "print(\"R2 Score:\", r2_score(targets, values))"
   ]
  },
  {
   "cell_type": "markdown",
   "metadata": {},
   "source": [
    "This values is worse than a model only using the mean of the grades. Is the model not good enough? Is it optimizing its parameters correctly?\n",
    "\n",
    "We basked ourselves in lots of assumptions, and, maybe, these assumptions don't hold true. This may have broken our result."
   ]
  },
  {
   "cell_type": "code",
   "execution_count": 84,
   "metadata": {},
   "outputs": [
    {
     "data": {
      "text/plain": [
       "[<matplotlib.lines.Line2D at 0x7f1b98d555c0>]"
      ]
     },
     "execution_count": 84,
     "metadata": {},
     "output_type": "execute_result"
    },
    {
     "data": {
      "image/png": "[encoded data removed]",
      "text/plain": [
       "<Figure size 432x288 with 1 Axes>"
      ]
     },
     "metadata": {},
     "output_type": "display_data"
    }
   ],
   "source": [
    "xs = np.linspace(ranges.min(), ranges.max(), 1000)\n",
    "ys = expit(grade_to_target(xs, opt_a, opt_b))\n",
    "\n",
    "plt.plot(xs, ys)\n",
    "\n",
    "# this looks beliavable\n",
    "# maybe if we combine this with the paper result...\n",
    "# but the gains won't be too much though\n",
    "\n",
    "# so, maybe, we are better off using the mean\n",
    "# or using the test avalues from after the SHSAT"
   ]
  }
 ],
 "metadata": {
  "kernelspec": {
   "display_name": "Python 3",
   "language": "python",
   "name": "python3"
  },
  "language_info": {
   "codemirror_mode": {
    "name": "ipython",
    "version": 3
   },
   "file_extension": ".py",
   "mimetype": "text/x-python",
   "name": "python",
   "nbconvert_exporter": "python",
   "pygments_lexer": "ipython3",
   "version": "3.6.5"
  }
 },
 "nbformat": 4,
 "nbformat_minor": 2
}
